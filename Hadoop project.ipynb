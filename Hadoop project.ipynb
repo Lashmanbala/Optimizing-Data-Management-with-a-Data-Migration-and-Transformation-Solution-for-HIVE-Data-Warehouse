{
 "cells": [
  {
   "cell_type": "code",
   "execution_count": 1,
   "id": "2ae32207-31a1-4e19-b6a8-be2e4863086d",
   "metadata": {},
   "outputs": [],
   "source": [
    "import boto3\n",
    "import requests\n",
    "import zipfile\n",
    "import os\n",
    "import pandas as pd\n",
    "import json\n",
    "import pymongo\n",
    "import io"
   ]
  },
  {
   "cell_type": "code",
   "execution_count": 2,
   "id": "2a73ac48-53fb-4a68-aa04-5d204e778049",
   "metadata": {
    "execution": {
     "iopub.execute_input": "2023-03-30T12:00:10.522389Z",
     "iopub.status.busy": "2023-03-30T12:00:10.522167Z",
     "iopub.status.idle": "2023-03-30T12:00:10.525537Z",
     "shell.execute_reply": "2023-03-30T12:00:10.524834Z",
     "shell.execute_reply.started": "2023-03-30T12:00:10.522366Z"
    },
    "tags": []
   },
   "outputs": [],
   "source": [
    "import subprocess"
   ]
  },
  {
   "cell_type": "code",
   "execution_count": 3,
   "id": "076f5dc7-1def-45dc-97a3-f71439553ea2",
   "metadata": {},
   "outputs": [
    {
     "name": "stdout",
     "output_type": "stream",
     "text": [
      "Successfully Session Created\n"
     ]
    }
   ],
   "source": [
    "try:\n",
    "  session = boto3.Session(region_name='ap-south-1',\n",
    "                          aws_access_key_id = os.environ.get('AWS_ACCESS_KEY_ID'),\n",
    "                          aws_secret_access_key = os.environ.get('AWS_SECRET_ACCESS_KEY'))\n",
    "  print('Successfully Session Created')\n",
    "except Exception as e:\n",
    "  print(e)"
   ]
  },
  {
   "cell_type": "code",
   "execution_count": 4,
   "id": "f3c6987b-97ac-498e-9bf6-7e49f019f8e4",
   "metadata": {},
   "outputs": [
    {
     "name": "stdout",
     "output_type": "stream",
     "text": [
      "Successfully s3 client created\n"
     ]
    }
   ],
   "source": [
    "try:\n",
    "  s3 = session.client(service_name='s3',region_name='ap-south-1')\n",
    "  print('Successfully s3 client created')\n",
    "except Exception as e:\n",
    "  print(e)"
   ]
  },
  {
   "cell_type": "code",
   "execution_count": 5,
   "id": "265309eb-4871-4233-84a8-6ca9ab10b8bb",
   "metadata": {},
   "outputs": [
    {
     "name": "stdout",
     "output_type": "stream",
     "text": [
      "analytical-data-bucket\n",
      "aws-glue-assets-894034347035-ap-south-1\n",
      "bucket-athena-result\n",
      "bucket-for-glue-script\n",
      "bucket-for-lambda-function\n",
      "cleaned-json-as-csv\n",
      "raw-csv-from-jupyter\n",
      "raw-csv-test123\n",
      "raw-data-from-webpage\n",
      "raw-json-from-jupyter\n",
      "raw-json-test123\n"
     ]
    }
   ],
   "source": [
    "for i in s3.list_buckets().get('Buckets'):\n",
    "    print(i['Name'])"
   ]
  },
  {
   "cell_type": "code",
   "execution_count": 62,
   "id": "f596f160-8640-41a1-8ba7-eb64ae65fb8a",
   "metadata": {},
   "outputs": [
    {
     "name": "stdout",
     "output_type": "stream",
     "text": [
      "successfully got the zipfile from url\n"
     ]
    }
   ],
   "source": [
    "try:\n",
    "    url = 'https://www.sec.gov/Archives/edgar/daily-index/bulkdata/submissions.zip'\n",
    "\n",
    "    headers = {'user-agent':\n",
    "        'Mozilla/5.0 (Windows NT 10.0; Win64; x64) AppleWebKit/537.36 (KHTML, like Gecko) Chrome/109.0.0.0 Safari/537.36 Edg/109.0.1518.55'}\n",
    "\n",
    "    response = requests.get(url,headers = headers,stream=True)\n",
    "\n",
    "    content = response.content\n",
    "    \n",
    "    print('successfully got the zipfile from url')\n",
    "    \n",
    "except Exception as e:\n",
    "    print(e)"
   ]
  },
  {
   "cell_type": "code",
   "execution_count": 62,
   "id": "fb2dd3f0-11ce-42e6-9b88-6c34f2e781d4",
   "metadata": {},
   "outputs": [
    {
     "name": "stdout",
     "output_type": "stream",
     "text": [
      "successfully got the zipfile from url\n"
     ]
    }
   ],
   "source": [
    "try:\n",
    "    url = 'https://www.sec.gov/Archives/edgar/daily-index/bulkdata/submissions.zip'\n",
    "\n",
    "    headers = {'user-agent':\n",
    "        'Mozilla/5.0 (Windows NT 10.0; Win64; x64) AppleWebKit/537.36 (KHTML, like Gecko) Chrome/109.0.0.0 Safari/537.36 Edg/109.0.1518.55'}\n",
    "\n",
    "    response = requests.get(url,headers = headers,stream=True)\n",
    "\n",
    "    content = response.content\n",
    "    \n",
    "    print('successfully got the zipfile from url')\n",
    "    \n",
    "except Exception as e:\n",
    "    print(e)"
   ]
  },
  {
   "cell_type": "code",
   "execution_count": 64,
   "id": "71d99419-ad21-4e57-85ed-a86f82fd4722",
   "metadata": {},
   "outputs": [
    {
     "name": "stdout",
     "output_type": "stream",
     "text": [
      "successfully extracted and uploaded in the unzipped folder\n"
     ]
    }
   ],
   "source": [
    "try:\n",
    "    bucket_name = 'raw-data-from-webpage'\n",
    "    file_path = 'largefile/file.zip'\n",
    "\n",
    "    obj = s3.get_object(Bucket = bucket_name, Key = file_path)\n",
    "\n",
    "    zip_file = io.BytesIO(obj['Body'].read())\n",
    "\n",
    "    with zipfile.ZipFile(zip_file) as z:\n",
    "      z.extractall()\n",
    "\n",
    "    for file in z.namelist():\n",
    "      s3.upload_file(Filename = file, Bucket = bucket_name, Key = 'unzipped/' + file)\n",
    "    \n",
    "    print('successfully extracted and uploaded in the unzipped folder')\n",
    "    \n",
    "except Exception as e:\n",
    "    print(e)"
   ]
  },
  {
   "cell_type": "code",
   "execution_count": 23,
   "id": "159bdd33-1f1c-4d6c-947c-6a7b26556d6f",
   "metadata": {
    "scrolled": true
   },
   "outputs": [
    {
     "name": "stdout",
     "output_type": "stream",
     "text": [
      "unzipped/CIK0000000003.json\n",
      "unzipped/CIK0000000013.json\n",
      "unzipped/CIK0000000014.json\n",
      "unzipped/CIK0000000017.json\n",
      "unzipped/CIK0000000018.json\n",
      "unzipped/CIK0000000020.json\n",
      "unzipped/CIK0000000049.json\n",
      "unzipped/CIK0000000051.json\n",
      "unzipped/CIK0000000063.json\n",
      "unzipped/CIK0000001750-submissions-001.json\n",
      "unzipped/CIK0000001750.json\n",
      "unzipped/CIK0000001761.json\n",
      "unzipped/CIK0000001800-submissions-001.json\n",
      "unzipped/CIK0000001800-submissions-002.json\n",
      "unzipped/CIK0000001800.json\n",
      "unzipped/CIK0000001830.json\n",
      "unzipped/CIK0000001841.json\n",
      "unzipped/CIK0000001848.json\n",
      "unzipped/CIK0000001853.json\n",
      "unzipped/CIK0000001860.json\n",
      "unzipped/CIK0000001904.json\n",
      "unzipped/CIK0000001918.json\n",
      "unzipped/CIK0000001923.json\n",
      "unzipped/CIK0000001947.json\n",
      "unzipped/CIK0000001952.json\n",
      "unzipped/CIK0000001958.json\n",
      "unzipped/CIK0000001961.json\n",
      "unzipped/CIK0000001969.json\n",
      "unzipped/CIK0000001985.json\n",
      "unzipped/CIK0000001988.json\n",
      "unzipped/CIK0000002024.json\n",
      "unzipped/CIK0000002034-submissions-001.json\n",
      "unzipped/CIK0000002034.json\n",
      "unzipped/CIK0000002036.json\n",
      "unzipped/CIK0000002062.json\n",
      "unzipped/CIK0000002066.json\n",
      "unzipped/CIK0000002070.json\n",
      "unzipped/CIK0000002071.json\n",
      "unzipped/CIK0000002093.json\n",
      "unzipped/CIK0000002098.json\n",
      "unzipped/CIK0000002110.json\n",
      "unzipped/CIK0000002135-submissions-001.json\n",
      "unzipped/CIK0000002135.json\n",
      "unzipped/CIK0000002145.json\n",
      "unzipped/CIK0000002178.json\n",
      "unzipped/CIK0000002186.json\n",
      "unzipped/CIK0000002230.json\n",
      "unzipped/CIK0000002303.json\n",
      "unzipped/CIK0000002308.json\n",
      "unzipped/CIK0000002310.json\n",
      "unzipped/CIK0000002380.json\n",
      "unzipped/CIK0000002381.json\n",
      "unzipped/CIK0000002435.json\n",
      "unzipped/CIK0000002457.json\n",
      "unzipped/CIK0000002467.json\n",
      "unzipped/CIK0000002473.json\n",
      "unzipped/CIK0000002488-submissions-001.json\n",
      "unzipped/CIK0000002488.json\n",
      "unzipped/CIK0000002491.json\n",
      "unzipped/CIK0000002554.json\n",
      "unzipped/CIK0000002589.json\n",
      "unzipped/CIK0000002601.json\n",
      "unzipped/CIK0000002619.json\n",
      "unzipped/CIK0000002636.json\n",
      "unzipped/CIK0000002646.json\n",
      "unzipped/CIK0000002648.json\n",
      "unzipped/CIK0000002663.json\n",
      "unzipped/CIK0000002664.json\n",
      "unzipped/CIK0000002668.json\n",
      "unzipped/CIK0000002691.json\n",
      "unzipped/CIK0000002702.json\n",
      "unzipped/CIK0000002732.json\n",
      "unzipped/CIK0000002741.json\n",
      "unzipped/CIK0000002745.json\n",
      "unzipped/CIK0000002768.json\n",
      "unzipped/CIK0000002781.json\n",
      "unzipped/CIK0000002784.json\n",
      "unzipped/CIK0000002809.json\n",
      "unzipped/CIK0000002817.json\n",
      "unzipped/CIK0000002825.json\n",
      "unzipped/CIK0000002834.json\n",
      "unzipped/CIK0000002852.json\n",
      "unzipped/CIK0000002869.json\n",
      "unzipped/CIK0000002880.json\n",
      "unzipped/CIK0000002903.json\n",
      "unzipped/CIK0000002915.json\n",
      "unzipped/CIK0000002969-submissions-001.json\n",
      "unzipped/CIK0000002969.json\n",
      "unzipped/CIK0000003000.json\n",
      "unzipped/CIK0000003070.json\n",
      "unzipped/CIK0000003116-submissions-001.json\n",
      "unzipped/CIK0000003116.json\n",
      "unzipped/CIK0000003124.json\n",
      "unzipped/CIK0000003133.json\n",
      "unzipped/CIK0000003146.json\n",
      "unzipped/CIK0000003153.json\n",
      "unzipped/CIK0000003155.json\n",
      "unzipped/CIK0000003158.json\n",
      "unzipped/CIK0000003197-submissions-001.json\n",
      "unzipped/CIK0000003197.json\n",
      "unzipped/CIK0000003202.json\n",
      "unzipped/CIK0000003228.json\n",
      "unzipped/CIK0000003270.json\n",
      "unzipped/CIK0000003292.json\n",
      "unzipped/CIK0000003303.json\n",
      "unzipped/CIK0000003327.json\n",
      "unzipped/CIK0000003333.json\n",
      "unzipped/CIK0000003370-submissions-001.json\n",
      "unzipped/CIK0000003370.json\n",
      "unzipped/CIK0000003398.json\n",
      "unzipped/CIK0000003433.json\n",
      "unzipped/CIK0000003449.json\n",
      "unzipped/CIK0000003453-submissions-001.json\n",
      "unzipped/CIK0000003453.json\n",
      "unzipped/CIK0000003475.json\n",
      "unzipped/CIK0000003499.json\n",
      "unzipped/CIK0000003520.json\n",
      "unzipped/CIK0000003521-submissions-001.json\n",
      "unzipped/CIK0000003521.json\n",
      "unzipped/CIK0000003530.json\n",
      "unzipped/CIK0000003535.json\n",
      "unzipped/CIK0000003545-submissions-001.json\n",
      "unzipped/CIK0000003545.json\n",
      "unzipped/CIK0000003559.json\n",
      "unzipped/CIK0000003565.json\n",
      "unzipped/CIK0000003570-submissions-001.json\n",
      "unzipped/CIK0000003570.json\n",
      "unzipped/CIK0000003588.json\n",
      "unzipped/CIK0000003642.json\n",
      "unzipped/CIK0000003650.json\n",
      "unzipped/CIK0000003656.json\n",
      "unzipped/CIK0000003662.json\n",
      "unzipped/CIK0000003673-submissions-001.json\n",
      "unzipped/CIK0000003673.json\n",
      "unzipped/CIK0000003683.json\n",
      "unzipped/CIK0000003711.json\n",
      "unzipped/CIK0000003721.json\n",
      "unzipped/CIK0000003753.json\n",
      "unzipped/CIK0000003794-submissions-001.json\n",
      "unzipped/CIK0000003794.json\n",
      "unzipped/CIK0000003798.json\n",
      "unzipped/CIK0000003845.json\n",
      "unzipped/CIK0000003878.json\n",
      "unzipped/CIK0000003898.json\n",
      "unzipped/CIK0000003906-submissions-001.json\n",
      "unzipped/CIK0000003906.json\n",
      "unzipped/CIK0000003933.json\n",
      "unzipped/CIK0000003941.json\n",
      "unzipped/CIK0000003952.json\n",
      "unzipped/CIK0000003959.json\n",
      "unzipped/CIK0000003972.json\n",
      "unzipped/CIK0000003975.json\n",
      "unzipped/CIK0000003982.json\n",
      "unzipped/CIK0000003995.json\n",
      "unzipped/CIK0000003999.json\n",
      "unzipped/CIK0000004123.json\n",
      "unzipped/CIK0000004127-submissions-001.json\n",
      "unzipped/CIK0000004127.json\n",
      "unzipped/CIK0000004164.json\n",
      "unzipped/CIK0000004165.json\n",
      "unzipped/CIK0000004187.json\n",
      "unzipped/CIK0000004250.json\n",
      "unzipped/CIK0000004261.json\n",
      "unzipped/CIK0000004280.json\n",
      "unzipped/CIK0000004281-submissions-001.json\n",
      "unzipped/CIK0000004281-submissions-002.json\n",
      "unzipped/CIK0000004281.json\n",
      "unzipped/CIK0000004285.json\n",
      "unzipped/CIK0000004310.json\n",
      "unzipped/CIK0000004317.json\n",
      "unzipped/CIK0000004319.json\n",
      "unzipped/CIK0000004325.json\n",
      "unzipped/CIK0000004342.json\n",
      "unzipped/CIK0000004344.json\n",
      "unzipped/CIK0000004363.json\n",
      "unzipped/CIK0000004405.json\n",
      "unzipped/CIK0000004417.json\n",
      "unzipped/CIK0000004421.json\n",
      "unzipped/CIK0000004427.json\n",
      "unzipped/CIK0000004438.json\n",
      "unzipped/CIK0000004444.json\n",
      "unzipped/CIK0000004447-submissions-001.json\n",
      "unzipped/CIK0000004447.json\n",
      "unzipped/CIK0000004457.json\n",
      "unzipped/CIK0000004458.json\n",
      "unzipped/CIK0000004471.json\n",
      "unzipped/CIK0000004507.json\n",
      "unzipped/CIK0000004515-submissions-001.json\n",
      "unzipped/CIK0000004515.json\n",
      "unzipped/CIK0000004527.json\n",
      "unzipped/CIK0000004560.json\n",
      "unzipped/CIK0000004568.json\n",
      "unzipped/CIK0000004570.json\n",
      "unzipped/CIK0000004572.json\n",
      "unzipped/CIK0000004588.json\n",
      "unzipped/CIK0000004611.json\n",
      "unzipped/CIK0000004659.json\n",
      "unzipped/CIK0000004672.json\n",
      "unzipped/CIK0000004707.json\n",
      "unzipped/CIK0000004727.json\n",
      "unzipped/CIK0000004811.json\n",
      "unzipped/CIK0000004828.json\n",
      "unzipped/CIK0000004829.json\n",
      "unzipped/CIK0000004833.json\n",
      "unzipped/CIK0000004879.json\n",
      "unzipped/CIK0000004904-submissions-001.json\n",
      "unzipped/CIK0000004904.json\n",
      "unzipped/CIK0000004911.json\n",
      "unzipped/CIK0000004926.json\n",
      "unzipped/CIK0000004960.json\n",
      "unzipped/CIK0000004962-submissions-001.json\n",
      "unzipped/CIK0000004962.json\n",
      "unzipped/CIK0000004969.json\n",
      "unzipped/CIK0000004975.json\n",
      "unzipped/CIK0000004977-submissions-001.json\n",
      "unzipped/CIK0000004977.json\n",
      "unzipped/CIK0000004980.json\n",
      "unzipped/CIK0000004995.json\n",
      "unzipped/CIK0000004999.json\n",
      "unzipped/CIK0000005006.json\n",
      "unzipped/CIK0000005007.json\n",
      "unzipped/CIK0000005009.json\n",
      "unzipped/CIK0000005016.json\n",
      "unzipped/CIK0000005075.json\n",
      "unzipped/CIK0000005076.json\n",
      "unzipped/CIK0000005094.json\n",
      "unzipped/CIK0000005096.json\n",
      "unzipped/CIK0000005099.json\n",
      "unzipped/CIK0000005100.json\n",
      "unzipped/CIK0000005103.json\n",
      "unzipped/CIK0000005108.json\n",
      "unzipped/CIK0000005114.json\n",
      "unzipped/CIK0000005115.json\n",
      "unzipped/CIK0000005117.json\n",
      "unzipped/CIK0000005133-submissions-001.json\n",
      "unzipped/CIK0000005133.json\n",
      "unzipped/CIK0000005138.json\n",
      "unzipped/CIK0000005139.json\n",
      "unzipped/CIK0000005172.json\n",
      "unzipped/CIK0000005177.json\n",
      "unzipped/CIK0000005181.json\n",
      "unzipped/CIK0000005187.json\n",
      "unzipped/CIK0000005197.json\n",
      "unzipped/CIK0000005207.json\n",
      "unzipped/CIK0000005216.json\n",
      "unzipped/CIK0000005227.json\n",
      "unzipped/CIK0000005261.json\n",
      "unzipped/CIK0000005270.json\n",
      "unzipped/CIK0000005272-submissions-001.json\n",
      "unzipped/CIK0000005272-submissions-002.json\n",
      "unzipped/CIK0000005272-submissions-003.json\n",
      "unzipped/CIK0000005272.json\n",
      "unzipped/CIK0000005320.json\n",
      "unzipped/CIK0000005337.json\n",
      "unzipped/CIK0000005352.json\n",
      "unzipped/CIK0000005368.json\n",
      "unzipped/CIK0000005384.json\n",
      "unzipped/CIK0000005385.json\n",
      "unzipped/CIK0000005405.json\n",
      "unzipped/CIK0000005441.json\n",
      "unzipped/CIK0000005486.json\n",
      "unzipped/CIK0000005506.json\n",
      "unzipped/CIK0000005508.json\n",
      "unzipped/CIK0000005513-submissions-001.json\n",
      "unzipped/CIK0000005513.json\n",
      "unzipped/CIK0000005529.json\n",
      "unzipped/CIK0000005533.json\n",
      "unzipped/CIK0000005550.json\n",
      "unzipped/CIK0000005588.json\n",
      "unzipped/CIK0000005611.json\n",
      "unzipped/CIK0000005656.json\n",
      "unzipped/CIK0000005657.json\n",
      "unzipped/CIK0000005696.json\n",
      "unzipped/CIK0000005719.json\n",
      "unzipped/CIK0000005732.json\n",
      "unzipped/CIK0000005768.json\n",
      "unzipped/CIK0000005784.json\n",
      "unzipped/CIK0000005786.json\n",
      "unzipped/CIK0000005818.json\n",
      "unzipped/CIK0000005850.json\n",
      "unzipped/CIK0000005861.json\n",
      "unzipped/CIK0000005876.json\n",
      "unzipped/CIK0000005907-submissions-001.json\n",
      "unzipped/CIK0000005907.json\n",
      "unzipped/CIK0000005910.json\n",
      "unzipped/CIK0000005966.json\n",
      "unzipped/CIK0000005971.json\n",
      "unzipped/CIK0000005981-submissions-001.json\n",
      "unzipped/CIK0000005981.json\n",
      "unzipped/CIK0000006019.json\n",
      "unzipped/CIK0000006035.json\n",
      "unzipped/CIK0000006064.json\n",
      "unzipped/CIK0000006071.json\n",
      "unzipped/CIK0000006075.json\n",
      "unzipped/CIK0000006082.json\n",
      "unzipped/CIK0000006113.json\n",
      "unzipped/CIK0000006161.json\n",
      "unzipped/CIK0000006164.json\n",
      "unzipped/CIK0000006176-submissions-001.json\n",
      "unzipped/CIK0000006176.json\n",
      "unzipped/CIK0000006182.json\n",
      "unzipped/CIK0000006201-submissions-001.json\n",
      "unzipped/CIK0000006201-submissions-002.json\n",
      "unzipped/CIK0000006201.json\n",
      "unzipped/CIK0000006207.json\n",
      "unzipped/CIK0000006216.json\n",
      "unzipped/CIK0000006247.json\n",
      "unzipped/CIK0000006260.json\n",
      "unzipped/CIK0000006281-submissions-001.json\n",
      "unzipped/CIK0000006281.json\n",
      "unzipped/CIK0000006284-submissions-001.json\n",
      "unzipped/CIK0000006284.json\n",
      "unzipped/CIK0000006292.json\n",
      "unzipped/CIK0000006314.json\n",
      "unzipped/CIK0000006331.json\n",
      "unzipped/CIK0000006342.json\n",
      "unzipped/CIK0000006383.json\n",
      "unzipped/CIK0000006389.json\n",
      "unzipped/CIK0000006413.json\n",
      "unzipped/CIK0000006435.json\n",
      "unzipped/CIK0000006474.json\n",
      "unzipped/CIK0000006494.json\n",
      "unzipped/CIK0000006501.json\n",
      "unzipped/CIK0000006527.json\n",
      "unzipped/CIK0000006571.json\n",
      "unzipped/CIK0000006578.json\n",
      "unzipped/CIK0000006627.json\n",
      "unzipped/CIK0000006664.json\n",
      "unzipped/CIK0000006684.json\n",
      "unzipped/CIK0000006694.json\n",
      "unzipped/CIK0000006713.json\n",
      "unzipped/CIK0000006715.json\n",
      "unzipped/CIK0000006720.json\n",
      "unzipped/CIK0000006732.json\n",
      "unzipped/CIK0000006769-submissions-001.json\n",
      "unzipped/CIK0000006769-submissions-002.json\n",
      "unzipped/CIK0000006769-submissions-003.json\n",
      "unzipped/CIK0000006769.json\n",
      "unzipped/CIK0000006814.json\n",
      "unzipped/CIK0000006845-submissions-001.json\n",
      "unzipped/CIK0000006845.json\n",
      "unzipped/CIK0000006879.json\n",
      "unzipped/CIK0000006885-submissions-001.json\n",
      "unzipped/CIK0000006885.json\n",
      "unzipped/CIK0000006948.json\n",
      "unzipped/CIK0000006951-submissions-001.json\n",
      "unzipped/CIK0000006951.json\n",
      "unzipped/CIK0000006955-submissions-001.json\n",
      "unzipped/CIK0000006955.json\n",
      "unzipped/CIK0000006992.json\n",
      "unzipped/CIK0000007032.json\n",
      "unzipped/CIK0000007039.json\n",
      "unzipped/CIK0000007059.json\n",
      "unzipped/CIK0000007084-submissions-001.json\n",
      "unzipped/CIK0000007084-submissions-002.json\n",
      "unzipped/CIK0000007084.json\n",
      "unzipped/CIK0000007105.json\n",
      "unzipped/CIK0000007119.json\n",
      "unzipped/CIK0000007169.json\n",
      "unzipped/CIK0000007184.json\n",
      "unzipped/CIK0000007195.json\n",
      "unzipped/CIK0000007214.json\n",
      "unzipped/CIK0000007255.json\n",
      "unzipped/CIK0000007286.json\n",
      "unzipped/CIK0000007297.json\n",
      "unzipped/CIK0000007302.json\n",
      "unzipped/CIK0000007314.json\n",
      "unzipped/CIK0000007323.json\n",
      "unzipped/CIK0000007332-submissions-001.json\n",
      "unzipped/CIK0000007332.json\n",
      "unzipped/CIK0000007340.json\n",
      "unzipped/CIK0000007346.json\n",
      "unzipped/CIK0000007373.json\n",
      "unzipped/CIK0000007383.json\n",
      "unzipped/CIK0000007426.json\n",
      "unzipped/CIK0000007431-submissions-001.json\n",
      "unzipped/CIK0000007431.json\n",
      "unzipped/CIK0000007443.json\n",
      "unzipped/CIK0000007470.json\n",
      "unzipped/CIK0000007533.json\n",
      "unzipped/CIK0000007536-submissions-001.json\n",
      "unzipped/CIK0000007536.json\n",
      "unzipped/CIK0000007610.json\n",
      "unzipped/CIK0000007623.json\n",
      "unzipped/CIK0000007636.json\n",
      "unzipped/CIK0000007645.json\n",
      "unzipped/CIK0000007646.json\n",
      "unzipped/CIK0000007649.json\n",
      "unzipped/CIK0000007694-submissions-001.json\n",
      "unzipped/CIK0000007694.json\n",
      "unzipped/CIK0000007711.json\n",
      "unzipped/CIK0000007773.json\n",
      "unzipped/CIK0000007789-submissions-001.json\n",
      "unzipped/CIK0000007789-submissions-002.json\n",
      "unzipped/CIK0000007789-submissions-003.json\n",
      "unzipped/CIK0000007789.json\n",
      "unzipped/CIK0000007823.json\n",
      "unzipped/CIK0000007948.json\n",
      "unzipped/CIK0000007951.json\n",
      "unzipped/CIK0000007973.json\n",
      "unzipped/CIK0000007974.json\n",
      "unzipped/CIK0000008038.json\n",
      "unzipped/CIK0000008063-submissions-001.json\n",
      "unzipped/CIK0000008063.json\n",
      "unzipped/CIK0000008065.json\n",
      "unzipped/CIK0000008069.json\n",
      "unzipped/CIK0000008088.json\n",
      "unzipped/CIK0000008109.json\n",
      "unzipped/CIK0000008117.json\n",
      "unzipped/CIK0000008137.json\n",
      "unzipped/CIK0000008146-submissions-001.json\n",
      "unzipped/CIK0000008146.json\n",
      "unzipped/CIK0000008154.json\n",
      "unzipped/CIK0000008155.json\n",
      "unzipped/CIK0000008177.json\n",
      "unzipped/CIK0000008192.json\n",
      "unzipped/CIK0000008286.json\n",
      "unzipped/CIK0000008299.json\n",
      "unzipped/CIK0000008302.json\n",
      "unzipped/CIK0000008328.json\n",
      "unzipped/CIK0000008345.json\n",
      "unzipped/CIK0000008411-submissions-001.json\n",
      "unzipped/CIK0000008411.json\n",
      "unzipped/CIK0000008412.json\n",
      "unzipped/CIK0000008462.json\n",
      "unzipped/CIK0000008486.json\n",
      "unzipped/CIK0000008497.json\n",
      "unzipped/CIK0000008504.json\n",
      "unzipped/CIK0000008565.json\n",
      "unzipped/CIK0000008588.json\n",
      "unzipped/CIK0000008598.json\n",
      "unzipped/CIK0000008643.json\n",
      "unzipped/CIK0000008670-submissions-001.json\n",
      "unzipped/CIK0000008670.json\n",
      "unzipped/CIK0000008699.json\n",
      "unzipped/CIK0000008725.json\n",
      "unzipped/CIK0000008734.json\n",
      "unzipped/CIK0000008762.json\n",
      "unzipped/CIK0000008775.json\n",
      "unzipped/CIK0000008776.json\n",
      "unzipped/CIK0000008795.json\n",
      "unzipped/CIK0000008800.json\n",
      "unzipped/CIK0000008802.json\n",
      "unzipped/CIK0000008818-submissions-001.json\n",
      "unzipped/CIK0000008818.json\n",
      "unzipped/CIK0000008855.json\n",
      "unzipped/CIK0000008858-submissions-001.json\n",
      "unzipped/CIK0000008858.json\n",
      "unzipped/CIK0000008867.json\n",
      "unzipped/CIK0000008868-submissions-001.json\n",
      "unzipped/CIK0000008868.json\n",
      "unzipped/CIK0000008919.json\n",
      "unzipped/CIK0000008943.json\n",
      "unzipped/CIK0000008947-submissions-001.json\n",
      "unzipped/CIK0000008947.json\n",
      "unzipped/CIK0000008960.json\n",
      "unzipped/CIK0000009014.json\n",
      "unzipped/CIK0000009015-submissions-001.json\n",
      "unzipped/CIK0000009015.json\n",
      "unzipped/CIK0000009017.json\n",
      "unzipped/CIK0000009092-submissions-001.json\n",
      "unzipped/CIK0000009092.json\n",
      "unzipped/CIK0000009096.json\n",
      "unzipped/CIK0000009108.json\n",
      "unzipped/CIK0000009120.json\n",
      "unzipped/CIK0000009128.json\n",
      "unzipped/CIK0000009145.json\n",
      "unzipped/CIK0000009157.json\n",
      "unzipped/CIK0000009189.json\n",
      "unzipped/CIK0000009209.json\n",
      "unzipped/CIK0000009211.json\n",
      "unzipped/CIK0000009217.json\n",
      "unzipped/CIK0000009220.json\n",
      "unzipped/CIK0000009235.json\n",
      "unzipped/CIK0000009263.json\n",
      "unzipped/CIK0000009268.json\n",
      "unzipped/CIK0000009318.json\n",
      "unzipped/CIK0000009319.json\n",
      "unzipped/CIK0000009326.json\n",
      "unzipped/CIK0000009342-submissions-001.json\n",
      "unzipped/CIK0000009342.json\n",
      "unzipped/CIK0000009346-submissions-001.json\n",
      "unzipped/CIK0000009346.json\n",
      "unzipped/CIK0000009367.json\n",
      "unzipped/CIK0000009382.json\n",
      "unzipped/CIK0000009389-submissions-001.json\n",
      "unzipped/CIK0000009389-submissions-002.json\n",
      "unzipped/CIK0000009389.json\n",
      "unzipped/CIK0000009435.json\n",
      "unzipped/CIK0000009436.json\n",
      "unzipped/CIK0000009442.json\n",
      "unzipped/CIK0000009456.json\n",
      "unzipped/CIK0000009466.json\n",
      "unzipped/CIK0000009521.json\n",
      "unzipped/CIK0000009528.json\n",
      "unzipped/CIK0000009534.json\n",
      "unzipped/CIK0000009548.json\n",
      "unzipped/CIK0000009568.json\n",
      "unzipped/CIK0000009572.json\n",
      "unzipped/CIK0000009586.json\n",
      "unzipped/CIK0000009621.json\n",
      "unzipped/CIK0000009622.json\n",
      "unzipped/CIK0000009626-submissions-001.json\n",
      "unzipped/CIK0000009626.json\n",
      "unzipped/CIK0000009631-submissions-001.json\n",
      "unzipped/CIK0000009631-submissions-002.json\n",
      "unzipped/CIK0000009631.json\n",
      "unzipped/CIK0000009634.json\n",
      "unzipped/CIK0000009651.json\n",
      "unzipped/CIK0000009659.json\n",
      "unzipped/CIK0000009664.json\n",
      "unzipped/CIK0000009672.json\n",
      "unzipped/CIK0000009677.json\n",
      "unzipped/CIK0000009681.json\n",
      "unzipped/CIK0000009696.json\n",
      "unzipped/CIK0000009712-submissions-001.json\n",
      "unzipped/CIK0000009712.json\n",
      "unzipped/CIK0000009713.json\n",
      "unzipped/CIK0000009714.json\n",
      "unzipped/CIK0000009738.json\n",
      "unzipped/CIK0000009749.json\n",
      "unzipped/CIK0000009779.json\n",
      "unzipped/CIK0000009781.json\n",
      "unzipped/CIK0000009801.json\n",
      "unzipped/CIK0000009822.json\n",
      "unzipped/CIK0000009874.json\n",
      "unzipped/CIK0000009892-submissions-001.json\n",
      "unzipped/CIK0000009892.json\n",
      "unzipped/CIK0000009911.json\n",
      "unzipped/CIK0000009984-submissions-001.json\n",
      "unzipped/CIK0000009984.json\n",
      "unzipped/CIK0000010012.json\n",
      "unzipped/CIK0000010048.json\n",
      "unzipped/CIK0000010074.json\n",
      "unzipped/CIK0000010081.json\n",
      "unzipped/CIK0000010117.json\n",
      "unzipped/CIK0000010119.json\n",
      "unzipped/CIK0000010154.json\n",
      "unzipped/CIK0000010193.json\n",
      "unzipped/CIK0000010242.json\n",
      "unzipped/CIK0000010245.json\n",
      "unzipped/CIK0000010254.json\n",
      "unzipped/CIK0000010267.json\n",
      "unzipped/CIK0000010283.json\n",
      "unzipped/CIK0000010329-submissions-001.json\n",
      "unzipped/CIK0000010329.json\n",
      "unzipped/CIK0000010359.json\n",
      "unzipped/CIK0000010418.json\n",
      "unzipped/CIK0000010427-submissions-001.json\n",
      "unzipped/CIK0000010427.json\n",
      "unzipped/CIK0000010443.json\n",
      "unzipped/CIK0000010456-submissions-001.json\n",
      "unzipped/CIK0000010456.json\n",
      "unzipped/CIK0000010481.json\n",
      "unzipped/CIK0000010488.json\n",
      "unzipped/CIK0000010497.json\n",
      "unzipped/CIK0000010578.json\n",
      "unzipped/CIK0000010580.json\n",
      "unzipped/CIK0000010581.json\n",
      "unzipped/CIK0000010624.json\n",
      "unzipped/CIK0000010664.json\n",
      "unzipped/CIK0000010724.json\n",
      "unzipped/CIK0000010742.json\n",
      "unzipped/CIK0000010767.json\n",
      "unzipped/CIK0000010795-submissions-001.json\n",
      "unzipped/CIK0000010795.json\n",
      "unzipped/CIK0000010872.json\n",
      "unzipped/CIK0000010885.json\n",
      "unzipped/CIK0000010975.json\n",
      "unzipped/CIK0000011027.json\n",
      "unzipped/CIK0000011107.json\n",
      "unzipped/CIK0000011118.json\n",
      "unzipped/CIK0000011166.json\n",
      "unzipped/CIK0000011199-submissions-001.json\n",
      "unzipped/CIK0000011199.json\n",
      "unzipped/CIK0000011290.json\n",
      "unzipped/CIK0000011390.json\n",
      "unzipped/CIK0000011454.json\n",
      "unzipped/CIK0000011499.json\n",
      "unzipped/CIK0000011544-submissions-001.json\n",
      "unzipped/CIK0000011544.json\n",
      "unzipped/CIK0000011545.json\n",
      "unzipped/CIK0000011557.json\n",
      "unzipped/CIK0000011788.json\n",
      "unzipped/CIK0000011790.json\n",
      "unzipped/CIK0000011806.json\n",
      "unzipped/CIK0000011814.json\n",
      "unzipped/CIK0000011821.json\n",
      "unzipped/CIK0000011825.json\n",
      "unzipped/CIK0000011856.json\n",
      "unzipped/CIK0000011860.json\n",
      "unzipped/CIK0000011884.json\n",
      "unzipped/CIK0000011913.json\n",
      "unzipped/CIK0000011917.json\n",
      "unzipped/CIK0000011934.json\n",
      "unzipped/CIK0000011975.json\n",
      "unzipped/CIK0000011987.json\n",
      "unzipped/CIK0000012027.json\n",
      "unzipped/CIK0000012040.json\n",
      "unzipped/CIK0000012105.json\n",
      "unzipped/CIK0000012180.json\n",
      "unzipped/CIK0000012203.json\n",
      "unzipped/CIK0000012208-submissions-001.json\n",
      "unzipped/CIK0000012208.json\n",
      "unzipped/CIK0000012228.json\n",
      "unzipped/CIK0000012239-submissions-001.json\n",
      "unzipped/CIK0000012239.json\n",
      "unzipped/CIK0000012245.json\n",
      "unzipped/CIK0000012265.json\n",
      "unzipped/CIK0000012311.json\n",
      "unzipped/CIK0000012318.json\n",
      "unzipped/CIK0000012355-submissions-001.json\n",
      "unzipped/CIK0000012355.json\n",
      "unzipped/CIK0000012388.json\n",
      "unzipped/CIK0000012400.json\n",
      "unzipped/CIK0000012406.json\n",
      "unzipped/CIK0000012449.json\n",
      "unzipped/CIK0000012469.json\n",
      "unzipped/CIK0000012473.json\n",
      "unzipped/CIK0000012500.json\n",
      "unzipped/CIK0000012518.json\n",
      "unzipped/CIK0000012532.json\n",
      "unzipped/CIK0000012570.json\n",
      "unzipped/CIK0000012600.json\n",
      "unzipped/CIK0000012601-submissions-001.json\n",
      "unzipped/CIK0000012601.json\n",
      "unzipped/CIK0000012602.json\n",
      "unzipped/CIK0000012603.json\n",
      "unzipped/CIK0000012614.json\n",
      "unzipped/CIK0000012635.json\n",
      "unzipped/CIK0000012654.json\n",
      "unzipped/CIK0000012659-submissions-001.json\n",
      "unzipped/CIK0000012659.json\n",
      "unzipped/CIK0000012707.json\n",
      "unzipped/CIK0000012733.json\n",
      "unzipped/CIK0000012779.json\n",
      "unzipped/CIK0000012793.json\n",
      "unzipped/CIK0000012906.json\n",
      "unzipped/CIK0000012927-submissions-001.json\n",
      "unzipped/CIK0000012927-submissions-002.json\n",
      "unzipped/CIK0000012927.json\n",
      "unzipped/CIK0000012933.json\n",
      "unzipped/CIK0000012953.json\n",
      "unzipped/CIK0000012978-submissions-001.json\n",
      "unzipped/CIK0000012978.json\n",
      "unzipped/CIK0000013006.json\n",
      "unzipped/CIK0000013021.json\n",
      "unzipped/CIK0000013033.json\n",
      "unzipped/CIK0000013055.json\n",
      "unzipped/CIK0000013075.json\n",
      "unzipped/CIK0000013083.json\n",
      "unzipped/CIK0000013156.json\n",
      "unzipped/CIK0000013191.json\n",
      "unzipped/CIK0000013222.json\n",
      "unzipped/CIK0000013237.json\n",
      "unzipped/CIK0000013239.json\n",
      "unzipped/CIK0000013246.json\n",
      "unzipped/CIK0000013290.json\n",
      "unzipped/CIK0000013299.json\n",
      "unzipped/CIK0000013310.json\n",
      "unzipped/CIK0000013338.json\n",
      "unzipped/CIK0000013351.json\n",
      "unzipped/CIK0000013352.json\n",
      "unzipped/CIK0000013353.json\n",
      "unzipped/CIK0000013361.json\n",
      "unzipped/CIK0000013372.json\n",
      "unzipped/CIK0000013386.json\n",
      "unzipped/CIK0000013390.json\n",
      "unzipped/CIK0000013393.json\n",
      "unzipped/CIK0000013463.json\n",
      "unzipped/CIK0000013522.json\n",
      "unzipped/CIK0000013547.json\n",
      "unzipped/CIK0000013573.json\n",
      "unzipped/CIK0000013585.json\n",
      "unzipped/CIK0000013606.json\n",
      "unzipped/CIK0000013610-submissions-001.json\n",
      "unzipped/CIK0000013610.json\n",
      "unzipped/CIK0000013777.json\n",
      "unzipped/CIK0000013783.json\n",
      "unzipped/CIK0000013824.json\n",
      "unzipped/CIK0000013839.json\n",
      "unzipped/CIK0000013878.json\n",
      "unzipped/CIK0000014029.json\n",
      "unzipped/CIK0000014049.json\n",
      "unzipped/CIK0000014056.json\n",
      "unzipped/CIK0000014060.json\n",
      "unzipped/CIK0000014073.json\n",
      "unzipped/CIK0000014169.json\n",
      "unzipped/CIK0000014170.json\n",
      "unzipped/CIK0000014177.json\n",
      "unzipped/CIK0000014195-submissions-001.json\n",
      "unzipped/CIK0000014195.json\n",
      "unzipped/CIK0000014213.json\n",
      "unzipped/CIK0000014232.json\n",
      "unzipped/CIK0000014272-submissions-001.json\n",
      "unzipped/CIK0000014272.json\n",
      "unzipped/CIK0000014280.json\n",
      "unzipped/CIK0000014294.json\n",
      "unzipped/CIK0000014306.json\n",
      "unzipped/CIK0000014333.json\n",
      "unzipped/CIK0000014343.json\n",
      "unzipped/CIK0000014358.json\n",
      "unzipped/CIK0000014399.json\n",
      "unzipped/CIK0000014407.json\n",
      "unzipped/CIK0000014423.json\n",
      "unzipped/CIK0000014463.json\n",
      "unzipped/CIK0000014525.json\n",
      "unzipped/CIK0000014537.json\n",
      "unzipped/CIK0000014550.json\n",
      "unzipped/CIK0000014595.json\n",
      "unzipped/CIK0000014611.json\n",
      "unzipped/CIK0000014632.json\n",
      "unzipped/CIK0000014637.json\n",
      "unzipped/CIK0000014651.json\n",
      "unzipped/CIK0000014661.json\n",
      "unzipped/CIK0000014693-submissions-001.json\n",
      "unzipped/CIK0000014693.json\n",
      "unzipped/CIK0000014698.json\n",
      "unzipped/CIK0000014707-submissions-001.json\n",
      "unzipped/CIK0000014707.json\n",
      "unzipped/CIK0000014745.json\n",
      "unzipped/CIK0000014767.json\n",
      "unzipped/CIK0000014798.json\n",
      "unzipped/CIK0000014803.json\n",
      "unzipped/CIK0000014827.json\n",
      "unzipped/CIK0000014846-submissions-001.json\n",
      "unzipped/CIK0000014846.json\n",
      "unzipped/CIK0000014847.json\n",
      "unzipped/CIK0000014864.json\n",
      "unzipped/CIK0000014899.json\n",
      "unzipped/CIK0000014920.json\n",
      "unzipped/CIK0000014930-submissions-001.json\n",
      "unzipped/CIK0000014930.json\n",
      "unzipped/CIK0000014957.json\n",
      "unzipped/CIK0000014971.json\n",
      "unzipped/CIK0000014995.json\n",
      "unzipped/CIK0000015019.json\n",
      "unzipped/CIK0000015168.json\n",
      "unzipped/CIK0000015260.json\n",
      "unzipped/CIK0000015266.json\n",
      "unzipped/CIK0000015288.json\n",
      "unzipped/CIK0000015310.json\n",
      "unzipped/CIK0000015354.json\n",
      "unzipped/CIK0000015357.json\n",
      "unzipped/CIK0000015393.json\n",
      "unzipped/CIK0000015466.json\n",
      "unzipped/CIK0000015470.json\n",
      "unzipped/CIK0000015486.json\n",
      "unzipped/CIK0000015511.json\n",
      "unzipped/CIK0000015590.json\n",
      "unzipped/CIK0000015615-submissions-001.json\n",
      "unzipped/CIK0000015615.json\n",
      "unzipped/CIK0000015678.json\n",
      "unzipped/CIK0000015681.json\n",
      "unzipped/CIK0000015699.json\n",
      "unzipped/CIK0000015715.json\n",
      "unzipped/CIK0000015836.json\n",
      "unzipped/CIK0000015840.json\n",
      "unzipped/CIK0000015847.json\n",
      "unzipped/CIK0000015867.json\n",
      "unzipped/CIK0000015869.json\n",
      "unzipped/CIK0000015876.json\n",
      "unzipped/CIK0000015916.json\n",
      "unzipped/CIK0000015939.json\n",
      "unzipped/CIK0000015983.json\n",
      "unzipped/CIK0000016015.json\n",
      "unzipped/CIK0000016040-submissions-001.json\n",
      "unzipped/CIK0000016040.json\n",
      "unzipped/CIK0000016058-submissions-001.json\n",
      "unzipped/CIK0000016058.json\n",
      "unzipped/CIK0000016095.json\n",
      "unzipped/CIK0000016099-submissions-001.json\n",
      "unzipped/CIK0000016099.json\n",
      "unzipped/CIK0000016104.json\n",
      "unzipped/CIK0000016121.json\n",
      "unzipped/CIK0000016160.json\n",
      "unzipped/CIK0000016190.json\n",
      "unzipped/CIK0000016218.json\n",
      "unzipped/CIK0000016250.json\n",
      "unzipped/CIK0000016287.json\n",
      "unzipped/CIK0000016317.json\n",
      "unzipped/CIK0000016343.json\n",
      "unzipped/CIK0000016357.json\n",
      "unzipped/CIK0000016387.json\n",
      "unzipped/CIK0000016422.json\n",
      "unzipped/CIK0000016476.json\n",
      "unzipped/CIK0000016496.json\n",
      "unzipped/CIK0000016573.json\n",
      "unzipped/CIK0000016590.json\n",
      "unzipped/CIK0000016614-submissions-001.json\n",
      "unzipped/CIK0000016614.json\n",
      "unzipped/CIK0000016652.json\n",
      "unzipped/CIK0000016686.json\n",
      "unzipped/CIK0000016694.json\n",
      "unzipped/CIK0000016715.json\n",
      "unzipped/CIK0000016732-submissions-001.json\n",
      "unzipped/CIK0000016732.json\n",
      "unzipped/CIK0000016735.json\n",
      "unzipped/CIK0000016741.json\n",
      "unzipped/CIK0000016754.json\n",
      "unzipped/CIK0000016760.json\n",
      "unzipped/CIK0000016789.json\n",
      "unzipped/CIK0000016804.json\n",
      "unzipped/CIK0000016847.json\n",
      "unzipped/CIK0000016859.json\n",
      "unzipped/CIK0000016868.json\n",
      "unzipped/CIK0000016873.json\n",
      "unzipped/CIK0000016875-submissions-001.json\n",
      "unzipped/CIK0000016875.json\n",
      "unzipped/CIK0000016893.json\n",
      "unzipped/CIK0000016906.json\n",
      "unzipped/CIK0000016918-submissions-001.json\n",
      "unzipped/CIK0000016918.json\n",
      "unzipped/CIK0000016972.json\n",
      "unzipped/CIK0000016988.json\n",
      "unzipped/CIK0000017018.json\n",
      "unzipped/CIK0000017024.json\n",
      "unzipped/CIK0000017071.json\n",
      "unzipped/CIK0000017109.json\n",
      "unzipped/CIK0000017123.json\n",
      "unzipped/CIK0000017140.json\n",
      "unzipped/CIK0000017147.json\n",
      "unzipped/CIK0000017206.json\n",
      "unzipped/CIK0000017221.json\n",
      "unzipped/CIK0000017225.json\n",
      "unzipped/CIK0000017237.json\n",
      "unzipped/CIK0000017271.json\n",
      "unzipped/CIK0000017283-submissions-001.json\n",
      "unzipped/CIK0000017283-submissions-002.json\n",
      "unzipped/CIK0000017283.json\n",
      "unzipped/CIK0000017292.json\n",
      "unzipped/CIK0000017294.json\n",
      "unzipped/CIK0000017313-submissions-001.json\n",
      "unzipped/CIK0000017313.json\n",
      "unzipped/CIK0000017385.json\n",
      "unzipped/CIK0000017482.json\n",
      "unzipped/CIK0000017485.json\n",
      "unzipped/CIK0000017493.json\n",
      "unzipped/CIK0000017527.json\n",
      "unzipped/CIK0000017544.json\n",
      "unzipped/CIK0000017732.json\n",
      "unzipped/CIK0000017757.json\n",
      "unzipped/CIK0000017797.json\n",
      "unzipped/CIK0000017843-submissions-001.json\n",
      "unzipped/CIK0000017843.json\n",
      "unzipped/CIK0000017862.json\n",
      "unzipped/CIK0000017872.json\n",
      "unzipped/CIK0000017914.json\n",
      "unzipped/CIK0000017927.json\n",
      "unzipped/CIK0000017940.json\n",
      "unzipped/CIK0000017996.json\n",
      "unzipped/CIK0000018000.json\n",
      "unzipped/CIK0000018026.json\n",
      "unzipped/CIK0000018061.json\n",
      "unzipped/CIK0000018072.json\n",
      "unzipped/CIK0000018109.json\n",
      "unzipped/CIK0000018122.json\n",
      "unzipped/CIK0000018128.json\n",
      "unzipped/CIK0000018148.json\n",
      "unzipped/CIK0000018169.json\n",
      "unzipped/CIK0000018172-submissions-001.json\n",
      "unzipped/CIK0000018172.json\n",
      "unzipped/CIK0000018180.json\n",
      "unzipped/CIK0000018230-submissions-001.json\n",
      "unzipped/CIK0000018230-submissions-002.json\n",
      "unzipped/CIK0000018230.json\n",
      "unzipped/CIK0000018239.json\n",
      "unzipped/CIK0000018255-submissions-001.json\n",
      "unzipped/CIK0000018255.json\n",
      "unzipped/CIK0000018347.json\n",
      "unzipped/CIK0000018349-submissions-001.json\n",
      "unzipped/CIK0000018349-submissions-002.json\n",
      "unzipped/CIK0000018349.json\n",
      "unzipped/CIK0000018366.json\n",
      "unzipped/CIK0000018382.json\n",
      "unzipped/CIK0000018396-submissions-001.json\n",
      "unzipped/CIK0000018396.json\n",
      "unzipped/CIK0000018429.json\n",
      "unzipped/CIK0000018443.json\n",
      "unzipped/CIK0000018497.json\n",
      "unzipped/CIK0000018498-submissions-001.json\n",
      "unzipped/CIK0000018498.json\n",
      "unzipped/CIK0000018508.json\n",
      "unzipped/CIK0000018530.json\n",
      "unzipped/CIK0000018532-submissions-001.json\n",
      "unzipped/CIK0000018532.json\n",
      "unzipped/CIK0000018540.json\n",
      "unzipped/CIK0000018564.json\n",
      "unzipped/CIK0000018568-submissions-001.json\n",
      "unzipped/CIK0000018568.json\n",
      "unzipped/CIK0000018572.json\n",
      "unzipped/CIK0000018605.json\n",
      "unzipped/CIK0000018620.json\n",
      "unzipped/CIK0000018647.json\n",
      "unzipped/CIK0000018651.json\n",
      "unzipped/CIK0000018654.json\n",
      "unzipped/CIK0000018672.json\n",
      "unzipped/CIK0000018675.json\n",
      "unzipped/CIK0000018713.json\n",
      "unzipped/CIK0000018734.json\n",
      "unzipped/CIK0000018748.json\n",
      "unzipped/CIK0000018779.json\n",
      "unzipped/CIK0000018783.json\n",
      "unzipped/CIK0000018787.json\n",
      "unzipped/CIK0000018792.json\n",
      "unzipped/CIK0000018808-submissions-001.json\n",
      "unzipped/CIK0000018808.json\n",
      "unzipped/CIK0000018827.json\n",
      "unzipped/CIK0000018873.json\n",
      "unzipped/CIK0000018886.json\n",
      "unzipped/CIK0000018905.json\n",
      "unzipped/CIK0000018912.json\n",
      "unzipped/CIK0000018914.json\n",
      "unzipped/CIK0000018922.json\n",
      "unzipped/CIK0000018926-submissions-001.json\n",
      "unzipped/CIK0000018926.json\n",
      "unzipped/CIK0000018934.json\n",
      "unzipped/CIK0000018937.json\n",
      "unzipped/CIK0000019002.json\n",
      "unzipped/CIK0000019024.json\n",
      "unzipped/CIK0000019033.json\n",
      "unzipped/CIK0000019034.json\n",
      "unzipped/CIK0000019047.json\n",
      "unzipped/CIK0000019119.json\n",
      "unzipped/CIK0000019144.json\n",
      "unzipped/CIK0000019149.json\n",
      "unzipped/CIK0000019150.json\n",
      "unzipped/CIK0000019161.json\n",
      "unzipped/CIK0000019252.json\n",
      "unzipped/CIK0000019283.json\n",
      "unzipped/CIK0000019289.json\n",
      "unzipped/CIK0000019342.json\n",
      "unzipped/CIK0000019353-submissions-001.json\n",
      "unzipped/CIK0000019353.json\n",
      "unzipped/CIK0000019392.json\n",
      "unzipped/CIK0000019399.json\n",
      "unzipped/CIK0000019411-submissions-001.json\n",
      "unzipped/CIK0000019411.json\n",
      "unzipped/CIK0000019446-submissions-001.json\n",
      "unzipped/CIK0000019446.json\n",
      "unzipped/CIK0000019469.json\n",
      "unzipped/CIK0000019475.json\n",
      "unzipped/CIK0000019481.json\n",
      "unzipped/CIK0000019489.json\n",
      "unzipped/CIK0000019520.json\n",
      "unzipped/CIK0000019532.json\n",
      "unzipped/CIK0000019552.json\n",
      "unzipped/CIK0000019572.json\n",
      "unzipped/CIK0000019584-submissions-001.json\n",
      "unzipped/CIK0000019584.json\n",
      "unzipped/CIK0000019600.json\n",
      "unzipped/CIK0000019612-submissions-001.json\n",
      "unzipped/CIK0000019612.json\n",
      "unzipped/CIK0000019614.json\n",
      "unzipped/CIK0000019617-submissions-001.json\n",
      "unzipped/CIK0000019617-submissions-002.json\n",
      "unzipped/CIK0000019617-submissions-003.json\n",
      "unzipped/CIK0000019617-submissions-004.json\n",
      "unzipped/CIK0000019617-submissions-005.json\n",
      "unzipped/CIK0000019617-submissions-006.json\n",
      "unzipped/CIK0000019617-submissions-007.json\n",
      "unzipped/CIK0000019617-submissions-008.json\n",
      "unzipped/CIK0000019617-submissions-009.json\n",
      "unzipped/CIK0000019617-submissions-010.json\n",
      "unzipped/CIK0000019617-submissions-011.json\n",
      "unzipped/CIK0000019617-submissions-012.json\n",
      "unzipped/CIK0000019617-submissions-013.json\n",
      "unzipped/CIK0000019617-submissions-014.json\n",
      "unzipped/CIK0000019617-submissions-015.json\n",
      "unzipped/CIK0000019617-submissions-016.json\n",
      "unzipped/CIK0000019617-submissions-017.json\n",
      "unzipped/CIK0000019617-submissions-018.json\n",
      "unzipped/CIK0000019617-submissions-019.json\n",
      "unzipped/CIK0000019617-submissions-020.json\n",
      "unzipped/CIK0000019617-submissions-021.json\n",
      "unzipped/CIK0000019617-submissions-022.json\n",
      "unzipped/CIK0000019617-submissions-023.json\n",
      "unzipped/CIK0000019617-submissions-024.json\n",
      "unzipped/CIK0000019617-submissions-025.json\n",
      "unzipped/CIK0000019617-submissions-026.json\n",
      "unzipped/CIK0000019617-submissions-027.json\n",
      "unzipped/CIK0000019617-submissions-028.json\n",
      "unzipped/CIK0000019617-submissions-029.json\n",
      "unzipped/CIK0000019617.json\n",
      "unzipped/CIK0000019660.json\n",
      "unzipped/CIK0000019704.json\n",
      "unzipped/CIK0000019719.json\n",
      "unzipped/CIK0000019722.json\n",
      "unzipped/CIK0000019724.json\n",
      "unzipped/CIK0000019725.json\n",
      "unzipped/CIK0000019731.json\n",
      "unzipped/CIK0000019741.json\n",
      "unzipped/CIK0000019744.json\n",
      "unzipped/CIK0000019745-submissions-001.json\n",
      "unzipped/CIK0000019745.json\n",
      "unzipped/CIK0000019747.json\n",
      "unzipped/CIK0000019780.json\n",
      "unzipped/CIK0000019855.json\n",
      "unzipped/CIK0000019871.json\n",
      "unzipped/CIK0000019882.json\n"
     ]
    }
   ],
   "source": [
    "bucket_name = 'raw-data-from-webpage'\n",
    "folder_name = 'unzipped/'\n",
    "\n",
    "for i in s3.list_objects(Bucket=bucket_name,Prefix=folder_name)['Contents']:\n",
    "    print(i['Key'])"
   ]
  },
  {
   "cell_type": "code",
   "execution_count": 68,
   "id": "a47ab481-7685-4238-8134-e2434d6ae678",
   "metadata": {},
   "outputs": [
    {
     "name": "stdout",
     "output_type": "stream",
     "text": [
      "N.of files in unzipped/: 1000\n"
     ]
    }
   ],
   "source": [
    "bucket_name = 'raw-data-from-webpage'\n",
    "folder_name = 'unzipped/'\n",
    "\n",
    "result = s3.list_objects(Bucket=bucket_name, Prefix=folder_name)\n",
    "\n",
    "# get the number of files in the folder\n",
    "if 'Contents' in result:\n",
    "    file_count = len(result['Contents'])\n",
    "else:\n",
    "    file_count = 0\n",
    "\n",
    "print(f'N.of files in {folder_name}: {file_count}')"
   ]
  },
  {
   "cell_type": "code",
   "execution_count": 4,
   "id": "cfa44753-fe0e-4a27-be2f-4929896f262e",
   "metadata": {
    "execution": {
     "iopub.execute_input": "2023-03-30T12:01:38.059309Z",
     "iopub.status.busy": "2023-03-30T12:01:38.059039Z",
     "iopub.status.idle": "2023-03-30T12:01:40.038905Z",
     "shell.execute_reply": "2023-03-30T12:01:40.038055Z",
     "shell.execute_reply.started": "2023-03-30T12:01:38.059282Z"
    },
    "tags": []
   },
   "outputs": [
    {
     "name": "stdout",
     "output_type": "stream",
     "text": [
      "Directory content:\n",
      "Found 4 items\n",
      "drwxr-xr-x   - hdfs hdfsadmingroup          0 2023-03-30 11:38 /apps\n",
      "drwxrwxrwt   - hdfs hdfsadmingroup          0 2023-03-30 11:40 /tmp\n",
      "drwxr-xr-x   - hdfs hdfsadmingroup          0 2023-03-30 11:38 /user\n",
      "drwxr-xr-x   - hdfs hdfsadmingroup          0 2023-03-30 11:38 /var\n",
      "\n"
     ]
    }
   ],
   "source": [
    "cmd = 'hdfs dfs -ls /'\n",
    "\n",
    "result = subprocess.run(cmd, shell=True, stdout=subprocess.PIPE, stderr=subprocess.PIPE, text=True)\n",
    "\n",
    "if result.returncode == 0:\n",
    "    print('Directory content:')\n",
    "    print(result.stdout)\n",
    "else:\n",
    "    print('Error accessing directory')\n",
    "    print(result.stderr)"
   ]
  },
  {
   "cell_type": "code",
   "execution_count": 5,
   "id": "967d2898-c34e-4cd2-bf2c-d11e82c22839",
   "metadata": {
    "execution": {
     "iopub.execute_input": "2023-03-30T12:02:14.230198Z",
     "iopub.status.busy": "2023-03-30T12:02:14.229946Z",
     "iopub.status.idle": "2023-03-30T12:02:16.149472Z",
     "shell.execute_reply": "2023-03-30T12:02:16.148670Z",
     "shell.execute_reply.started": "2023-03-30T12:02:14.230171Z"
    }
   },
   "outputs": [
    {
     "name": "stdout",
     "output_type": "stream",
     "text": [
      "Directory content:\n",
      "Found 6 items\n",
      "drwxrwxrwx   - hadoop hdfsadmingroup          0 2023-03-30 11:38 /user/hadoop\n",
      "drwxr-xr-x   - mapred mapred                  0 2023-03-30 11:38 /user/history\n",
      "drwxrwxrwx   - hdfs   hdfsadmingroup          0 2023-03-30 11:40 /user/hive\n",
      "drwxrwxrwx   - livy   livy                    0 2023-03-30 11:38 /user/livy\n",
      "drwxrwxrwx   - root   hdfsadmingroup          0 2023-03-30 11:38 /user/root\n",
      "drwxrwxrwx   - spark  spark                   0 2023-03-30 11:38 /user/spark\n",
      "\n"
     ]
    }
   ],
   "source": [
    "cmd = 'hdfs dfs -ls /user'\n",
    "\n",
    "result = subprocess.run(cmd, shell=True, stdout=subprocess.PIPE, stderr=subprocess.PIPE, text=True)\n",
    "\n",
    "if result.returncode == 0:\n",
    "    print('Directory content:')\n",
    "    print(result.stdout)\n",
    "else:\n",
    "    print('Error accessing directory')\n",
    "    print(result.stderr)"
   ]
  },
  {
   "cell_type": "code",
   "execution_count": 19,
   "id": "f80e6b5d-8774-4daa-87da-c12c25768bdc",
   "metadata": {
    "execution": {
     "iopub.execute_input": "2023-03-30T12:24:09.862031Z",
     "iopub.status.busy": "2023-03-30T12:24:09.861779Z",
     "iopub.status.idle": "2023-03-30T12:24:09.866036Z",
     "shell.execute_reply": "2023-03-30T12:24:09.865416Z",
     "shell.execute_reply.started": "2023-03-30T12:24:09.862000Z"
    }
   },
   "outputs": [
    {
     "name": "stdout",
     "output_type": "stream",
     "text": [
      "Succesfully directory created.\n"
     ]
    }
   ],
   "source": [
    "cmd = 'hdfs dfs -mkdir /user/hadoop/sec_data'\n",
    "\n",
    "result = subprocess.run(cmd, shell=True, stdout=subprocess.PIPE, stderr=subprocess.PIPE, text=True)\n",
    "\n",
    "if result.returncode == 0:\n",
    "    print('Succesfully directory created.')\n",
    "    print(result.stdout)\n",
    "else:\n",
    "    print('Error accessing directory')\n",
    "    print(result.stderr)"
   ]
  },
  {
   "cell_type": "code",
   "execution_count": 15,
   "id": "4d7c8181-301d-4620-a835-7438e985dd64",
   "metadata": {
    "execution": {
     "iopub.execute_input": "2023-03-30T12:06:05.779322Z",
     "iopub.status.busy": "2023-03-30T12:06:05.779035Z",
     "iopub.status.idle": "2023-03-30T12:06:07.756169Z",
     "shell.execute_reply": "2023-03-30T12:06:07.755432Z",
     "shell.execute_reply.started": "2023-03-30T12:06:05.779291Z"
    },
    "tags": []
   },
   "outputs": [
    {
     "name": "stdout",
     "output_type": "stream",
     "text": [
      "Directory content:\n",
      "Found 1 items\n",
      "drwxr-xr-x   - emr-notebook hdfsadmingroup          0 2023-03-30 12:03 /user/hadoop/sec_data\n",
      "\n"
     ]
    }
   ],
   "source": [
    "cmd = 'hdfs dfs -ls /user/hadoop'\n",
    "\n",
    "result = subprocess.run(cmd, shell=True, stdout=subprocess.PIPE, stderr=subprocess.PIPE, text=True)\n",
    "\n",
    "if result.returncode == 0:\n",
    "    print('Directory content:')\n",
    "    print(result.stdout)\n",
    "else:\n",
    "    print('Error accessing directory')\n",
    "    print(result.stderr)"
   ]
  },
  {
   "cell_type": "code",
   "execution_count": 16,
   "id": "90fcde74-ba24-43b7-a55d-c3b4e64d36d4",
   "metadata": {
    "execution": {
     "iopub.execute_input": "2023-03-30T12:08:28.309246Z",
     "iopub.status.busy": "2023-03-30T12:08:28.309005Z",
     "iopub.status.idle": "2023-03-30T12:08:38.972876Z",
     "shell.execute_reply": "2023-03-30T12:08:38.972084Z",
     "shell.execute_reply.started": "2023-03-30T12:08:28.309219Z"
    }
   },
   "outputs": [
    {
     "name": "stdout",
     "output_type": "stream",
     "text": [
      "Successfully copied to hdfs\n",
      "\n"
     ]
    }
   ],
   "source": [
    "cmd = 'hadoop fs -cp s3://raw-data-from-webpage/Unzipped/* /user/hadoop/sec_data'\n",
    "\n",
    "result = subprocess.run(cmd, shell=True, stdout=subprocess.PIPE, stderr=subprocess.PIPE, text=True)\n",
    "\n",
    "if result.returncode == 0:\n",
    "    print('Successfully copied to hdfs')\n",
    "    print(result.stdout)\n",
    "else:\n",
    "    print('Error accessing directory')\n",
    "    print(result.stderr)"
   ]
  },
  {
   "cell_type": "code",
   "execution_count": 18,
   "id": "38c34e8f-824a-4fd2-9759-ef39c8c11899",
   "metadata": {
    "execution": {
     "iopub.execute_input": "2023-03-30T12:09:57.029369Z",
     "iopub.status.busy": "2023-03-30T12:09:57.029115Z",
     "iopub.status.idle": "2023-03-30T12:09:59.122903Z",
     "shell.execute_reply": "2023-03-30T12:09:59.122028Z",
     "shell.execute_reply.started": "2023-03-30T12:09:57.029340Z"
    },
    "tags": []
   },
   "outputs": [
    {
     "name": "stdout",
     "output_type": "stream",
     "text": [
      "Directory content:\n",
      "Found 34 items\n",
      "-rw-r--r--   1 emr-notebook hdfsadmingroup     148469 2023-03-30 12:08 /user/hadoop/sec_data/CIK0000001750-submissions-001.json\n",
      "-rw-r--r--   1 emr-notebook hdfsadmingroup     272089 2023-03-30 12:08 /user/hadoop/sec_data/CIK0000001800-submissions-001.json\n",
      "-rw-r--r--   1 emr-notebook hdfsadmingroup      29781 2023-03-30 12:08 /user/hadoop/sec_data/CIK0000001800-submissions-002.json\n",
      "-rw-r--r--   1 emr-notebook hdfsadmingroup      23668 2023-03-30 12:08 /user/hadoop/sec_data/CIK0000002034-submissions-001.json\n",
      "-rw-r--r--   1 emr-notebook hdfsadmingroup       7810 2023-03-30 12:08 /user/hadoop/sec_data/CIK0000002135-submissions-001.json\n",
      "-rw-r--r--   1 emr-notebook hdfsadmingroup     268274 2023-03-30 12:08 /user/hadoop/sec_data/CIK0000002488-submissions-001.json\n",
      "-rw-r--r--   1 emr-notebook hdfsadmingroup     213991 2023-03-30 12:08 /user/hadoop/sec_data/CIK0000002969-submissions-001.json\n",
      "-rw-r--r--   1 emr-notebook hdfsadmingroup      31584 2023-03-30 12:08 /user/hadoop/sec_data/CIK0000003116-submissions-001.json\n",
      "-rw-r--r--   1 emr-notebook hdfsadmingroup      10918 2023-03-30 12:08 /user/hadoop/sec_data/CIK0000003197-submissions-001.json\n",
      "-rw-r--r--   1 emr-notebook hdfsadmingroup      41689 2023-03-30 12:08 /user/hadoop/sec_data/CIK0000003370-submissions-001.json\n",
      "-rw-r--r--   1 emr-notebook hdfsadmingroup     110064 2023-03-30 12:08 /user/hadoop/sec_data/CIK0000003453-submissions-001.json\n",
      "-rw-r--r--   1 emr-notebook hdfsadmingroup      62942 2023-03-30 12:08 /user/hadoop/sec_data/CIK0000003521-submissions-001.json\n",
      "-rw-r--r--   1 emr-notebook hdfsadmingroup     108022 2023-03-30 12:08 /user/hadoop/sec_data/CIK0000003545-submissions-001.json\n",
      "-rw-r--r--   1 emr-notebook hdfsadmingroup     207490 2023-03-30 12:08 /user/hadoop/sec_data/CIK0000003570-submissions-001.json\n",
      "-rw-r--r--   1 emr-notebook hdfsadmingroup     105535 2023-03-30 12:08 /user/hadoop/sec_data/CIK0000003673-submissions-001.json\n",
      "-rw-r--r--   1 emr-notebook hdfsadmingroup      47861 2023-03-30 12:08 /user/hadoop/sec_data/CIK0000003794-submissions-001.json\n",
      "-rw-r--r--   1 emr-notebook hdfsadmingroup      40541 2023-03-30 12:08 /user/hadoop/sec_data/CIK0000003906-submissions-001.json\n",
      "-rw-r--r--   1 emr-notebook hdfsadmingroup     107144 2023-03-30 12:08 /user/hadoop/sec_data/CIK0000004127-submissions-001.json\n",
      "-rw-r--r--   1 emr-notebook hdfsadmingroup      19481 2023-03-30 12:08 /user/hadoop/sec_data/CIK0000004281-submissions-002.json\n",
      "-rw-r--r--   1 emr-notebook hdfsadmingroup     291098 2023-03-30 12:08 /user/hadoop/sec_data/CIK0000004447-submissions-001.json\n",
      "-rw-r--r--   1 emr-notebook hdfsadmingroup      17810 2023-03-30 12:08 /user/hadoop/sec_data/CIK0000004515-submissions-001.json\n",
      "-rw-r--r--   1 emr-notebook hdfsadmingroup     259927 2023-03-30 12:08 /user/hadoop/sec_data/CIK0000004904-submissions-001.json\n",
      "-rw-r--r--   1 emr-notebook hdfsadmingroup     299946 2023-03-30 12:08 /user/hadoop/sec_data/CIK0000004962-submissions-001.json\n",
      "-rw-r--r--   1 emr-notebook hdfsadmingroup     188840 2023-03-30 12:08 /user/hadoop/sec_data/CIK0000004977-submissions-001.json\n",
      "-rw-r--r--   1 emr-notebook hdfsadmingroup      36815 2023-03-30 12:08 /user/hadoop/sec_data/CIK0000005133-submissions-001.json\n",
      "-rw-r--r--   1 emr-notebook hdfsadmingroup     265599 2023-03-30 12:08 /user/hadoop/sec_data/CIK0000005272-submissions-001.json\n",
      "-rw-r--r--   1 emr-notebook hdfsadmingroup     271337 2023-03-30 12:08 /user/hadoop/sec_data/CIK0000005272-submissions-002.json\n",
      "-rw-r--r--   1 emr-notebook hdfsadmingroup     227604 2023-03-30 12:08 /user/hadoop/sec_data/CIK0000005272-submissions-003.json\n",
      "-rw-r--r--   1 emr-notebook hdfsadmingroup     139965 2023-03-30 12:08 /user/hadoop/sec_data/CIK0000005513-submissions-001.json\n",
      "-rw-r--r--   1 emr-notebook hdfsadmingroup      41704 2023-03-30 12:08 /user/hadoop/sec_data/CIK0000005981-submissions-001.json\n",
      "-rw-r--r--   1 emr-notebook hdfsadmingroup     277149 2023-03-30 12:08 /user/hadoop/sec_data/CIK0000006201-submissions-001.json\n",
      "-rw-r--r--   1 emr-notebook hdfsadmingroup      37668 2023-03-30 12:08 /user/hadoop/sec_data/CIK0000006201-submissions-002.json\n",
      "-rw-r--r--   1 emr-notebook hdfsadmingroup     178374 2023-03-30 12:08 /user/hadoop/sec_data/CIK0000006281-submissions-001.json\n",
      "-rw-r--r--   1 emr-notebook hdfsadmingroup     111227 2023-03-30 12:08 /user/hadoop/sec_data/CIK0000006284-submissions-001.json\n",
      "\n"
     ]
    }
   ],
   "source": [
    "cmd = 'hdfs dfs -ls /user/hadoop/sec_data'\n",
    "\n",
    "result = subprocess.run(cmd, shell=True, stdout=subprocess.PIPE, stderr=subprocess.PIPE, text=True)\n",
    "\n",
    "if result.returncode == 0:\n",
    "    print('Directory content:')\n",
    "    print(result.stdout)\n",
    "else:\n",
    "    print('Error accessing directory')\n",
    "    print(result.stderr)"
   ]
  },
  {
   "cell_type": "code",
   "execution_count": 1,
   "id": "1210680f-5c55-4581-ab0b-b9f7306bddfa",
   "metadata": {
    "execution": {
     "iopub.execute_input": "2023-03-30T06:49:07.712926Z",
     "iopub.status.busy": "2023-03-30T06:49:07.712629Z",
     "iopub.status.idle": "2023-03-30T06:49:42.458818Z",
     "shell.execute_reply": "2023-03-30T06:49:42.458200Z",
     "shell.execute_reply.started": "2023-03-30T06:49:07.712895Z"
    },
    "tags": []
   },
   "outputs": [
    {
     "data": {
      "application/vnd.jupyter.widget-view+json": {
       "model_id": "343a29fce9784d43b9252817fe23d880",
       "version_major": 2,
       "version_minor": 0
      },
      "text/plain": [
       "VBox()"
      ]
     },
     "metadata": {},
     "output_type": "display_data"
    },
    {
     "name": "stdout",
     "output_type": "stream",
     "text": [
      "Starting Spark application\n"
     ]
    },
    {
     "data": {
      "text/html": [
       "<table>\n<tbody><tr><th>ID</th><th>YARN Application ID</th><th>Kind</th><th>State</th><th>Spark UI</th><th>Driver log</th><th>Current session?</th></tr><tr><td>0</td><td>application_1680157389837_0004</td><td>pyspark</td><td>idle</td><td><a target=\"_blank\" href=\"http://ip-172-31-9-16.ap-south-1.compute.internal:20888/proxy/application_1680157389837_0004/\" class=\"emr-proxy-link j-3TM411W2TJ63U application_1680157389837_0004\" emr-resource=\"j-3TM411W2TJ63U\n\" application-id=\"application_1680157389837_0004\">Link</a></td><td><a target=\"_blank\" href=\"http://ip-172-31-9-16.ap-south-1.compute.internal:8042/node/containerlogs/container_1680157389837_0004_01_000001/livy\">Link</a></td><td>✔</td></tr></tbody></table>"
      ],
      "text/plain": [
       "<IPython.core.display.HTML object>"
      ]
     },
     "metadata": {},
     "output_type": "display_data"
    },
    {
     "data": {
      "application/vnd.jupyter.widget-view+json": {
       "model_id": "",
       "version_major": 2,
       "version_minor": 0
      },
      "text/plain": [
       "FloatProgress(value=0.0, bar_style='info', description='Progress:', layout=Layout(height='25px', width='50%'),…"
      ]
     },
     "metadata": {},
     "output_type": "display_data"
    },
    {
     "name": "stdout",
     "output_type": "stream",
     "text": [
      "SparkSession available as 'spark'.\n"
     ]
    },
    {
     "data": {
      "application/vnd.jupyter.widget-view+json": {
       "model_id": "",
       "version_major": 2,
       "version_minor": 0
      },
      "text/plain": [
       "FloatProgress(value=0.0, bar_style='info', description='Progress:', layout=Layout(height='25px', width='50%'),…"
      ]
     },
     "metadata": {},
     "output_type": "display_data"
    },
    {
     "name": "stdout",
     "output_type": "stream",
     "text": [
      "<pyspark.sql.session.SparkSession object at 0x7fa890401f10>"
     ]
    }
   ],
   "source": [
    "import pyspark\n",
    "from pyspark.sql import SparkSession\n",
    "from pyspark.sql.functions import *\n",
    "from pyspark.sql.types import *\n",
    "\n",
    "spark = SparkSession.builder.appName('Hadoop_Project') \\\n",
    "                            .enableHiveSupport() \\\n",
    "                            .config(\"spark.sql.warehouse.dir\", \"/user/hive/warehouse\") \\\n",
    "                            .getOrCreate()\n",
    "spark"
   ]
  },
  {
   "cell_type": "code",
   "execution_count": 2,
   "id": "c7db2501",
   "metadata": {
    "execution": {
     "iopub.execute_input": "2023-03-30T06:50:15.254914Z",
     "iopub.status.busy": "2023-03-30T06:50:15.254701Z",
     "iopub.status.idle": "2023-03-30T06:50:22.784815Z",
     "shell.execute_reply": "2023-03-30T06:50:22.784216Z",
     "shell.execute_reply.started": "2023-03-30T06:50:15.254892Z"
    },
    "tags": []
   },
   "outputs": [
    {
     "data": {
      "application/vnd.jupyter.widget-view+json": {
       "model_id": "c4c04f390c6a46828692abfeefa19c2e",
       "version_major": 2,
       "version_minor": 0
      },
      "text/plain": [
       "VBox()"
      ]
     },
     "metadata": {},
     "output_type": "display_data"
    },
    {
     "data": {
      "application/vnd.jupyter.widget-view+json": {
       "model_id": "",
       "version_major": 2,
       "version_minor": 0
      },
      "text/plain": [
       "FloatProgress(value=0.0, bar_style='info', description='Progress:', layout=Layout(height='25px', width='50%'),…"
      ]
     },
     "metadata": {},
     "output_type": "display_data"
    },
    {
     "name": "stdout",
     "output_type": "stream",
     "text": [
      "+--------------------+--------------------+--------------------+--------------------+--------------------+--------------------+--------------------+--------------------+--------------------+--------------------+---------------------+--------------------+--------------------+--------------------+\n",
      "|  acceptanceDateTime|     accessionNumber|                 act|          fileNumber|          filingDate|          filmNumber|                form|        isInlineXBRL|              isXBRL|               items|primaryDocDescription|     primaryDocument|          reportDate|                size|\n",
      "+--------------------+--------------------+--------------------+--------------------+--------------------+--------------------+--------------------+--------------------+--------------------+--------------------+---------------------+--------------------+--------------------+--------------------+\n",
      "|[2010-04-26T11:52...|[0001104659-10-02...|[, 34, , , 34, , ...|[, 001-06263, , ,...|[2010-04-26, 2010...|[, 10745530, , , ...|[SC 13D/A, 8-K, 4...|[0, 0, 0, 0, 0, 0...|[0, 0, 0, 0, 0, 0...|[, 1.01,2.01,9.01...| [SC 13D/A, 8-K, P...|[a10-8551_1sc13da...|[, 2010-04-07, 20...|[128457, 58759, 8...|\n",
      "+--------------------+--------------------+--------------------+--------------------+--------------------+--------------------+--------------------+--------------------+--------------------+--------------------+---------------------+--------------------+--------------------+--------------------+"
     ]
    }
   ],
   "source": [
    "file_path = \"hdfs://ec2-65-0-45-11.ap-south-1.compute.amazonaws.com/user/hadoop/sec_data/CIK0000001750-submissions-001.json\"\n",
    "df = spark.read.json(file_path)\n",
    "\n",
    "df.show()"
   ]
  },
  {
   "cell_type": "code",
   "execution_count": 4,
   "id": "ee2580ef-8319-492f-a165-1fad0d2f41de",
   "metadata": {
    "execution": {
     "iopub.execute_input": "2023-03-29T15:10:27.380822Z",
     "iopub.status.busy": "2023-03-29T15:10:27.380609Z",
     "iopub.status.idle": "2023-03-29T15:10:27.453759Z",
     "shell.execute_reply": "2023-03-29T15:10:27.453153Z",
     "shell.execute_reply.started": "2023-03-29T15:10:27.380800Z"
    },
    "tags": []
   },
   "outputs": [
    {
     "data": {
      "application/vnd.jupyter.widget-view+json": {
       "model_id": "8a7bd2c2d57a4024a65a6224d02b96e3",
       "version_major": 2,
       "version_minor": 0
      },
      "text/plain": [
       "VBox()"
      ]
     },
     "metadata": {},
     "output_type": "display_data"
    },
    {
     "data": {
      "application/vnd.jupyter.widget-view+json": {
       "model_id": "",
       "version_major": 2,
       "version_minor": 0
      },
      "text/plain": [
       "FloatProgress(value=0.0, bar_style='info', description='Progress:', layout=Layout(height='25px', width='50%'),…"
      ]
     },
     "metadata": {},
     "output_type": "display_data"
    },
    {
     "name": "stdout",
     "output_type": "stream",
     "text": [
      "root\n",
      " |-- acceptanceDateTime: array (nullable = true)\n",
      " |    |-- element: string (containsNull = true)\n",
      " |-- accessionNumber: array (nullable = true)\n",
      " |    |-- element: string (containsNull = true)\n",
      " |-- act: array (nullable = true)\n",
      " |    |-- element: string (containsNull = true)\n",
      " |-- fileNumber: array (nullable = true)\n",
      " |    |-- element: string (containsNull = true)\n",
      " |-- filingDate: array (nullable = true)\n",
      " |    |-- element: string (containsNull = true)\n",
      " |-- filmNumber: array (nullable = true)\n",
      " |    |-- element: string (containsNull = true)\n",
      " |-- form: array (nullable = true)\n",
      " |    |-- element: string (containsNull = true)\n",
      " |-- isInlineXBRL: array (nullable = true)\n",
      " |    |-- element: long (containsNull = true)\n",
      " |-- isXBRL: array (nullable = true)\n",
      " |    |-- element: long (containsNull = true)\n",
      " |-- items: array (nullable = true)\n",
      " |    |-- element: string (containsNull = true)\n",
      " |-- primaryDocDescription: array (nullable = true)\n",
      " |    |-- element: string (containsNull = true)\n",
      " |-- primaryDocument: array (nullable = true)\n",
      " |    |-- element: string (containsNull = true)\n",
      " |-- reportDate: array (nullable = true)\n",
      " |    |-- element: string (containsNull = true)\n",
      " |-- size: array (nullable = true)\n",
      " |    |-- element: long (containsNull = true)"
     ]
    }
   ],
   "source": [
    "df.printSchema()"
   ]
  },
  {
   "cell_type": "code",
   "execution_count": 3,
   "id": "2e63c573-c56e-425c-a07b-273b1107388e",
   "metadata": {
    "execution": {
     "iopub.execute_input": "2023-03-30T06:50:34.828815Z",
     "iopub.status.busy": "2023-03-30T06:50:34.828565Z",
     "iopub.status.idle": "2023-03-30T06:50:36.132878Z",
     "shell.execute_reply": "2023-03-30T06:50:36.132165Z",
     "shell.execute_reply.started": "2023-03-30T06:50:34.828788Z"
    },
    "tags": []
   },
   "outputs": [
    {
     "data": {
      "application/vnd.jupyter.widget-view+json": {
       "model_id": "37f6d177e9a84f94aa603fccd9d93927",
       "version_major": 2,
       "version_minor": 0
      },
      "text/plain": [
       "VBox()"
      ]
     },
     "metadata": {},
     "output_type": "display_data"
    },
    {
     "data": {
      "application/vnd.jupyter.widget-view+json": {
       "model_id": "",
       "version_major": 2,
       "version_minor": 0
      },
      "text/plain": [
       "FloatProgress(value=0.0, bar_style='info', description='Progress:', layout=Layout(height='25px', width='50%'),…"
      ]
     },
     "metadata": {},
     "output_type": "display_data"
    },
    {
     "name": "stdout",
     "output_type": "stream",
     "text": [
      "+--------------------+---+\n",
      "|  acceptanceDateTime| id|\n",
      "+--------------------+---+\n",
      "|2010-04-26T11:52:...|  0|\n",
      "|2010-04-12T17:15:...|  1|\n",
      "|2010-04-07T16:42:...|  2|\n",
      "|2010-04-02T12:13:...|  3|\n",
      "|2010-03-29T17:24:...|  4|\n",
      "|2010-03-22T10:04:...|  5|\n",
      "|2010-03-19T15:55:...|  6|\n",
      "|2010-03-18T16:23:...|  7|\n",
      "|2010-03-17T06:01:...|  8|\n",
      "|2010-03-05T20:35:...|  9|\n",
      "|2010-03-05T15:33:...| 10|\n",
      "|2010-03-03T14:06:...| 11|\n",
      "|2010-03-03T13:43:...| 12|\n",
      "|2010-03-03T13:27:...| 13|\n",
      "|2010-02-12T17:20:...| 14|\n",
      "|2010-02-12T13:03:...| 15|\n",
      "|2010-02-10T06:17:...| 16|\n",
      "|2010-02-09T17:13:...| 17|\n",
      "|2010-01-29T14:12:...| 18|\n",
      "|2010-01-28T14:50:...| 19|\n",
      "+--------------------+---+\n",
      "only showing top 20 rows"
     ]
    }
   ],
   "source": [
    "df1 = df.select('acceptanceDateTime') \\\n",
    "        .withColumn('acceptanceDateTime', explode('acceptanceDateTime')) \\\n",
    "        .withColumn(\"id\", monotonically_increasing_id())\n",
    "df1.show()"
   ]
  },
  {
   "cell_type": "code",
   "execution_count": 23,
   "id": "954c1419-ad19-4538-8be4-137f243971ee",
   "metadata": {
    "execution": {
     "iopub.execute_input": "2023-03-29T15:36:48.867159Z",
     "iopub.status.busy": "2023-03-29T15:36:48.866938Z",
     "iopub.status.idle": "2023-03-29T15:36:48.924006Z",
     "shell.execute_reply": "2023-03-29T15:36:48.923276Z",
     "shell.execute_reply.started": "2023-03-29T15:36:48.867136Z"
    }
   },
   "outputs": [
    {
     "data": {
      "application/vnd.jupyter.widget-view+json": {
       "model_id": "3b8d2fcf24ae459eb1f59ece63f331bf",
       "version_major": 2,
       "version_minor": 0
      },
      "text/plain": [
       "VBox()"
      ]
     },
     "metadata": {},
     "output_type": "display_data"
    },
    {
     "data": {
      "application/vnd.jupyter.widget-view+json": {
       "model_id": "",
       "version_major": 2,
       "version_minor": 0
      },
      "text/plain": [
       "FloatProgress(value=0.0, bar_style='info', description='Progress:', layout=Layout(height='25px', width='50%'),…"
      ]
     },
     "metadata": {},
     "output_type": "display_data"
    },
    {
     "name": "stdout",
     "output_type": "stream",
     "text": [
      "<class 'pyspark.sql.dataframe.DataFrame'>"
     ]
    }
   ],
   "source": [
    "type(df1)"
   ]
  },
  {
   "cell_type": "code",
   "execution_count": 4,
   "id": "1a91102b-95d2-4fd2-8fbe-71698de89185",
   "metadata": {
    "execution": {
     "iopub.execute_input": "2023-03-30T06:50:41.068107Z",
     "iopub.status.busy": "2023-03-30T06:50:41.067856Z",
     "iopub.status.idle": "2023-03-30T06:50:41.850598Z",
     "shell.execute_reply": "2023-03-30T06:50:41.849904Z",
     "shell.execute_reply.started": "2023-03-30T06:50:41.068084Z"
    },
    "tags": []
   },
   "outputs": [
    {
     "data": {
      "application/vnd.jupyter.widget-view+json": {
       "model_id": "58319f56574e415cbe1bc34364175c73",
       "version_major": 2,
       "version_minor": 0
      },
      "text/plain": [
       "VBox()"
      ]
     },
     "metadata": {},
     "output_type": "display_data"
    },
    {
     "data": {
      "application/vnd.jupyter.widget-view+json": {
       "model_id": "",
       "version_major": 2,
       "version_minor": 0
      },
      "text/plain": [
       "FloatProgress(value=0.0, bar_style='info', description='Progress:', layout=Layout(height='25px', width='50%'),…"
      ]
     },
     "metadata": {},
     "output_type": "display_data"
    }
   ],
   "source": [
    "df2 = df.select('accessionNumber').withColumn('accessionNumber', explode('accessionNumber')).withColumn(\"id\", monotonically_increasing_id())\n",
    "df3 = df.select('act').withColumn('act', explode('act')).withColumn(\"id\", monotonically_increasing_id())\n",
    "df4 = df.select('fileNumber').withColumn('fileNumber', explode('fileNumber')).withColumn(\"id\", monotonically_increasing_id())\n",
    "df5 = df.select('filingDate').withColumn('filingDate', explode('filingDate')).withColumn(\"id\", monotonically_increasing_id())\n",
    "df6 = df.select('filmNumber').withColumn('filmNumber', explode('filmNumber')).withColumn(\"id\", monotonically_increasing_id())\n",
    "df7 = df.select('form').withColumn('form', explode('form')).withColumn(\"id\", monotonically_increasing_id())\n",
    "df8 = df.select('isInlineXBRL').withColumn('isInlineXBRL', explode('isInlineXBRL')).withColumn(\"id\", monotonically_increasing_id())\n",
    "df9 = df.select('isXBRL').withColumn('isXBRL', explode('isXBRL')).withColumn(\"id\", monotonically_increasing_id())\n",
    "df10 = df.select('items').withColumn('items', explode('items')).withColumn(\"id\", monotonically_increasing_id())\n",
    "df11 = df.select('primaryDocDescription').withColumn('primaryDocDescription', explode('primaryDocDescription')).withColumn(\"id\", monotonically_increasing_id())\n",
    "df12 = df.select('primaryDocument').withColumn('primaryDocument', explode('primaryDocument')).withColumn(\"id\", monotonically_increasing_id())\n",
    "df13 = df.select('reportDate').withColumn('reportDate', explode('reportDate')).withColumn(\"id\", monotonically_increasing_id())\n",
    "df14 = df.select('size').withColumn('size', explode('size')).withColumn(\"id\", monotonically_increasing_id())\n"
   ]
  },
  {
   "cell_type": "code",
   "execution_count": 5,
   "id": "fceea117-4679-4452-9473-3ed1bf963eff",
   "metadata": {
    "execution": {
     "iopub.execute_input": "2023-03-30T06:50:51.596493Z",
     "iopub.status.busy": "2023-03-30T06:50:51.596247Z",
     "iopub.status.idle": "2023-03-30T06:50:51.878053Z",
     "shell.execute_reply": "2023-03-30T06:50:51.877519Z",
     "shell.execute_reply.started": "2023-03-30T06:50:51.596466Z"
    },
    "tags": []
   },
   "outputs": [
    {
     "data": {
      "application/vnd.jupyter.widget-view+json": {
       "model_id": "9fcc4051123f4faab9782f2628b06a6f",
       "version_major": 2,
       "version_minor": 0
      },
      "text/plain": [
       "VBox()"
      ]
     },
     "metadata": {},
     "output_type": "display_data"
    },
    {
     "data": {
      "application/vnd.jupyter.widget-view+json": {
       "model_id": "",
       "version_major": 2,
       "version_minor": 0
      },
      "text/plain": [
       "FloatProgress(value=0.0, bar_style='info', description='Progress:', layout=Layout(height='25px', width='50%'),…"
      ]
     },
     "metadata": {},
     "output_type": "display_data"
    }
   ],
   "source": [
    "df_join = df1.join(df2, \"id\").join(df3, \"id\").join(df4, \"id\").join(df5, \"id\") \\\n",
    "          .join(df6, \"id\").join(df7, \"id\").join(df8, \"id\").join(df9, \"id\") \\\n",
    "          .join(df10, \"id\").join(df11, \"id\").join(df12, \"id\").join(df13, \"id\") \\\n",
    "          .join(df14, \"id\").drop(\"id\")"
   ]
  },
  {
   "cell_type": "code",
   "execution_count": 6,
   "id": "b5421099-7d69-41d5-9ef9-4b5853fe3407",
   "metadata": {
    "execution": {
     "iopub.execute_input": "2023-03-30T06:51:06.512839Z",
     "iopub.status.busy": "2023-03-30T06:51:06.512575Z",
     "iopub.status.idle": "2023-03-30T06:51:06.604576Z",
     "shell.execute_reply": "2023-03-30T06:51:06.603935Z",
     "shell.execute_reply.started": "2023-03-30T06:51:06.512811Z"
    },
    "tags": []
   },
   "outputs": [
    {
     "data": {
      "application/vnd.jupyter.widget-view+json": {
       "model_id": "d54882ad69dd4e8687bc47964a8dd8bc",
       "version_major": 2,
       "version_minor": 0
      },
      "text/plain": [
       "VBox()"
      ]
     },
     "metadata": {},
     "output_type": "display_data"
    },
    {
     "data": {
      "application/vnd.jupyter.widget-view+json": {
       "model_id": "",
       "version_major": 2,
       "version_minor": 0
      },
      "text/plain": [
       "FloatProgress(value=0.0, bar_style='info', description='Progress:', layout=Layout(height='25px', width='50%'),…"
      ]
     },
     "metadata": {},
     "output_type": "display_data"
    },
    {
     "name": "stdout",
     "output_type": "stream",
     "text": [
      "<class 'pyspark.sql.dataframe.DataFrame'>"
     ]
    }
   ],
   "source": [
    "type(df_join)"
   ]
  },
  {
   "cell_type": "code",
   "execution_count": 7,
   "id": "65aa9378-ca9e-4d46-b4ba-1dfb891641fc",
   "metadata": {
    "execution": {
     "iopub.execute_input": "2023-03-30T06:51:11.982864Z",
     "iopub.status.busy": "2023-03-30T06:51:11.982648Z",
     "iopub.status.idle": "2023-03-30T06:51:17.342705Z",
     "shell.execute_reply": "2023-03-30T06:51:17.342079Z",
     "shell.execute_reply.started": "2023-03-30T06:51:11.982842Z"
    },
    "tags": []
   },
   "outputs": [
    {
     "data": {
      "application/vnd.jupyter.widget-view+json": {
       "model_id": "c6ddb37a7a824a519bb0778ac6020fd1",
       "version_major": 2,
       "version_minor": 0
      },
      "text/plain": [
       "VBox()"
      ]
     },
     "metadata": {},
     "output_type": "display_data"
    },
    {
     "data": {
      "application/vnd.jupyter.widget-view+json": {
       "model_id": "",
       "version_major": 2,
       "version_minor": 0
      },
      "text/plain": [
       "FloatProgress(value=0.0, bar_style='info', description='Progress:', layout=Layout(height='25px', width='50%'),…"
      ]
     },
     "metadata": {},
     "output_type": "display_data"
    },
    {
     "name": "stdout",
     "output_type": "stream",
     "text": [
      "+--------------------+--------------------+---+----------+----------+----------+--------+------------+------+--------------+---------------------+--------------------+----------+-------+\n",
      "|  acceptanceDateTime|     accessionNumber|act|fileNumber|filingDate|filmNumber|    form|isInlineXBRL|isXBRL|         items|primaryDocDescription|     primaryDocument|reportDate|   size|\n",
      "+--------------------+--------------------+---+----------+----------+----------+--------+------------+------+--------------+---------------------+--------------------+----------+-------+\n",
      "|2010-04-26T11:52:...|0001104659-10-021700|   |          |2010-04-26|          |SC 13D/A|           0|     0|              |             SC 13D/A|a10-8551_1sc13da.htm|          | 128457|\n",
      "|2010-04-12T17:15:...|0001104659-10-019368| 34| 001-06263|2010-04-12|  10745530|     8-K|           0|     0|1.01,2.01,9.01|                  8-K|    a10-8035_18k.htm|2010-04-07|  58759|\n",
      "|2010-04-07T16:42:...|0001127602-10-010769|   |          |2010-04-07|          |       4|           0|     0|              |     PRIMARY DOCUMENT|xslF345X03/form4.xml|2010-04-06|   8078|\n",
      "|2010-04-02T12:13:...|0001127602-10-010179|   |          |2010-04-02|          |       4|           0|     0|              |     PRIMARY DOCUMENT|xslF345X03/form4.xml|2010-04-01|  12176|\n",
      "|2010-03-29T17:24:...|0001104659-10-017022| 34| 001-06263|2010-03-29|  10711495|     8-K|           0|     0|1.01,8.01,9.01|                  8-K|    a10-7157_18k.htm|2010-03-25| 855058|\n",
      "|2010-03-22T10:04:...|0000000000-10-015578|   |          |2010-03-22|          |  UPLOAD|           0|     0|              |                     |       filename1.pdf|          |  44039|\n",
      "|2010-03-19T15:55:...|0001104659-10-015424| 34| 001-06263|2010-03-19|  10694263|    10-Q|           0|     0|              |                 10-Q|   a10-6558_110q.htm|2010-02-28|1045271|\n",
      "|2010-03-18T16:23:...|0001104659-10-015212|   |          |2010-03-18|          | CORRESP|           0|     0|              |                     |       filename1.htm|          |  19627|\n",
      "|2010-03-17T06:01:...|0001104659-10-014676| 34| 001-06263|2010-03-17|  10687398|     8-K|           0|     0|     2.02,9.01|                  8-K|    a10-6483_18k.htm|2010-03-16| 310419|\n",
      "|2010-03-05T20:35:...|0000000000-10-012687|   |          |2010-03-05|          |  UPLOAD|           0|     0|              |                     |       filename1.pdf|          |  62445|\n",
      "|2010-03-05T15:33:...|0001127602-10-007705|   |          |2010-03-05|          |     4/A|           0|     0|              |     PRIMARY DOCUMENT|xslF345X03/form4a...|2010-03-01|   4672|\n",
      "|2010-03-03T14:06:...|0001127602-10-007092|   |          |2010-03-03|          |       4|           0|     0|              |     PRIMARY DOCUMENT|xslF345X03/form4.xml|2010-03-01|   4583|\n",
      "|2010-03-03T13:43:...|0001127602-10-007079|   |          |2010-03-03|          |       4|           0|     0|              |     PRIMARY DOCUMENT|xslF345X03/form4.xml|2010-03-01|   5381|\n",
      "|2010-03-03T13:27:...|0001127602-10-007052|   |          |2010-03-03|          |       4|           0|     0|              |     PRIMARY DOCUMENT|xslF345X03/form4.xml|2010-03-01|   5437|\n",
      "|2010-02-12T17:20:...|0001398344-10-000254| 34| 005-20840|2010-02-12|  10601066|SC 13G/A|           0|     0|              |                     |fp0001365_sc13ga-...|          |   9897|\n",
      "|2010-02-12T13:03:...|0000895421-10-000335| 34| 005-20840|2010-02-12|  10596986|SC 13G/A|           0|     0|              |      AM AMENDMENT MS|        aarcorp1.txt|          |  13447|\n",
      "|2010-02-10T06:17:...|0001104659-10-005830| 34| 001-06263|2010-02-10|  10586115|     8-K|           0|     0|     8.01,9.01|                  8-K|    a10-3490_18k.htm|2010-02-09|  36519|\n",
      "|2010-02-09T17:13:...|0001102578-10-000022| 34| 005-20840|2010-02-09|  10585175|SC 13G/A|           0|     0|              | AAR CORP INC - 12...|   air13g3rd1209.txt|          |  21013|\n",
      "|2010-01-29T14:12:...|0001086364-10-006858| 34| 005-20840|2010-01-29|  10557153|  SC 13G|           0|     0|              |                     |   aarcorp123109.txt|          |  14956|\n",
      "|2010-01-28T14:50:...|0000070858-10-000042| 34| 005-20840|2010-01-28|  10553520|  SC 13G|           0|     0|              |         AAR CORP 13G|         aarcorp.htm|          | 162404|\n",
      "+--------------------+--------------------+---+----------+----------+----------+--------+------------+------+--------------+---------------------+--------------------+----------+-------+\n",
      "only showing top 20 rows"
     ]
    }
   ],
   "source": [
    "df_join.show()"
   ]
  },
  {
   "cell_type": "code",
   "execution_count": 8,
   "id": "8f6b44b6-60c6-4367-b689-bd94e359f9c4",
   "metadata": {
    "execution": {
     "iopub.execute_input": "2023-03-30T06:51:26.300189Z",
     "iopub.status.busy": "2023-03-30T06:51:26.299969Z",
     "iopub.status.idle": "2023-03-30T06:51:26.359047Z",
     "shell.execute_reply": "2023-03-30T06:51:26.358511Z",
     "shell.execute_reply.started": "2023-03-30T06:51:26.300166Z"
    },
    "tags": []
   },
   "outputs": [
    {
     "data": {
      "application/vnd.jupyter.widget-view+json": {
       "model_id": "0358f6b2c4c94d8b87efa3dca15d3087",
       "version_major": 2,
       "version_minor": 0
      },
      "text/plain": [
       "VBox()"
      ]
     },
     "metadata": {},
     "output_type": "display_data"
    },
    {
     "data": {
      "application/vnd.jupyter.widget-view+json": {
       "model_id": "",
       "version_major": 2,
       "version_minor": 0
      },
      "text/plain": [
       "FloatProgress(value=0.0, bar_style='info', description='Progress:', layout=Layout(height='25px', width='50%'),…"
      ]
     },
     "metadata": {},
     "output_type": "display_data"
    },
    {
     "name": "stdout",
     "output_type": "stream",
     "text": [
      "<class 'pyspark.sql.dataframe.DataFrame'>"
     ]
    }
   ],
   "source": [
    "type(df_join)"
   ]
  },
  {
   "cell_type": "code",
   "execution_count": 9,
   "id": "5abefb00-2f00-4902-9e4f-b0027b455183",
   "metadata": {
    "execution": {
     "iopub.execute_input": "2023-03-30T06:51:52.462915Z",
     "iopub.status.busy": "2023-03-30T06:51:52.462690Z",
     "iopub.status.idle": "2023-03-30T06:51:53.763069Z",
     "shell.execute_reply": "2023-03-30T06:51:53.762329Z",
     "shell.execute_reply.started": "2023-03-30T06:51:52.462892Z"
    },
    "tags": []
   },
   "outputs": [
    {
     "data": {
      "application/vnd.jupyter.widget-view+json": {
       "model_id": "b7fef5513f5840b29402abeedd0e9f7c",
       "version_major": 2,
       "version_minor": 0
      },
      "text/plain": [
       "VBox()"
      ]
     },
     "metadata": {},
     "output_type": "display_data"
    },
    {
     "data": {
      "application/vnd.jupyter.widget-view+json": {
       "model_id": "",
       "version_major": 2,
       "version_minor": 0
      },
      "text/plain": [
       "FloatProgress(value=0.0, bar_style='info', description='Progress:', layout=Layout(height='25px', width='50%'),…"
      ]
     },
     "metadata": {},
     "output_type": "display_data"
    },
    {
     "name": "stdout",
     "output_type": "stream",
     "text": [
      "+---------+\n",
      "|namespace|\n",
      "+---------+\n",
      "|  default|\n",
      "+---------+"
     ]
    }
   ],
   "source": [
    "spark.sql(\"SHOW DATABASES\").show()"
   ]
  },
  {
   "cell_type": "code",
   "execution_count": 10,
   "id": "e27c187c-0633-4640-8754-6f311f375107",
   "metadata": {
    "execution": {
     "iopub.execute_input": "2023-03-30T06:52:47.321353Z",
     "iopub.status.busy": "2023-03-30T06:52:47.321043Z",
     "iopub.status.idle": "2023-03-30T06:52:47.615511Z",
     "shell.execute_reply": "2023-03-30T06:52:47.614765Z",
     "shell.execute_reply.started": "2023-03-30T06:52:47.321321Z"
    },
    "tags": []
   },
   "outputs": [
    {
     "data": {
      "application/vnd.jupyter.widget-view+json": {
       "model_id": "0b4e05afdb9344edaf71b12d552fb5a9",
       "version_major": 2,
       "version_minor": 0
      },
      "text/plain": [
       "VBox()"
      ]
     },
     "metadata": {},
     "output_type": "display_data"
    },
    {
     "data": {
      "application/vnd.jupyter.widget-view+json": {
       "model_id": "",
       "version_major": 2,
       "version_minor": 0
      },
      "text/plain": [
       "FloatProgress(value=0.0, bar_style='info', description='Progress:', layout=Layout(height='25px', width='50%'),…"
      ]
     },
     "metadata": {},
     "output_type": "display_data"
    },
    {
     "name": "stdout",
     "output_type": "stream",
     "text": [
      "+--------+---------+-----------+\n",
      "|database|tableName|isTemporary|\n",
      "+--------+---------+-----------+\n",
      "+--------+---------+-----------+"
     ]
    }
   ],
   "source": [
    "spark.sql(\"SHOW tables\").show()"
   ]
  },
  {
   "cell_type": "code",
   "execution_count": 11,
   "id": "9fddd423-c29a-4b1b-80f3-2db9bd4f9a4c",
   "metadata": {
    "execution": {
     "iopub.execute_input": "2023-03-30T06:52:57.408060Z",
     "iopub.status.busy": "2023-03-30T06:52:57.407722Z",
     "iopub.status.idle": "2023-03-30T06:52:57.702032Z",
     "shell.execute_reply": "2023-03-30T06:52:57.701335Z",
     "shell.execute_reply.started": "2023-03-30T06:52:57.408020Z"
    },
    "tags": []
   },
   "outputs": [
    {
     "data": {
      "application/vnd.jupyter.widget-view+json": {
       "model_id": "95c5d5df971a4844911f87c87538e87e",
       "version_major": 2,
       "version_minor": 0
      },
      "text/plain": [
       "VBox()"
      ]
     },
     "metadata": {},
     "output_type": "display_data"
    },
    {
     "data": {
      "application/vnd.jupyter.widget-view+json": {
       "model_id": "",
       "version_major": 2,
       "version_minor": 0
      },
      "text/plain": [
       "FloatProgress(value=0.0, bar_style='info', description='Progress:', layout=Layout(height='25px', width='50%'),…"
      ]
     },
     "metadata": {},
     "output_type": "display_data"
    }
   ],
   "source": [
    "df_join.createOrReplaceTempView(\"temp_table\")"
   ]
  },
  {
   "cell_type": "code",
   "execution_count": 9,
   "id": "7b1ec191-b32f-46ef-b8a4-f5a75898710c",
   "metadata": {
    "execution": {
     "iopub.execute_input": "2023-03-30T13:42:43.146309Z",
     "iopub.status.busy": "2023-03-30T13:42:43.146053Z",
     "iopub.status.idle": "2023-03-30T13:42:43.424222Z",
     "shell.execute_reply": "2023-03-30T13:42:43.423563Z",
     "shell.execute_reply.started": "2023-03-30T13:42:43.146281Z"
    },
    "tags": []
   },
   "outputs": [
    {
     "data": {
      "application/vnd.jupyter.widget-view+json": {
       "model_id": "",
       "version_major": 2,
       "version_minor": 0
      },
      "text/plain": [
       "VBox()"
      ]
     },
     "metadata": {},
     "output_type": "display_data"
    },
    {
     "data": {
      "application/vnd.jupyter.widget-view+json": {
       "model_id": "",
       "version_major": 2,
       "version_minor": 0
      },
      "text/plain": [
       "FloatProgress(value=0.0, bar_style='info', description='Progress:', layout=Layout(height='25px', width='50%'),…"
      ]
     },
     "metadata": {},
     "output_type": "display_data"
    },
    {
     "name": "stdout",
     "output_type": "stream",
     "text": [
      "+--------+----------+-----------+\n",
      "|database| tableName|isTemporary|\n",
      "+--------+----------+-----------+\n",
      "|        |temp_table|       true|\n",
      "+--------+----------+-----------+"
     ]
    }
   ],
   "source": [
    "spark.sql(\"SHOW tables\").show()"
   ]
  },
  {
   "cell_type": "code",
   "execution_count": 12,
   "id": "7afdc7b9-88c2-4c4f-b9fe-d353956f7b28",
   "metadata": {
    "execution": {
     "iopub.execute_input": "2023-03-30T06:53:07.802955Z",
     "iopub.status.busy": "2023-03-30T06:53:07.802719Z",
     "iopub.status.idle": "2023-03-30T06:53:25.195050Z",
     "shell.execute_reply": "2023-03-30T06:53:25.194386Z",
     "shell.execute_reply.started": "2023-03-30T06:53:07.802930Z"
    },
    "tags": []
   },
   "outputs": [
    {
     "data": {
      "application/vnd.jupyter.widget-view+json": {
       "model_id": "cef9e85b18f8442c92ce7d1fcedaf3ba",
       "version_major": 2,
       "version_minor": 0
      },
      "text/plain": [
       "VBox()"
      ]
     },
     "metadata": {},
     "output_type": "display_data"
    },
    {
     "data": {
      "application/vnd.jupyter.widget-view+json": {
       "model_id": "",
       "version_major": 2,
       "version_minor": 0
      },
      "text/plain": [
       "FloatProgress(value=0.0, bar_style='info', description='Progress:', layout=Layout(height='25px', width='50%'),…"
      ]
     },
     "metadata": {},
     "output_type": "display_data"
    },
    {
     "name": "stdout",
     "output_type": "stream",
     "text": [
      "DataFrame[]"
     ]
    }
   ],
   "source": [
    "spark.sql(\"CREATE TABLE sec_table AS SELECT * FROM temp_table\")"
   ]
  },
  {
   "cell_type": "code",
   "execution_count": 13,
   "id": "c918b1b0-c89a-437d-94c1-4476fdc6b8fc",
   "metadata": {
    "execution": {
     "iopub.execute_input": "2023-03-30T06:53:38.332218Z",
     "iopub.status.busy": "2023-03-30T06:53:38.331986Z",
     "iopub.status.idle": "2023-03-30T06:53:38.607347Z",
     "shell.execute_reply": "2023-03-30T06:53:38.606479Z",
     "shell.execute_reply.started": "2023-03-30T06:53:38.332193Z"
    },
    "tags": []
   },
   "outputs": [
    {
     "data": {
      "application/vnd.jupyter.widget-view+json": {
       "model_id": "cd23e707290849b8814e78d18f7ae6a9",
       "version_major": 2,
       "version_minor": 0
      },
      "text/plain": [
       "VBox()"
      ]
     },
     "metadata": {},
     "output_type": "display_data"
    },
    {
     "data": {
      "application/vnd.jupyter.widget-view+json": {
       "model_id": "",
       "version_major": 2,
       "version_minor": 0
      },
      "text/plain": [
       "FloatProgress(value=0.0, bar_style='info', description='Progress:', layout=Layout(height='25px', width='50%'),…"
      ]
     },
     "metadata": {},
     "output_type": "display_data"
    },
    {
     "name": "stdout",
     "output_type": "stream",
     "text": [
      "+--------+----------+-----------+\n",
      "|database| tableName|isTemporary|\n",
      "+--------+----------+-----------+\n",
      "| default| sec_table|      false|\n",
      "|        |temp_table|       true|\n",
      "+--------+----------+-----------+"
     ]
    }
   ],
   "source": [
    "spark.sql(\"SHOW tables\").show()"
   ]
  },
  {
   "cell_type": "code",
   "execution_count": 35,
   "id": "1a0799fa-51eb-4326-9b1a-873fa323f799",
   "metadata": {
    "execution": {
     "iopub.execute_input": "2023-03-29T15:45:40.135192Z",
     "iopub.status.busy": "2023-03-29T15:45:40.134958Z",
     "iopub.status.idle": "2023-03-29T15:45:40.419073Z",
     "shell.execute_reply": "2023-03-29T15:45:40.418285Z",
     "shell.execute_reply.started": "2023-03-29T15:45:40.135167Z"
    }
   },
   "outputs": [
    {
     "data": {
      "application/vnd.jupyter.widget-view+json": {
       "model_id": "3730ef28b2de4c31aca0d94ebd8fdc60",
       "version_major": 2,
       "version_minor": 0
      },
      "text/plain": [
       "VBox()"
      ]
     },
     "metadata": {},
     "output_type": "display_data"
    },
    {
     "data": {
      "application/vnd.jupyter.widget-view+json": {
       "model_id": "",
       "version_major": 2,
       "version_minor": 0
      },
      "text/plain": [
       "FloatProgress(value=0.0, bar_style='info', description='Progress:', layout=Layout(height='25px', width='50%'),…"
      ]
     },
     "metadata": {},
     "output_type": "display_data"
    },
    {
     "name": "stdout",
     "output_type": "stream",
     "text": [
      "+--------------------+---------+-------+\n",
      "|            col_name|data_type|comment|\n",
      "+--------------------+---------+-------+\n",
      "|  acceptanceDateTime|   string|   null|\n",
      "|     accessionNumber|   string|   null|\n",
      "|                 act|   string|   null|\n",
      "|          fileNumber|   string|   null|\n",
      "|          filingDate|   string|   null|\n",
      "|          filmNumber|   string|   null|\n",
      "|                form|   string|   null|\n",
      "|        isInlineXBRL|   bigint|   null|\n",
      "|              isXBRL|   bigint|   null|\n",
      "|               items|   string|   null|\n",
      "|primaryDocDescrip...|   string|   null|\n",
      "|     primaryDocument|   string|   null|\n",
      "|          reportDate|   string|   null|\n",
      "|                size|   bigint|   null|\n",
      "+--------------------+---------+-------+"
     ]
    }
   ],
   "source": [
    "spark.sql(\"DESC sec_table\").show()"
   ]
  },
  {
   "cell_type": "code",
   "execution_count": 14,
   "id": "83737dac-68a6-4cd8-905a-05f8b854f267",
   "metadata": {
    "execution": {
     "iopub.execute_input": "2023-03-30T06:54:20.092963Z",
     "iopub.status.busy": "2023-03-30T06:54:20.092718Z",
     "iopub.status.idle": "2023-03-30T06:54:25.426427Z",
     "shell.execute_reply": "2023-03-30T06:54:25.425660Z",
     "shell.execute_reply.started": "2023-03-30T06:54:20.092939Z"
    },
    "tags": []
   },
   "outputs": [
    {
     "data": {
      "application/vnd.jupyter.widget-view+json": {
       "model_id": "ef62de50b3154f3d80b14ace1fc8e578",
       "version_major": 2,
       "version_minor": 0
      },
      "text/plain": [
       "VBox()"
      ]
     },
     "metadata": {},
     "output_type": "display_data"
    },
    {
     "data": {
      "application/vnd.jupyter.widget-view+json": {
       "model_id": "",
       "version_major": 2,
       "version_minor": 0
      },
      "text/plain": [
       "FloatProgress(value=0.0, bar_style='info', description='Progress:', layout=Layout(height='25px', width='50%'),…"
      ]
     },
     "metadata": {},
     "output_type": "display_data"
    }
   ],
   "source": [
    "df_join.write.mode(\"append\").insertInto(\"sec_table\")"
   ]
  },
  {
   "cell_type": "code",
   "execution_count": 15,
   "id": "40242651-539a-434d-81cd-bcb663bb425a",
   "metadata": {
    "execution": {
     "iopub.execute_input": "2023-03-30T06:54:42.564409Z",
     "iopub.status.busy": "2023-03-30T06:54:42.564174Z",
     "iopub.status.idle": "2023-03-30T06:54:45.951232Z",
     "shell.execute_reply": "2023-03-30T06:54:45.950474Z",
     "shell.execute_reply.started": "2023-03-30T06:54:42.564383Z"
    },
    "tags": []
   },
   "outputs": [
    {
     "data": {
      "application/vnd.jupyter.widget-view+json": {
       "model_id": "d3385e284c4841dc8b4f79e7e5275fd5",
       "version_major": 2,
       "version_minor": 0
      },
      "text/plain": [
       "VBox()"
      ]
     },
     "metadata": {},
     "output_type": "display_data"
    },
    {
     "data": {
      "application/vnd.jupyter.widget-view+json": {
       "model_id": "",
       "version_major": 2,
       "version_minor": 0
      },
      "text/plain": [
       "FloatProgress(value=0.0, bar_style='info', description='Progress:', layout=Layout(height='25px', width='50%'),…"
      ]
     },
     "metadata": {},
     "output_type": "display_data"
    },
    {
     "name": "stdout",
     "output_type": "stream",
     "text": [
      "+--------------------+--------------------+---+----------+----------+----------+--------+------------+------+--------------+---------------------+--------------------+----------+-------+\n",
      "|  acceptanceDateTime|     accessionNumber|act|fileNumber|filingDate|filmNumber|    form|isInlineXBRL|isXBRL|         items|primaryDocDescription|     primaryDocument|reportDate|   size|\n",
      "+--------------------+--------------------+---+----------+----------+----------+--------+------------+------+--------------+---------------------+--------------------+----------+-------+\n",
      "|2010-04-26T11:52:...|0001104659-10-021700|   |          |2010-04-26|          |SC 13D/A|           0|     0|              |             SC 13D/A|a10-8551_1sc13da.htm|          | 128457|\n",
      "|2010-04-12T17:15:...|0001104659-10-019368| 34| 001-06263|2010-04-12|  10745530|     8-K|           0|     0|1.01,2.01,9.01|                  8-K|    a10-8035_18k.htm|2010-04-07|  58759|\n",
      "|2010-04-07T16:42:...|0001127602-10-010769|   |          |2010-04-07|          |       4|           0|     0|              |     PRIMARY DOCUMENT|xslF345X03/form4.xml|2010-04-06|   8078|\n",
      "|2010-04-02T12:13:...|0001127602-10-010179|   |          |2010-04-02|          |       4|           0|     0|              |     PRIMARY DOCUMENT|xslF345X03/form4.xml|2010-04-01|  12176|\n",
      "|2010-03-29T17:24:...|0001104659-10-017022| 34| 001-06263|2010-03-29|  10711495|     8-K|           0|     0|1.01,8.01,9.01|                  8-K|    a10-7157_18k.htm|2010-03-25| 855058|\n",
      "|2010-03-22T10:04:...|0000000000-10-015578|   |          |2010-03-22|          |  UPLOAD|           0|     0|              |                     |       filename1.pdf|          |  44039|\n",
      "|2010-03-19T15:55:...|0001104659-10-015424| 34| 001-06263|2010-03-19|  10694263|    10-Q|           0|     0|              |                 10-Q|   a10-6558_110q.htm|2010-02-28|1045271|\n",
      "|2010-03-18T16:23:...|0001104659-10-015212|   |          |2010-03-18|          | CORRESP|           0|     0|              |                     |       filename1.htm|          |  19627|\n",
      "|2010-03-17T06:01:...|0001104659-10-014676| 34| 001-06263|2010-03-17|  10687398|     8-K|           0|     0|     2.02,9.01|                  8-K|    a10-6483_18k.htm|2010-03-16| 310419|\n",
      "|2010-03-05T20:35:...|0000000000-10-012687|   |          |2010-03-05|          |  UPLOAD|           0|     0|              |                     |       filename1.pdf|          |  62445|\n",
      "+--------------------+--------------------+---+----------+----------+----------+--------+------------+------+--------------+---------------------+--------------------+----------+-------+"
     ]
    }
   ],
   "source": [
    "spark.sql(\"SELECT * FROM sec_table LIMIT 10\").show()"
   ]
  },
  {
   "cell_type": "code",
   "execution_count": 16,
   "id": "1c87eb10-561a-467f-a80f-b8af7b7ad509",
   "metadata": {
    "execution": {
     "iopub.execute_input": "2023-03-30T06:54:51.313335Z",
     "iopub.status.busy": "2023-03-30T06:54:51.313010Z",
     "iopub.status.idle": "2023-03-30T06:54:53.673522Z",
     "shell.execute_reply": "2023-03-30T06:54:53.672808Z",
     "shell.execute_reply.started": "2023-03-30T06:54:51.313311Z"
    },
    "tags": []
   },
   "outputs": [
    {
     "data": {
      "application/vnd.jupyter.widget-view+json": {
       "model_id": "86e14a7c2df74403bd7febaedeb5a6cc",
       "version_major": 2,
       "version_minor": 0
      },
      "text/plain": [
       "VBox()"
      ]
     },
     "metadata": {},
     "output_type": "display_data"
    },
    {
     "data": {
      "application/vnd.jupyter.widget-view+json": {
       "model_id": "",
       "version_major": 2,
       "version_minor": 0
      },
      "text/plain": [
       "FloatProgress(value=0.0, bar_style='info', description='Progress:', layout=Layout(height='25px', width='50%'),…"
      ]
     },
     "metadata": {},
     "output_type": "display_data"
    },
    {
     "name": "stdout",
     "output_type": "stream",
     "text": [
      "+--------+\n",
      "|count(1)|\n",
      "+--------+\n",
      "|    1982|\n",
      "+--------+"
     ]
    }
   ],
   "source": [
    "spark.sql(\"SELECT COUNT(*) FROM sec_table LIMIT 10\").show()"
   ]
  },
  {
   "cell_type": "code",
   "execution_count": 24,
   "id": "a9d377ee-340e-4691-8630-a7ad2ba9387c",
   "metadata": {
    "execution": {
     "iopub.execute_input": "2023-03-30T07:31:10.360462Z",
     "iopub.status.busy": "2023-03-30T07:31:10.360245Z",
     "iopub.status.idle": "2023-03-30T07:31:12.673785Z",
     "shell.execute_reply": "2023-03-30T07:31:12.673098Z",
     "shell.execute_reply.started": "2023-03-30T07:31:10.360439Z"
    }
   },
   "outputs": [
    {
     "data": {
      "application/vnd.jupyter.widget-view+json": {
       "model_id": "b58e29682019492cb41143dc3f962a30",
       "version_major": 2,
       "version_minor": 0
      },
      "text/plain": [
       "VBox()"
      ]
     },
     "metadata": {},
     "output_type": "display_data"
    },
    {
     "data": {
      "application/vnd.jupyter.widget-view+json": {
       "model_id": "",
       "version_major": 2,
       "version_minor": 0
      },
      "text/plain": [
       "FloatProgress(value=0.0, bar_style='info', description='Progress:', layout=Layout(height='25px', width='50%'),…"
      ]
     },
     "metadata": {},
     "output_type": "display_data"
    },
    {
     "name": "stdout",
     "output_type": "stream",
     "text": [
      "['CIK0000001750-submissions-001.json', 'CIK0000001800-submissions-001.json', 'CIK0000001800-submissions-002.json', 'CIK0000002034-submissions-001.json', 'CIK0000002135-submissions-001.json', 'CIK0000002488-submissions-001.json', 'CIK0000002969-submissions-001.json', 'CIK0000003116-submissions-001.json', 'CIK0000003197-submissions-001.json', 'CIK0000003370-submissions-001.json', 'CIK0000003453-submissions-001.json', 'CIK0000003521-submissions-001.json', 'CIK0000003545-submissions-001.json', 'CIK0000003570-submissions-001.json', 'CIK0000003673-submissions-001.json', 'CIK0000003794-submissions-001.json', 'CIK0000003906-submissions-001.json', 'CIK0000004127-submissions-001.json', 'CIK0000004281-submissions-002.json', 'CIK0000004447-submissions-001.json', 'CIK0000004515-submissions-001.json', 'CIK0000004904-submissions-001.json', 'CIK0000004962-submissions-001.json', 'CIK0000004977-submissions-001.json', 'CIK0000005133-submissions-001.json', 'CIK0000005272-submissions-001.json', 'CIK0000005272-submissions-002.json', 'CIK0000005272-submissions-003.json', 'CIK0000005513-submissions-001.json', 'CIK0000005981-submissions-001.json', 'CIK0000006201-submissions-001.json', 'CIK0000006201-submissions-002.json', 'CIK0000006281-submissions-001.json', 'CIK0000006284-submissions-001.json']"
     ]
    }
   ],
   "source": [
    "dir_path = \"hdfs://ec2-65-0-45-11.ap-south-1.compute.amazonaws.com/user/hadoop/sec_data/\"\n",
    "\n",
    "# List file names in HDFS directory\n",
    "proc = subprocess.Popen([\"hadoop\", \"fs\", \"-ls\", dir_path], stdout=subprocess.PIPE)\n",
    "out, err = proc.communicate()\n",
    "\n",
    "# Convert output to list of file names\n",
    "file_names = [line.split()[-1].split('/')[-1] for line in out.decode().strip().split('\\n')[1:]]\n",
    "print(file_names)"
   ]
  },
  {
   "cell_type": "code",
   "execution_count": 25,
   "id": "82928857-b012-405e-9275-711793bb6351",
   "metadata": {
    "execution": {
     "iopub.execute_input": "2023-03-30T07:39:11.635999Z",
     "iopub.status.busy": "2023-03-30T07:39:11.635764Z",
     "iopub.status.idle": "2023-03-30T07:40:25.905349Z",
     "shell.execute_reply": "2023-03-30T07:40:25.904686Z",
     "shell.execute_reply.started": "2023-03-30T07:39:11.635975Z"
    },
    "tags": []
   },
   "outputs": [
    {
     "data": {
      "application/vnd.jupyter.widget-view+json": {
       "model_id": "acf86da31eea4053afe04630179e08eb",
       "version_major": 2,
       "version_minor": 0
      },
      "text/plain": [
       "VBox()"
      ]
     },
     "metadata": {},
     "output_type": "display_data"
    },
    {
     "data": {
      "application/vnd.jupyter.widget-view+json": {
       "model_id": "",
       "version_major": 2,
       "version_minor": 0
      },
      "text/plain": [
       "FloatProgress(value=0.0, bar_style='info', description='Progress:', layout=Layout(height='25px', width='50%'),…"
      ]
     },
     "metadata": {},
     "output_type": "display_data"
    }
   ],
   "source": [
    "for filename in file_names:\n",
    "    \n",
    "    file_path = f\"hdfs://ec2-65-0-45-11.ap-south-1.compute.amazonaws.com/user/hadoop/sec_data/{filename}\"\n",
    "    \n",
    "    df = spark.read.json(file_path)\n",
    "    \n",
    "    df1 = df.select('acceptanceDateTime').withColumn('acceptanceDateTime', explode('acceptanceDateTime')).withColumn(\"id\", monotonically_increasing_id())\n",
    "    df2 = df.select('accessionNumber').withColumn('accessionNumber', explode('accessionNumber')).withColumn(\"id\", monotonically_increasing_id())\n",
    "    df3 = df.select('act').withColumn('act', explode('act')).withColumn(\"id\", monotonically_increasing_id())\n",
    "    df4 = df.select('fileNumber').withColumn('fileNumber', explode('fileNumber')).withColumn(\"id\", monotonically_increasing_id())\n",
    "    df5 = df.select('filingDate').withColumn('filingDate', explode('filingDate')).withColumn(\"id\", monotonically_increasing_id())\n",
    "    df6 = df.select('filmNumber').withColumn('filmNumber', explode('filmNumber')).withColumn(\"id\", monotonically_increasing_id())\n",
    "    df7 = df.select('form').withColumn('form', explode('form')).withColumn(\"id\", monotonically_increasing_id())\n",
    "    df8 = df.select('isInlineXBRL').withColumn('isInlineXBRL', explode('isInlineXBRL')).withColumn(\"id\", monotonically_increasing_id())\n",
    "    df9 = df.select('isXBRL').withColumn('isXBRL', explode('isXBRL')).withColumn(\"id\", monotonically_increasing_id())\n",
    "    df10 = df.select('items').withColumn('items', explode('items')).withColumn(\"id\", monotonically_increasing_id())\n",
    "    df11 = df.select('primaryDocDescription').withColumn('primaryDocDescription', explode('primaryDocDescription')).withColumn(\"id\", monotonically_increasing_id())\n",
    "    df12 = df.select('primaryDocument').withColumn('primaryDocument', explode('primaryDocument')).withColumn(\"id\", monotonically_increasing_id())\n",
    "    df13 = df.select('reportDate').withColumn('reportDate', explode('reportDate')).withColumn(\"id\", monotonically_increasing_id())\n",
    "    df14 = df.select('size').withColumn('size', explode('size')).withColumn(\"id\", monotonically_increasing_id())\n",
    "    \n",
    "    df_join = df1.join(df2, \"id\").join(df3, \"id\").join(df4, \"id\").join(df5, \"id\") \\\n",
    "              .join(df6, \"id\").join(df7, \"id\").join(df8, \"id\").join(df9, \"id\") \\\n",
    "              .join(df10, \"id\").join(df11, \"id\").join(df12, \"id\").join(df13, \"id\") \\\n",
    "              .join(df14, \"id\").drop(\"id\")\n",
    "    \n",
    "    df_join.write.mode(\"append\").insertInto(\"sec_table\")"
   ]
  },
  {
   "cell_type": "code",
   "execution_count": 26,
   "id": "585118ba-31a3-4d5d-bcfa-b4c2e11b6c00",
   "metadata": {
    "execution": {
     "iopub.execute_input": "2023-03-30T07:41:32.195799Z",
     "iopub.status.busy": "2023-03-30T07:41:32.195576Z",
     "iopub.status.idle": "2023-03-30T07:41:45.544870Z",
     "shell.execute_reply": "2023-03-30T07:41:45.544268Z",
     "shell.execute_reply.started": "2023-03-30T07:41:32.195775Z"
    }
   },
   "outputs": [
    {
     "data": {
      "application/vnd.jupyter.widget-view+json": {
       "model_id": "c0584163b9c34572aab09a02ff16be79",
       "version_major": 2,
       "version_minor": 0
      },
      "text/plain": [
       "VBox()"
      ]
     },
     "metadata": {},
     "output_type": "display_data"
    },
    {
     "data": {
      "application/vnd.jupyter.widget-view+json": {
       "model_id": "",
       "version_major": 2,
       "version_minor": 0
      },
      "text/plain": [
       "FloatProgress(value=0.0, bar_style='info', description='Progress:', layout=Layout(height='25px', width='50%'),…"
      ]
     },
     "metadata": {},
     "output_type": "display_data"
    },
    {
     "name": "stdout",
     "output_type": "stream",
     "text": [
      "+--------+\n",
      "|count(1)|\n",
      "+--------+\n",
      "|   33329|\n",
      "+--------+"
     ]
    }
   ],
   "source": [
    "spark.sql(\"SELECT COUNT(*) FROM sec_table LIMIT 10\").show()"
   ]
  },
  {
   "cell_type": "code",
   "execution_count": 27,
   "id": "237e8f80-1b9f-49f2-a8c0-ea634fdef951",
   "metadata": {
    "execution": {
     "iopub.execute_input": "2023-03-30T07:42:35.346022Z",
     "iopub.status.busy": "2023-03-30T07:42:35.345793Z",
     "iopub.status.idle": "2023-03-30T07:42:37.648739Z",
     "shell.execute_reply": "2023-03-30T07:42:37.647957Z",
     "shell.execute_reply.started": "2023-03-30T07:42:35.345997Z"
    }
   },
   "outputs": [
    {
     "data": {
      "application/vnd.jupyter.widget-view+json": {
       "model_id": "b86d044ab2504a868c82173729b32f99",
       "version_major": 2,
       "version_minor": 0
      },
      "text/plain": [
       "VBox()"
      ]
     },
     "metadata": {},
     "output_type": "display_data"
    },
    {
     "data": {
      "application/vnd.jupyter.widget-view+json": {
       "model_id": "",
       "version_major": 2,
       "version_minor": 0
      },
      "text/plain": [
       "FloatProgress(value=0.0, bar_style='info', description='Progress:', layout=Layout(height='25px', width='50%'),…"
      ]
     },
     "metadata": {},
     "output_type": "display_data"
    },
    {
     "name": "stdout",
     "output_type": "stream",
     "text": [
      "+--------------------+--------------------+---+----------+----------+----------+----+------------+------+-----+---------------------+--------------------+----------+------+\n",
      "|  acceptanceDateTime|     accessionNumber|act|fileNumber|filingDate|filmNumber|form|isInlineXBRL|isXBRL|items|primaryDocDescription|     primaryDocument|reportDate|  size|\n",
      "+--------------------+--------------------+---+----------+----------+----------+----+------------+------+-----+---------------------+--------------------+----------+------+\n",
      "|2012-02-28T15:07:...|0001104659-12-013978| 33| 033-04959|2012-02-28|  12646582|497K|           0|     0|     |                 497K|a11-32272_23497k.htm|          |472927|\n",
      "|2012-02-28T15:06:...|0001104659-12-013976| 33| 033-04959|2012-02-28|  12646577|497K|           0|     0|     |                 497K|a11-32272_21497k.htm|          |504520|\n",
      "|2012-02-28T15:06:...|0001104659-12-013975| 33| 033-04959|2012-02-28|  12646575|497K|           0|     0|     |                 497K|a11-32272_20497k.htm|          |511523|\n",
      "|2012-02-28T15:04:...|0001104659-12-013969| 33| 033-04959|2012-02-28|  12646561|497K|           0|     0|     |                 497K|a11-32272_13497k.htm|          |475348|\n",
      "|2012-02-28T15:04:...|0001104659-12-013967| 33| 033-04959|2012-02-28|  12646555|497K|           0|     0|     |                 497K|a11-32272_12497k.htm|          |513631|\n",
      "+--------------------+--------------------+---+----------+----------+----------+----+------------+------+-----+---------------------+--------------------+----------+------+"
     ]
    }
   ],
   "source": [
    "spark.sql(\"SELECT * FROM sec_table LIMIT 5\").show()"
   ]
  },
  {
   "cell_type": "code",
   "execution_count": 23,
   "id": "5accfb28-e7ca-4033-8672-50774f2bad44",
   "metadata": {
    "execution": {
     "iopub.execute_input": "2023-03-30T14:05:21.271453Z",
     "iopub.status.busy": "2023-03-30T14:05:21.271194Z",
     "iopub.status.idle": "2023-03-30T14:05:34.608596Z",
     "shell.execute_reply": "2023-03-30T14:05:34.607856Z",
     "shell.execute_reply.started": "2023-03-30T14:05:21.271426Z"
    },
    "tags": []
   },
   "outputs": [
    {
     "data": {
      "application/vnd.jupyter.widget-view+json": {
       "model_id": "973fbd65e7ec4298ad8a54192a3206b4",
       "version_major": 2,
       "version_minor": 0
      },
      "text/plain": [
       "VBox()"
      ]
     },
     "metadata": {},
     "output_type": "display_data"
    },
    {
     "data": {
      "application/vnd.jupyter.widget-view+json": {
       "model_id": "",
       "version_major": 2,
       "version_minor": 0
      },
      "text/plain": [
       "FloatProgress(value=0.0, bar_style='info', description='Progress:', layout=Layout(height='25px', width='50%'),…"
      ]
     },
     "metadata": {},
     "output_type": "display_data"
    },
    {
     "name": "stdout",
     "output_type": "stream",
     "text": [
      "Databases:\n",
      "default"
     ]
    }
   ],
   "source": [
    "cmd = \"hive -e 'SHOW DATABASES;'\"\n",
    "\n",
    "result = subprocess.run(cmd, shell=True, stdout=subprocess.PIPE, stderr=subprocess.PIPE, text=True)\n",
    "\n",
    "if result.returncode == 0:\n",
    "    print('Databases:')\n",
    "    print(result.stdout)\n",
    "else:\n",
    "    print('Error accessing directory')\n",
    "    print(result.stderr)"
   ]
  },
  {
   "cell_type": "code",
   "execution_count": 24,
   "id": "da6d64a5-7bc2-4197-bfd8-737f40d547d2",
   "metadata": {
    "execution": {
     "iopub.execute_input": "2023-03-30T14:05:49.236460Z",
     "iopub.status.busy": "2023-03-30T14:05:49.236220Z",
     "iopub.status.idle": "2023-03-30T14:06:02.567990Z",
     "shell.execute_reply": "2023-03-30T14:06:02.567141Z",
     "shell.execute_reply.started": "2023-03-30T14:05:49.236434Z"
    },
    "tags": []
   },
   "outputs": [
    {
     "data": {
      "application/vnd.jupyter.widget-view+json": {
       "model_id": "cdfcd43284b24daeb25e7ef840f5403f",
       "version_major": 2,
       "version_minor": 0
      },
      "text/plain": [
       "VBox()"
      ]
     },
     "metadata": {},
     "output_type": "display_data"
    },
    {
     "data": {
      "application/vnd.jupyter.widget-view+json": {
       "model_id": "",
       "version_major": 2,
       "version_minor": 0
      },
      "text/plain": [
       "FloatProgress(value=0.0, bar_style='info', description='Progress:', layout=Layout(height='25px', width='50%'),…"
      ]
     },
     "metadata": {},
     "output_type": "display_data"
    },
    {
     "name": "stdout",
     "output_type": "stream",
     "text": [
      "Directory content:\n",
      "2010-04-26T11:52:29.000Z\t0001104659-10-021700\t\t\t2010-04-26\t\tSC 13D/A\t0\t0\t\tSC 13D/A\ta10-8551_1sc13da.htm\t\t128457\n",
      "2010-04-12T17:15:56.000Z\t0001104659-10-019368\t34\t001-06263\t2010-04-12\t10745530\t8-K\t0\t0\t1.01,2.01,9.01\t8-K\ta10-8035_18k.htm\t2010-04-07\t58759\n",
      "2010-04-07T16:42:24.000Z\t0001127602-10-010769\t\t\t2010-04-07\t\t4\t0\t0\t\tPRIMARY DOCUMENT\txslF345X03/form4.xml\t2010-04-06\t8078\n",
      "2010-04-02T12:13:19.000Z\t0001127602-10-010179\t\t\t2010-04-02\t\t4\t0\t0\t\tPRIMARY DOCUMENT\txslF345X03/form4.xml\t2010-04-01\t12176\n",
      "2010-03-29T17:24:20.000Z\t0001104659-10-017022\t34\t001-06263\t2010-03-29\t10711495\t8-K\t0\t0\t1.01,8.01,9.01\t8-K\ta10-7157_18k.htm\t2010-03-25\t855058"
     ]
    }
   ],
   "source": [
    "cmd = \"hive -e 'SELECT * FROM sec_table LIMIT 5;'\"\n",
    "\n",
    "result = subprocess.run(cmd, shell=True, stdout=subprocess.PIPE, stderr=subprocess.PIPE, text=True)\n",
    "\n",
    "if result.returncode == 0:\n",
    "    print('Directory content:')\n",
    "    print(result.stdout)\n",
    "else:\n",
    "    print('Error accessing directory')\n",
    "    print(result.stderr)"
   ]
  }
 ],
 "metadata": {
  "kernelspec": {
   "display_name": "PySpark",
   "language": "",
   "name": "pysparkkernel"
  },
  "language_info": {
   "codemirror_mode": {
    "name": "python",
    "version": 3
   },
   "mimetype": "text/x-python",
   "name": "pyspark",
   "pygments_lexer": "python3"
  }
 },
 "nbformat": 4,
 "nbformat_minor": 5
}
