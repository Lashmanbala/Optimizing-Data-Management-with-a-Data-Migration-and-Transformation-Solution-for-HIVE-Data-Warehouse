{
 "cells": [
  {
   "cell_type": "code",
   "execution_count": 1,
   "id": "2ae32207-31a1-4e19-b6a8-be2e4863086d",
   "metadata": {},
   "outputs": [],
   "source": [
    "import boto3\n",
    "import requests\n",
    "import zipfile\n",
    "import os\n",
    "import pandas as pd\n",
    "import json\n",
    "import pymongo\n",
    "import io"
   ]
  },
  {
   "cell_type": "code",
   "execution_count": 2,
   "id": "2a73ac48-53fb-4a68-aa04-5d204e778049",
   "metadata": {
    "execution": {
     "iopub.execute_input": "2023-03-30T12:00:10.522389Z",
     "iopub.status.busy": "2023-03-30T12:00:10.522167Z",
     "iopub.status.idle": "2023-03-30T12:00:10.525537Z",
     "shell.execute_reply": "2023-03-30T12:00:10.524834Z",
     "shell.execute_reply.started": "2023-03-30T12:00:10.522366Z"
    },
    "tags": []
   },
   "outputs": [],
   "source": [
    "import subprocess"
   ]
  },
  {
   "cell_type": "code",
   "execution_count": 3,
   "id": "076f5dc7-1def-45dc-97a3-f71439553ea2",
   "metadata": {},
   "outputs": [
    {
     "name": "stdout",
     "output_type": "stream",
     "text": [
      "Successfully Session Created\n"
     ]
    }
   ],
   "source": [
    "try:\n",
    "  session = boto3.Session(region_name='ap-south-1',\n",
    "                          aws_access_key_id = os.environ.get('AWS_ACCESS_KEY_ID'),\n",
    "                          aws_secret_access_key = os.environ.get('AWS_SECRET_ACCESS_KEY'))\n",
    "  print('Successfully Session Created')\n",
    "except Exception as e:\n",
    "  print(e)"
   ]
  },
  {
   "cell_type": "code",
   "execution_count": 4,
   "id": "f3c6987b-97ac-498e-9bf6-7e49f019f8e4",
   "metadata": {},
   "outputs": [
    {
     "name": "stdout",
     "output_type": "stream",
     "text": [
      "Successfully s3 client created\n"
     ]
    }
   ],
   "source": [
    "try:\n",
    "  s3 = session.client(service_name='s3',region_name='ap-south-1')\n",
    "  print('Successfully s3 client created')\n",
    "except Exception as e:\n",
    "  print(e)"
   ]
  },
  {
   "cell_type": "code",
   "execution_count": 5,
   "id": "265309eb-4871-4233-84a8-6ca9ab10b8bb",
   "metadata": {},
   "outputs": [
    {
     "name": "stdout",
     "output_type": "stream",
     "text": [
      "analytical-data-bucket\n",
      "aws-glue-assets-894034347035-ap-south-1\n",
      "bucket-athena-result\n",
      "bucket-for-glue-script\n",
      "bucket-for-lambda-function\n",
      "cleaned-json-as-csv\n",
      "raw-csv-from-jupyter\n",
      "raw-csv-test123\n",
      "raw-data-from-webpage\n",
      "raw-json-from-jupyter\n",
      "raw-json-test123\n"
     ]
    }
   ],
   "source": [
    "for i in s3.list_buckets().get('Buckets'):\n",
    "    print(i['Name'])"
   ]
  },
  {
   "cell_type": "code",
   "execution_count": 62,
   "id": "f596f160-8640-41a1-8ba7-eb64ae65fb8a",
   "metadata": {},
   "outputs": [
    {
     "name": "stdout",
     "output_type": "stream",
     "text": [
      "successfully got the zipfile from url\n"
     ]
    }
   ],
   "source": [
    "try:\n",
    "    url = 'https://www.sec.gov/Archives/edgar/daily-index/bulkdata/submissions.zip'\n",
    "\n",
    "    headers = {'user-agent':\n",
    "        'Mozilla/5.0 (Windows NT 10.0; Win64; x64) AppleWebKit/537.36 (KHTML, like Gecko) Chrome/109.0.0.0 Safari/537.36 Edg/109.0.1518.55'}\n",
    "\n",
    "    response = requests.get(url,headers = headers,stream=True)\n",
    "\n",
    "    content = response.content\n",
    "    \n",
    "    print('successfully got the zipfile from url')\n",
    "    \n",
    "except Exception as e:\n",
    "    print(e)"
   ]
  },
  {
   "cell_type": "code",
   "execution_count": 62,
   "id": "fb2dd3f0-11ce-42e6-9b88-6c34f2e781d4",
   "metadata": {},
   "outputs": [
    {
     "name": "stdout",
     "output_type": "stream",
     "text": [
      "successfully got the zipfile from url\n"
     ]
    }
   ],
   "source": [
    "try:\n",
    "    url = 'https://www.sec.gov/Archives/edgar/daily-index/bulkdata/submissions.zip'\n",
    "\n",
    "    headers = {'user-agent':\n",
    "        'Mozilla/5.0 (Windows NT 10.0; Win64; x64) AppleWebKit/537.36 (KHTML, like Gecko) Chrome/109.0.0.0 Safari/537.36 Edg/109.0.1518.55'}\n",
    "\n",
    "    response = requests.get(url,headers = headers,stream=True)\n",
    "\n",
    "    content = response.content\n",
    "    \n",
    "    print('successfully got the zipfile from url')\n",
    "    \n",
    "except Exception as e:\n",
    "    print(e)"
   ]
  },
  {
   "cell_type": "code",
   "execution_count": 64,
   "id": "71d99419-ad21-4e57-85ed-a86f82fd4722",
   "metadata": {},
   "outputs": [
    {
     "name": "stdout",
     "output_type": "stream",
     "text": [
      "successfully extracted and uploaded in the unzipped folder\n"
     ]
    }
   ],
   "source": [
    "try:\n",
    "    bucket_name = 'raw-data-from-webpage'\n",
    "    file_path = 'largefile/file.zip'\n",
    "\n",
    "    obj = s3.get_object(Bucket = bucket_name, Key = file_path)\n",
    "\n",
    "    zip_file = io.BytesIO(obj['Body'].read())\n",
    "\n",
    "    with zipfile.ZipFile(zip_file) as z:\n",
    "      z.extractall()\n",
    "\n",
    "    for file in z.namelist():\n",
    "      s3.upload_file(Filename = file, Bucket = bucket_name, Key = 'unzipped/' + file)\n",
    "    \n",
    "    print('successfully extracted and uploaded in the unzipped folder')\n",
    "    \n",
    "except Exception as e:\n",
    "    print(e)"
   ]
  },
  {
   "cell_type": "code",
   "execution_count": 68,
   "id": "a47ab481-7685-4238-8134-e2434d6ae678",
   "metadata": {},
   "outputs": [
    {
     "name": "stdout",
     "output_type": "stream",
     "text": [
      "N.of files in unzipped/: 1000\n"
     ]
    }
   ],
   "source": [
    "bucket_name = 'raw-data-from-webpage'\n",
    "folder_name = 'unzipped/'\n",
    "\n",
    "result = s3.list_objects(Bucket=bucket_name, Prefix=folder_name)\n",
    "\n",
    "# get the number of files in the folder\n",
    "if 'Contents' in result:\n",
    "    file_count = len(result['Contents'])\n",
    "else:\n",
    "    file_count = 0\n",
    "\n",
    "print(f'N.of files in {folder_name}: {file_count}')"
   ]
  },
  {
   "cell_type": "code",
   "execution_count": 4,
   "id": "cfa44753-fe0e-4a27-be2f-4929896f262e",
   "metadata": {
    "execution": {
     "iopub.execute_input": "2023-03-30T12:01:38.059309Z",
     "iopub.status.busy": "2023-03-30T12:01:38.059039Z",
     "iopub.status.idle": "2023-03-30T12:01:40.038905Z",
     "shell.execute_reply": "2023-03-30T12:01:40.038055Z",
     "shell.execute_reply.started": "2023-03-30T12:01:38.059282Z"
    },
    "tags": []
   },
   "outputs": [
    {
     "name": "stdout",
     "output_type": "stream",
     "text": [
      "Directory content:\n",
      "Found 4 items\n",
      "drwxr-xr-x   - hdfs hdfsadmingroup          0 2023-03-30 11:38 /apps\n",
      "drwxrwxrwt   - hdfs hdfsadmingroup          0 2023-03-30 11:40 /tmp\n",
      "drwxr-xr-x   - hdfs hdfsadmingroup          0 2023-03-30 11:38 /user\n",
      "drwxr-xr-x   - hdfs hdfsadmingroup          0 2023-03-30 11:38 /var\n",
      "\n"
     ]
    }
   ],
   "source": [
    "cmd = 'hdfs dfs -ls /'\n",
    "\n",
    "result = subprocess.run(cmd, shell=True, stdout=subprocess.PIPE, stderr=subprocess.PIPE, text=True)\n",
    "\n",
    "if result.returncode == 0:\n",
    "    print('Directory content:')\n",
    "    print(result.stdout)\n",
    "else:\n",
    "    print('Error accessing directory')\n",
    "    print(result.stderr)"
   ]
  },
  {
   "cell_type": "code",
   "execution_count": 5,
   "id": "967d2898-c34e-4cd2-bf2c-d11e82c22839",
   "metadata": {
    "execution": {
     "iopub.execute_input": "2023-03-30T12:02:14.230198Z",
     "iopub.status.busy": "2023-03-30T12:02:14.229946Z",
     "iopub.status.idle": "2023-03-30T12:02:16.149472Z",
     "shell.execute_reply": "2023-03-30T12:02:16.148670Z",
     "shell.execute_reply.started": "2023-03-30T12:02:14.230171Z"
    }
   },
   "outputs": [
    {
     "name": "stdout",
     "output_type": "stream",
     "text": [
      "Directory content:\n",
      "Found 6 items\n",
      "drwxrwxrwx   - hadoop hdfsadmingroup          0 2023-03-30 11:38 /user/hadoop\n",
      "drwxr-xr-x   - mapred mapred                  0 2023-03-30 11:38 /user/history\n",
      "drwxrwxrwx   - hdfs   hdfsadmingroup          0 2023-03-30 11:40 /user/hive\n",
      "drwxrwxrwx   - livy   livy                    0 2023-03-30 11:38 /user/livy\n",
      "drwxrwxrwx   - root   hdfsadmingroup          0 2023-03-30 11:38 /user/root\n",
      "drwxrwxrwx   - spark  spark                   0 2023-03-30 11:38 /user/spark\n",
      "\n"
     ]
    }
   ],
   "source": [
    "cmd = 'hdfs dfs -ls /user'\n",
    "\n",
    "result = subprocess.run(cmd, shell=True, stdout=subprocess.PIPE, stderr=subprocess.PIPE, text=True)\n",
    "\n",
    "if result.returncode == 0:\n",
    "    print('Directory content:')\n",
    "    print(result.stdout)\n",
    "else:\n",
    "    print('Error accessing directory')\n",
    "    print(result.stderr)"
   ]
  },
  {
   "cell_type": "code",
   "execution_count": 19,
   "id": "f80e6b5d-8774-4daa-87da-c12c25768bdc",
   "metadata": {
    "execution": {
     "iopub.execute_input": "2023-03-30T12:24:09.862031Z",
     "iopub.status.busy": "2023-03-30T12:24:09.861779Z",
     "iopub.status.idle": "2023-03-30T12:24:09.866036Z",
     "shell.execute_reply": "2023-03-30T12:24:09.865416Z",
     "shell.execute_reply.started": "2023-03-30T12:24:09.862000Z"
    }
   },
   "outputs": [
    {
     "name": "stdout",
     "output_type": "stream",
     "text": [
      "Succesfully directory created.\n"
     ]
    }
   ],
   "source": [
    "cmd = 'hdfs dfs -mkdir /user/hadoop/sec_data'\n",
    "\n",
    "result = subprocess.run(cmd, shell=True, stdout=subprocess.PIPE, stderr=subprocess.PIPE, text=True)\n",
    "\n",
    "if result.returncode == 0:\n",
    "    print('Succesfully directory created.')\n",
    "    print(result.stdout)\n",
    "else:\n",
    "    print('Error accessing directory')\n",
    "    print(result.stderr)"
   ]
  },
  {
   "cell_type": "code",
   "execution_count": 15,
   "id": "4d7c8181-301d-4620-a835-7438e985dd64",
   "metadata": {
    "execution": {
     "iopub.execute_input": "2023-03-30T12:06:05.779322Z",
     "iopub.status.busy": "2023-03-30T12:06:05.779035Z",
     "iopub.status.idle": "2023-03-30T12:06:07.756169Z",
     "shell.execute_reply": "2023-03-30T12:06:07.755432Z",
     "shell.execute_reply.started": "2023-03-30T12:06:05.779291Z"
    },
    "tags": []
   },
   "outputs": [
    {
     "name": "stdout",
     "output_type": "stream",
     "text": [
      "Directory content:\n",
      "Found 1 items\n",
      "drwxr-xr-x   - emr-notebook hdfsadmingroup          0 2023-03-30 12:03 /user/hadoop/sec_data\n",
      "\n"
     ]
    }
   ],
   "source": [
    "cmd = 'hdfs dfs -ls /user/hadoop'\n",
    "\n",
    "result = subprocess.run(cmd, shell=True, stdout=subprocess.PIPE, stderr=subprocess.PIPE, text=True)\n",
    "\n",
    "if result.returncode == 0:\n",
    "    print('Directory content:')\n",
    "    print(result.stdout)\n",
    "else:\n",
    "    print('Error accessing directory')\n",
    "    print(result.stderr)"
   ]
  },
  {
   "cell_type": "code",
   "execution_count": 16,
   "id": "90fcde74-ba24-43b7-a55d-c3b4e64d36d4",
   "metadata": {
    "execution": {
     "iopub.execute_input": "2023-03-30T12:08:28.309246Z",
     "iopub.status.busy": "2023-03-30T12:08:28.309005Z",
     "iopub.status.idle": "2023-03-30T12:08:38.972876Z",
     "shell.execute_reply": "2023-03-30T12:08:38.972084Z",
     "shell.execute_reply.started": "2023-03-30T12:08:28.309219Z"
    }
   },
   "outputs": [
    {
     "name": "stdout",
     "output_type": "stream",
     "text": [
      "Successfully copied to hdfs\n",
      "\n"
     ]
    }
   ],
   "source": [
    "cmd = 'hadoop fs -cp s3://raw-data-from-webpage/Unzipped/* /user/hadoop/sec_data'\n",
    "\n",
    "result = subprocess.run(cmd, shell=True, stdout=subprocess.PIPE, stderr=subprocess.PIPE, text=True)\n",
    "\n",
    "if result.returncode == 0:\n",
    "    print('Successfully copied to hdfs')\n",
    "    print(result.stdout)\n",
    "else:\n",
    "    print('Error accessing directory')\n",
    "    print(result.stderr)"
   ]
  },
  {
   "cell_type": "code",
   "execution_count": 18,
   "id": "38c34e8f-824a-4fd2-9759-ef39c8c11899",
   "metadata": {
    "execution": {
     "iopub.execute_input": "2023-03-30T12:09:57.029369Z",
     "iopub.status.busy": "2023-03-30T12:09:57.029115Z",
     "iopub.status.idle": "2023-03-30T12:09:59.122903Z",
     "shell.execute_reply": "2023-03-30T12:09:59.122028Z",
     "shell.execute_reply.started": "2023-03-30T12:09:57.029340Z"
    },
    "tags": []
   },
   "outputs": [
    {
     "name": "stdout",
     "output_type": "stream",
     "text": [
      "Directory content:\n",
      "Found 34 items\n",
      "-rw-r--r--   1 emr-notebook hdfsadmingroup     148469 2023-03-30 12:08 /user/hadoop/sec_data/CIK0000001750-submissions-001.json\n",
      "-rw-r--r--   1 emr-notebook hdfsadmingroup     272089 2023-03-30 12:08 /user/hadoop/sec_data/CIK0000001800-submissions-001.json\n",
      "-rw-r--r--   1 emr-notebook hdfsadmingroup      29781 2023-03-30 12:08 /user/hadoop/sec_data/CIK0000001800-submissions-002.json\n",
      "-rw-r--r--   1 emr-notebook hdfsadmingroup      23668 2023-03-30 12:08 /user/hadoop/sec_data/CIK0000002034-submissions-001.json\n",
      "-rw-r--r--   1 emr-notebook hdfsadmingroup       7810 2023-03-30 12:08 /user/hadoop/sec_data/CIK0000002135-submissions-001.json\n",
      "-rw-r--r--   1 emr-notebook hdfsadmingroup     268274 2023-03-30 12:08 /user/hadoop/sec_data/CIK0000002488-submissions-001.json\n",
      "-rw-r--r--   1 emr-notebook hdfsadmingroup     213991 2023-03-30 12:08 /user/hadoop/sec_data/CIK0000002969-submissions-001.json\n",
      "-rw-r--r--   1 emr-notebook hdfsadmingroup      31584 2023-03-30 12:08 /user/hadoop/sec_data/CIK0000003116-submissions-001.json\n",
      "-rw-r--r--   1 emr-notebook hdfsadmingroup      10918 2023-03-30 12:08 /user/hadoop/sec_data/CIK0000003197-submissions-001.json\n",
      "-rw-r--r--   1 emr-notebook hdfsadmingroup      41689 2023-03-30 12:08 /user/hadoop/sec_data/CIK0000003370-submissions-001.json\n",
      "-rw-r--r--   1 emr-notebook hdfsadmingroup     110064 2023-03-30 12:08 /user/hadoop/sec_data/CIK0000003453-submissions-001.json\n",
      "-rw-r--r--   1 emr-notebook hdfsadmingroup      62942 2023-03-30 12:08 /user/hadoop/sec_data/CIK0000003521-submissions-001.json\n",
      "-rw-r--r--   1 emr-notebook hdfsadmingroup     108022 2023-03-30 12:08 /user/hadoop/sec_data/CIK0000003545-submissions-001.json\n",
      "-rw-r--r--   1 emr-notebook hdfsadmingroup     207490 2023-03-30 12:08 /user/hadoop/sec_data/CIK0000003570-submissions-001.json\n",
      "-rw-r--r--   1 emr-notebook hdfsadmingroup     105535 2023-03-30 12:08 /user/hadoop/sec_data/CIK0000003673-submissions-001.json\n",
      "-rw-r--r--   1 emr-notebook hdfsadmingroup      47861 2023-03-30 12:08 /user/hadoop/sec_data/CIK0000003794-submissions-001.json\n",
      "-rw-r--r--   1 emr-notebook hdfsadmingroup      40541 2023-03-30 12:08 /user/hadoop/sec_data/CIK0000003906-submissions-001.json\n",
      "-rw-r--r--   1 emr-notebook hdfsadmingroup     107144 2023-03-30 12:08 /user/hadoop/sec_data/CIK0000004127-submissions-001.json\n",
      "-rw-r--r--   1 emr-notebook hdfsadmingroup      19481 2023-03-30 12:08 /user/hadoop/sec_data/CIK0000004281-submissions-002.json\n",
      "-rw-r--r--   1 emr-notebook hdfsadmingroup     291098 2023-03-30 12:08 /user/hadoop/sec_data/CIK0000004447-submissions-001.json\n",
      "-rw-r--r--   1 emr-notebook hdfsadmingroup      17810 2023-03-30 12:08 /user/hadoop/sec_data/CIK0000004515-submissions-001.json\n",
      "-rw-r--r--   1 emr-notebook hdfsadmingroup     259927 2023-03-30 12:08 /user/hadoop/sec_data/CIK0000004904-submissions-001.json\n",
      "-rw-r--r--   1 emr-notebook hdfsadmingroup     299946 2023-03-30 12:08 /user/hadoop/sec_data/CIK0000004962-submissions-001.json\n",
      "-rw-r--r--   1 emr-notebook hdfsadmingroup     188840 2023-03-30 12:08 /user/hadoop/sec_data/CIK0000004977-submissions-001.json\n",
      "-rw-r--r--   1 emr-notebook hdfsadmingroup      36815 2023-03-30 12:08 /user/hadoop/sec_data/CIK0000005133-submissions-001.json\n",
      "-rw-r--r--   1 emr-notebook hdfsadmingroup     265599 2023-03-30 12:08 /user/hadoop/sec_data/CIK0000005272-submissions-001.json\n",
      "-rw-r--r--   1 emr-notebook hdfsadmingroup     271337 2023-03-30 12:08 /user/hadoop/sec_data/CIK0000005272-submissions-002.json\n",
      "-rw-r--r--   1 emr-notebook hdfsadmingroup     227604 2023-03-30 12:08 /user/hadoop/sec_data/CIK0000005272-submissions-003.json\n",
      "-rw-r--r--   1 emr-notebook hdfsadmingroup     139965 2023-03-30 12:08 /user/hadoop/sec_data/CIK0000005513-submissions-001.json\n",
      "-rw-r--r--   1 emr-notebook hdfsadmingroup      41704 2023-03-30 12:08 /user/hadoop/sec_data/CIK0000005981-submissions-001.json\n",
      "-rw-r--r--   1 emr-notebook hdfsadmingroup     277149 2023-03-30 12:08 /user/hadoop/sec_data/CIK0000006201-submissions-001.json\n",
      "-rw-r--r--   1 emr-notebook hdfsadmingroup      37668 2023-03-30 12:08 /user/hadoop/sec_data/CIK0000006201-submissions-002.json\n",
      "-rw-r--r--   1 emr-notebook hdfsadmingroup     178374 2023-03-30 12:08 /user/hadoop/sec_data/CIK0000006281-submissions-001.json\n",
      "-rw-r--r--   1 emr-notebook hdfsadmingroup     111227 2023-03-30 12:08 /user/hadoop/sec_data/CIK0000006284-submissions-001.json\n",
      "\n"
     ]
    }
   ],
   "source": [
    "cmd = 'hdfs dfs -ls /user/hadoop/sec_data'\n",
    "\n",
    "result = subprocess.run(cmd, shell=True, stdout=subprocess.PIPE, stderr=subprocess.PIPE, text=True)\n",
    "\n",
    "if result.returncode == 0:\n",
    "    print('Directory content:')\n",
    "    print(result.stdout)\n",
    "else:\n",
    "    print('Error accessing directory')\n",
    "    print(result.stderr)"
   ]
  },
  {
   "cell_type": "code",
   "execution_count": 1,
   "id": "1210680f-5c55-4581-ab0b-b9f7306bddfa",
   "metadata": {
    "execution": {
     "iopub.execute_input": "2023-03-30T06:49:07.712926Z",
     "iopub.status.busy": "2023-03-30T06:49:07.712629Z",
     "iopub.status.idle": "2023-03-30T06:49:42.458818Z",
     "shell.execute_reply": "2023-03-30T06:49:42.458200Z",
     "shell.execute_reply.started": "2023-03-30T06:49:07.712895Z"
    },
    "tags": []
   },
   "outputs": [
    {
     "data": {
      "application/vnd.jupyter.widget-view+json": {
       "model_id": "343a29fce9784d43b9252817fe23d880",
       "version_major": 2,
       "version_minor": 0
      },
      "text/plain": [
       "VBox()"
      ]
     },
     "metadata": {},
     "output_type": "display_data"
    },
    {
     "name": "stdout",
     "output_type": "stream",
     "text": [
      "Starting Spark application\n"
     ]
    },
    {
     "data": {
      "text/html": [
       "<table>\n",
       "<tbody><tr><th>ID</th><th>YARN Application ID</th><th>Kind</th><th>State</th><th>Spark UI</th><th>Driver log</th><th>Current session?</th></tr><tr><td>0</td><td>application_1680157389837_0004</td><td>pyspark</td><td>idle</td><td><a target=\"_blank\" href=\"http://ip-172-31-9-16.ap-south-1.compute.internal:20888/proxy/application_1680157389837_0004/\" class=\"emr-proxy-link j-3TM411W2TJ63U application_1680157389837_0004\" emr-resource=\"j-3TM411W2TJ63U\n",
       "\" application-id=\"application_1680157389837_0004\">Link</a></td><td><a target=\"_blank\" href=\"http://ip-172-31-9-16.ap-south-1.compute.internal:8042/node/containerlogs/container_1680157389837_0004_01_000001/livy\">Link</a></td><td>✔</td></tr></tbody></table>"
      ],
      "text/plain": [
       "<IPython.core.display.HTML object>"
      ]
     },
     "metadata": {},
     "output_type": "display_data"
    },
    {
     "data": {
      "application/vnd.jupyter.widget-view+json": {
       "model_id": "",
       "version_major": 2,
       "version_minor": 0
      },
      "text/plain": [
       "FloatProgress(value=0.0, bar_style='info', description='Progress:', layout=Layout(height='25px', width='50%'),…"
      ]
     },
     "metadata": {},
     "output_type": "display_data"
    },
    {
     "name": "stdout",
     "output_type": "stream",
     "text": [
      "SparkSession available as 'spark'.\n"
     ]
    },
    {
     "data": {
      "application/vnd.jupyter.widget-view+json": {
       "model_id": "",
       "version_major": 2,
       "version_minor": 0
      },
      "text/plain": [
       "FloatProgress(value=0.0, bar_style='info', description='Progress:', layout=Layout(height='25px', width='50%'),…"
      ]
     },
     "metadata": {},
     "output_type": "display_data"
    },
    {
     "name": "stdout",
     "output_type": "stream",
     "text": [
      "<pyspark.sql.session.SparkSession object at 0x7fa890401f10>"
     ]
    }
   ],
   "source": [
    "import pyspark\n",
    "from pyspark.sql import SparkSession\n",
    "from pyspark.sql.functions import *\n",
    "from pyspark.sql.types import *\n",
    "\n",
    "spark = SparkSession.builder.appName('Hadoop_Project') \\\n",
    "                            .enableHiveSupport() \\\n",
    "                            .config(\"spark.sql.warehouse.dir\", \"/user/hive/warehouse\") \\\n",
    "                            .getOrCreate()\n",
    "spark"
   ]
  },
  {
   "cell_type": "code",
   "execution_count": 2,
   "id": "c7db2501",
   "metadata": {
    "execution": {
     "iopub.execute_input": "2023-03-30T06:50:15.254914Z",
     "iopub.status.busy": "2023-03-30T06:50:15.254701Z",
     "iopub.status.idle": "2023-03-30T06:50:22.784815Z",
     "shell.execute_reply": "2023-03-30T06:50:22.784216Z",
     "shell.execute_reply.started": "2023-03-30T06:50:15.254892Z"
    },
    "tags": []
   },
   "outputs": [
    {
     "data": {
      "application/vnd.jupyter.widget-view+json": {
       "model_id": "c4c04f390c6a46828692abfeefa19c2e",
       "version_major": 2,
       "version_minor": 0
      },
      "text/plain": [
       "VBox()"
      ]
     },
     "metadata": {},
     "output_type": "display_data"
    },
    {
     "data": {
      "application/vnd.jupyter.widget-view+json": {
       "model_id": "",
       "version_major": 2,
       "version_minor": 0
      },
      "text/plain": [
       "FloatProgress(value=0.0, bar_style='info', description='Progress:', layout=Layout(height='25px', width='50%'),…"
      ]
     },
     "metadata": {},
     "output_type": "display_data"
    },
    {
     "name": "stdout",
     "output_type": "stream",
     "text": [
      "+--------------------+--------------------+--------------------+--------------------+--------------------+--------------------+--------------------+--------------------+--------------------+--------------------+---------------------+--------------------+--------------------+--------------------+\n",
      "|  acceptanceDateTime|     accessionNumber|                 act|          fileNumber|          filingDate|          filmNumber|                form|        isInlineXBRL|              isXBRL|               items|primaryDocDescription|     primaryDocument|          reportDate|                size|\n",
      "+--------------------+--------------------+--------------------+--------------------+--------------------+--------------------+--------------------+--------------------+--------------------+--------------------+---------------------+--------------------+--------------------+--------------------+\n",
      "|[2010-04-26T11:52...|[0001104659-10-02...|[, 34, , , 34, , ...|[, 001-06263, , ,...|[2010-04-26, 2010...|[, 10745530, , , ...|[SC 13D/A, 8-K, 4...|[0, 0, 0, 0, 0, 0...|[0, 0, 0, 0, 0, 0...|[, 1.01,2.01,9.01...| [SC 13D/A, 8-K, P...|[a10-8551_1sc13da...|[, 2010-04-07, 20...|[128457, 58759, 8...|\n",
      "+--------------------+--------------------+--------------------+--------------------+--------------------+--------------------+--------------------+--------------------+--------------------+--------------------+---------------------+--------------------+--------------------+--------------------+"
     ]
    }
   ],
   "source": [
    "file_path = \"hdfs://ec2-65-0-45-11.ap-south-1.compute.amazonaws.com/user/hadoop/sec_data/CIK0000001750-submissions-001.json\"\n",
    "df = spark.read.json(file_path)\n",
    "\n",
    "df.show()"
   ]
  },
  {
   "cell_type": "code",
   "execution_count": 4,
   "id": "ee2580ef-8319-492f-a165-1fad0d2f41de",
   "metadata": {
    "execution": {
     "iopub.execute_input": "2023-03-29T15:10:27.380822Z",
     "iopub.status.busy": "2023-03-29T15:10:27.380609Z",
     "iopub.status.idle": "2023-03-29T15:10:27.453759Z",
     "shell.execute_reply": "2023-03-29T15:10:27.453153Z",
     "shell.execute_reply.started": "2023-03-29T15:10:27.380800Z"
    },
    "tags": []
   },
   "outputs": [
    {
     "data": {
      "application/vnd.jupyter.widget-view+json": {
       "model_id": "8a7bd2c2d57a4024a65a6224d02b96e3",
       "version_major": 2,
       "version_minor": 0
      },
      "text/plain": [
       "VBox()"
      ]
     },
     "metadata": {},
     "output_type": "display_data"
    },
    {
     "data": {
      "application/vnd.jupyter.widget-view+json": {
       "model_id": "",
       "version_major": 2,
       "version_minor": 0
      },
      "text/plain": [
       "FloatProgress(value=0.0, bar_style='info', description='Progress:', layout=Layout(height='25px', width='50%'),…"
      ]
     },
     "metadata": {},
     "output_type": "display_data"
    },
    {
     "name": "stdout",
     "output_type": "stream",
     "text": [
      "root\n",
      " |-- acceptanceDateTime: array (nullable = true)\n",
      " |    |-- element: string (containsNull = true)\n",
      " |-- accessionNumber: array (nullable = true)\n",
      " |    |-- element: string (containsNull = true)\n",
      " |-- act: array (nullable = true)\n",
      " |    |-- element: string (containsNull = true)\n",
      " |-- fileNumber: array (nullable = true)\n",
      " |    |-- element: string (containsNull = true)\n",
      " |-- filingDate: array (nullable = true)\n",
      " |    |-- element: string (containsNull = true)\n",
      " |-- filmNumber: array (nullable = true)\n",
      " |    |-- element: string (containsNull = true)\n",
      " |-- form: array (nullable = true)\n",
      " |    |-- element: string (containsNull = true)\n",
      " |-- isInlineXBRL: array (nullable = true)\n",
      " |    |-- element: long (containsNull = true)\n",
      " |-- isXBRL: array (nullable = true)\n",
      " |    |-- element: long (containsNull = true)\n",
      " |-- items: array (nullable = true)\n",
      " |    |-- element: string (containsNull = true)\n",
      " |-- primaryDocDescription: array (nullable = true)\n",
      " |    |-- element: string (containsNull = true)\n",
      " |-- primaryDocument: array (nullable = true)\n",
      " |    |-- element: string (containsNull = true)\n",
      " |-- reportDate: array (nullable = true)\n",
      " |    |-- element: string (containsNull = true)\n",
      " |-- size: array (nullable = true)\n",
      " |    |-- element: long (containsNull = true)"
     ]
    }
   ],
   "source": [
    "df.printSchema()"
   ]
  },
  {
   "cell_type": "code",
   "execution_count": 3,
   "id": "2e63c573-c56e-425c-a07b-273b1107388e",
   "metadata": {
    "execution": {
     "iopub.execute_input": "2023-03-30T06:50:34.828815Z",
     "iopub.status.busy": "2023-03-30T06:50:34.828565Z",
     "iopub.status.idle": "2023-03-30T06:50:36.132878Z",
     "shell.execute_reply": "2023-03-30T06:50:36.132165Z",
     "shell.execute_reply.started": "2023-03-30T06:50:34.828788Z"
    },
    "tags": []
   },
   "outputs": [
    {
     "data": {
      "application/vnd.jupyter.widget-view+json": {
       "model_id": "37f6d177e9a84f94aa603fccd9d93927",
       "version_major": 2,
       "version_minor": 0
      },
      "text/plain": [
       "VBox()"
      ]
     },
     "metadata": {},
     "output_type": "display_data"
    },
    {
     "data": {
      "application/vnd.jupyter.widget-view+json": {
       "model_id": "",
       "version_major": 2,
       "version_minor": 0
      },
      "text/plain": [
       "FloatProgress(value=0.0, bar_style='info', description='Progress:', layout=Layout(height='25px', width='50%'),…"
      ]
     },
     "metadata": {},
     "output_type": "display_data"
    },
    {
     "name": "stdout",
     "output_type": "stream",
     "text": [
      "+--------------------+---+\n",
      "|  acceptanceDateTime| id|\n",
      "+--------------------+---+\n",
      "|2010-04-26T11:52:...|  0|\n",
      "|2010-04-12T17:15:...|  1|\n",
      "|2010-04-07T16:42:...|  2|\n",
      "|2010-04-02T12:13:...|  3|\n",
      "|2010-03-29T17:24:...|  4|\n",
      "|2010-03-22T10:04:...|  5|\n",
      "|2010-03-19T15:55:...|  6|\n",
      "|2010-03-18T16:23:...|  7|\n",
      "|2010-03-17T06:01:...|  8|\n",
      "|2010-03-05T20:35:...|  9|\n",
      "|2010-03-05T15:33:...| 10|\n",
      "|2010-03-03T14:06:...| 11|\n",
      "|2010-03-03T13:43:...| 12|\n",
      "|2010-03-03T13:27:...| 13|\n",
      "|2010-02-12T17:20:...| 14|\n",
      "|2010-02-12T13:03:...| 15|\n",
      "|2010-02-10T06:17:...| 16|\n",
      "|2010-02-09T17:13:...| 17|\n",
      "|2010-01-29T14:12:...| 18|\n",
      "|2010-01-28T14:50:...| 19|\n",
      "+--------------------+---+\n",
      "only showing top 20 rows"
     ]
    }
   ],
   "source": [
    "df1 = df.select('acceptanceDateTime') \\\n",
    "        .withColumn('acceptanceDateTime', explode('acceptanceDateTime')) \\\n",
    "        .withColumn(\"id\", monotonically_increasing_id())\n",
    "df1.show()"
   ]
  },
  {
   "cell_type": "code",
   "execution_count": 23,
   "id": "954c1419-ad19-4538-8be4-137f243971ee",
   "metadata": {
    "execution": {
     "iopub.execute_input": "2023-03-29T15:36:48.867159Z",
     "iopub.status.busy": "2023-03-29T15:36:48.866938Z",
     "iopub.status.idle": "2023-03-29T15:36:48.924006Z",
     "shell.execute_reply": "2023-03-29T15:36:48.923276Z",
     "shell.execute_reply.started": "2023-03-29T15:36:48.867136Z"
    }
   },
   "outputs": [
    {
     "data": {
      "application/vnd.jupyter.widget-view+json": {
       "model_id": "3b8d2fcf24ae459eb1f59ece63f331bf",
       "version_major": 2,
       "version_minor": 0
      },
      "text/plain": [
       "VBox()"
      ]
     },
     "metadata": {},
     "output_type": "display_data"
    },
    {
     "data": {
      "application/vnd.jupyter.widget-view+json": {
       "model_id": "",
       "version_major": 2,
       "version_minor": 0
      },
      "text/plain": [
       "FloatProgress(value=0.0, bar_style='info', description='Progress:', layout=Layout(height='25px', width='50%'),…"
      ]
     },
     "metadata": {},
     "output_type": "display_data"
    },
    {
     "name": "stdout",
     "output_type": "stream",
     "text": [
      "<class 'pyspark.sql.dataframe.DataFrame'>"
     ]
    }
   ],
   "source": [
    "type(df1)"
   ]
  },
  {
   "cell_type": "code",
   "execution_count": 4,
   "id": "1a91102b-95d2-4fd2-8fbe-71698de89185",
   "metadata": {
    "execution": {
     "iopub.execute_input": "2023-03-30T06:50:41.068107Z",
     "iopub.status.busy": "2023-03-30T06:50:41.067856Z",
     "iopub.status.idle": "2023-03-30T06:50:41.850598Z",
     "shell.execute_reply": "2023-03-30T06:50:41.849904Z",
     "shell.execute_reply.started": "2023-03-30T06:50:41.068084Z"
    },
    "tags": []
   },
   "outputs": [
    {
     "data": {
      "application/vnd.jupyter.widget-view+json": {
       "model_id": "58319f56574e415cbe1bc34364175c73",
       "version_major": 2,
       "version_minor": 0
      },
      "text/plain": [
       "VBox()"
      ]
     },
     "metadata": {},
     "output_type": "display_data"
    },
    {
     "data": {
      "application/vnd.jupyter.widget-view+json": {
       "model_id": "",
       "version_major": 2,
       "version_minor": 0
      },
      "text/plain": [
       "FloatProgress(value=0.0, bar_style='info', description='Progress:', layout=Layout(height='25px', width='50%'),…"
      ]
     },
     "metadata": {},
     "output_type": "display_data"
    }
   ],
   "source": [
    "df2 = df.select('accessionNumber').withColumn('accessionNumber', explode('accessionNumber')).withColumn(\"id\", monotonically_increasing_id())\n",
    "df3 = df.select('act').withColumn('act', explode('act')).withColumn(\"id\", monotonically_increasing_id())\n",
    "df4 = df.select('fileNumber').withColumn('fileNumber', explode('fileNumber')).withColumn(\"id\", monotonically_increasing_id())\n",
    "df5 = df.select('filingDate').withColumn('filingDate', explode('filingDate')).withColumn(\"id\", monotonically_increasing_id())\n",
    "df6 = df.select('filmNumber').withColumn('filmNumber', explode('filmNumber')).withColumn(\"id\", monotonically_increasing_id())\n",
    "df7 = df.select('form').withColumn('form', explode('form')).withColumn(\"id\", monotonically_increasing_id())\n",
    "df8 = df.select('isInlineXBRL').withColumn('isInlineXBRL', explode('isInlineXBRL')).withColumn(\"id\", monotonically_increasing_id())\n",
    "df9 = df.select('isXBRL').withColumn('isXBRL', explode('isXBRL')).withColumn(\"id\", monotonically_increasing_id())\n",
    "df10 = df.select('items').withColumn('items', explode('items')).withColumn(\"id\", monotonically_increasing_id())\n",
    "df11 = df.select('primaryDocDescription').withColumn('primaryDocDescription', explode('primaryDocDescription')).withColumn(\"id\", monotonically_increasing_id())\n",
    "df12 = df.select('primaryDocument').withColumn('primaryDocument', explode('primaryDocument')).withColumn(\"id\", monotonically_increasing_id())\n",
    "df13 = df.select('reportDate').withColumn('reportDate', explode('reportDate')).withColumn(\"id\", monotonically_increasing_id())\n",
    "df14 = df.select('size').withColumn('size', explode('size')).withColumn(\"id\", monotonically_increasing_id())\n"
   ]
  },
  {
   "cell_type": "code",
   "execution_count": 5,
   "id": "fceea117-4679-4452-9473-3ed1bf963eff",
   "metadata": {
    "execution": {
     "iopub.execute_input": "2023-03-30T06:50:51.596493Z",
     "iopub.status.busy": "2023-03-30T06:50:51.596247Z",
     "iopub.status.idle": "2023-03-30T06:50:51.878053Z",
     "shell.execute_reply": "2023-03-30T06:50:51.877519Z",
     "shell.execute_reply.started": "2023-03-30T06:50:51.596466Z"
    },
    "tags": []
   },
   "outputs": [
    {
     "data": {
      "application/vnd.jupyter.widget-view+json": {
       "model_id": "9fcc4051123f4faab9782f2628b06a6f",
       "version_major": 2,
       "version_minor": 0
      },
      "text/plain": [
       "VBox()"
      ]
     },
     "metadata": {},
     "output_type": "display_data"
    },
    {
     "data": {
      "application/vnd.jupyter.widget-view+json": {
       "model_id": "",
       "version_major": 2,
       "version_minor": 0
      },
      "text/plain": [
       "FloatProgress(value=0.0, bar_style='info', description='Progress:', layout=Layout(height='25px', width='50%'),…"
      ]
     },
     "metadata": {},
     "output_type": "display_data"
    }
   ],
   "source": [
    "df_join = df1.join(df2, \"id\").join(df3, \"id\").join(df4, \"id\").join(df5, \"id\") \\\n",
    "          .join(df6, \"id\").join(df7, \"id\").join(df8, \"id\").join(df9, \"id\") \\\n",
    "          .join(df10, \"id\").join(df11, \"id\").join(df12, \"id\").join(df13, \"id\") \\\n",
    "          .join(df14, \"id\").drop(\"id\")"
   ]
  },
  {
   "cell_type": "code",
   "execution_count": 6,
   "id": "b5421099-7d69-41d5-9ef9-4b5853fe3407",
   "metadata": {
    "execution": {
     "iopub.execute_input": "2023-03-30T06:51:06.512839Z",
     "iopub.status.busy": "2023-03-30T06:51:06.512575Z",
     "iopub.status.idle": "2023-03-30T06:51:06.604576Z",
     "shell.execute_reply": "2023-03-30T06:51:06.603935Z",
     "shell.execute_reply.started": "2023-03-30T06:51:06.512811Z"
    },
    "tags": []
   },
   "outputs": [
    {
     "data": {
      "application/vnd.jupyter.widget-view+json": {
       "model_id": "d54882ad69dd4e8687bc47964a8dd8bc",
       "version_major": 2,
       "version_minor": 0
      },
      "text/plain": [
       "VBox()"
      ]
     },
     "metadata": {},
     "output_type": "display_data"
    },
    {
     "data": {
      "application/vnd.jupyter.widget-view+json": {
       "model_id": "",
       "version_major": 2,
       "version_minor": 0
      },
      "text/plain": [
       "FloatProgress(value=0.0, bar_style='info', description='Progress:', layout=Layout(height='25px', width='50%'),…"
      ]
     },
     "metadata": {},
     "output_type": "display_data"
    },
    {
     "name": "stdout",
     "output_type": "stream",
     "text": [
      "<class 'pyspark.sql.dataframe.DataFrame'>"
     ]
    }
   ],
   "source": [
    "type(df_join)"
   ]
  },
  {
   "cell_type": "code",
   "execution_count": 7,
   "id": "65aa9378-ca9e-4d46-b4ba-1dfb891641fc",
   "metadata": {
    "execution": {
     "iopub.execute_input": "2023-03-30T06:51:11.982864Z",
     "iopub.status.busy": "2023-03-30T06:51:11.982648Z",
     "iopub.status.idle": "2023-03-30T06:51:17.342705Z",
     "shell.execute_reply": "2023-03-30T06:51:17.342079Z",
     "shell.execute_reply.started": "2023-03-30T06:51:11.982842Z"
    },
    "tags": []
   },
   "outputs": [
    {
     "data": {
      "application/vnd.jupyter.widget-view+json": {
       "model_id": "c6ddb37a7a824a519bb0778ac6020fd1",
       "version_major": 2,
       "version_minor": 0
      },
      "text/plain": [
       "VBox()"
      ]
     },
     "metadata": {},
     "output_type": "display_data"
    },
    {
     "data": {
      "application/vnd.jupyter.widget-view+json": {
       "model_id": "",
       "version_major": 2,
       "version_minor": 0
      },
      "text/plain": [
       "FloatProgress(value=0.0, bar_style='info', description='Progress:', layout=Layout(height='25px', width='50%'),…"
      ]
     },
     "metadata": {},
     "output_type": "display_data"
    },
    {
     "name": "stdout",
     "output_type": "stream",
     "text": [
      "+--------------------+--------------------+---+----------+----------+----------+--------+------------+------+--------------+---------------------+--------------------+----------+-------+\n",
      "|  acceptanceDateTime|     accessionNumber|act|fileNumber|filingDate|filmNumber|    form|isInlineXBRL|isXBRL|         items|primaryDocDescription|     primaryDocument|reportDate|   size|\n",
      "+--------------------+--------------------+---+----------+----------+----------+--------+------------+------+--------------+---------------------+--------------------+----------+-------+\n",
      "|2010-04-26T11:52:...|0001104659-10-021700|   |          |2010-04-26|          |SC 13D/A|           0|     0|              |             SC 13D/A|a10-8551_1sc13da.htm|          | 128457|\n",
      "|2010-04-12T17:15:...|0001104659-10-019368| 34| 001-06263|2010-04-12|  10745530|     8-K|           0|     0|1.01,2.01,9.01|                  8-K|    a10-8035_18k.htm|2010-04-07|  58759|\n",
      "|2010-04-07T16:42:...|0001127602-10-010769|   |          |2010-04-07|          |       4|           0|     0|              |     PRIMARY DOCUMENT|xslF345X03/form4.xml|2010-04-06|   8078|\n",
      "|2010-04-02T12:13:...|0001127602-10-010179|   |          |2010-04-02|          |       4|           0|     0|              |     PRIMARY DOCUMENT|xslF345X03/form4.xml|2010-04-01|  12176|\n",
      "|2010-03-29T17:24:...|0001104659-10-017022| 34| 001-06263|2010-03-29|  10711495|     8-K|           0|     0|1.01,8.01,9.01|                  8-K|    a10-7157_18k.htm|2010-03-25| 855058|\n",
      "|2010-03-22T10:04:...|0000000000-10-015578|   |          |2010-03-22|          |  UPLOAD|           0|     0|              |                     |       filename1.pdf|          |  44039|\n",
      "|2010-03-19T15:55:...|0001104659-10-015424| 34| 001-06263|2010-03-19|  10694263|    10-Q|           0|     0|              |                 10-Q|   a10-6558_110q.htm|2010-02-28|1045271|\n",
      "|2010-03-18T16:23:...|0001104659-10-015212|   |          |2010-03-18|          | CORRESP|           0|     0|              |                     |       filename1.htm|          |  19627|\n",
      "|2010-03-17T06:01:...|0001104659-10-014676| 34| 001-06263|2010-03-17|  10687398|     8-K|           0|     0|     2.02,9.01|                  8-K|    a10-6483_18k.htm|2010-03-16| 310419|\n",
      "|2010-03-05T20:35:...|0000000000-10-012687|   |          |2010-03-05|          |  UPLOAD|           0|     0|              |                     |       filename1.pdf|          |  62445|\n",
      "|2010-03-05T15:33:...|0001127602-10-007705|   |          |2010-03-05|          |     4/A|           0|     0|              |     PRIMARY DOCUMENT|xslF345X03/form4a...|2010-03-01|   4672|\n",
      "|2010-03-03T14:06:...|0001127602-10-007092|   |          |2010-03-03|          |       4|           0|     0|              |     PRIMARY DOCUMENT|xslF345X03/form4.xml|2010-03-01|   4583|\n",
      "|2010-03-03T13:43:...|0001127602-10-007079|   |          |2010-03-03|          |       4|           0|     0|              |     PRIMARY DOCUMENT|xslF345X03/form4.xml|2010-03-01|   5381|\n",
      "|2010-03-03T13:27:...|0001127602-10-007052|   |          |2010-03-03|          |       4|           0|     0|              |     PRIMARY DOCUMENT|xslF345X03/form4.xml|2010-03-01|   5437|\n",
      "|2010-02-12T17:20:...|0001398344-10-000254| 34| 005-20840|2010-02-12|  10601066|SC 13G/A|           0|     0|              |                     |fp0001365_sc13ga-...|          |   9897|\n",
      "|2010-02-12T13:03:...|0000895421-10-000335| 34| 005-20840|2010-02-12|  10596986|SC 13G/A|           0|     0|              |      AM AMENDMENT MS|        aarcorp1.txt|          |  13447|\n",
      "|2010-02-10T06:17:...|0001104659-10-005830| 34| 001-06263|2010-02-10|  10586115|     8-K|           0|     0|     8.01,9.01|                  8-K|    a10-3490_18k.htm|2010-02-09|  36519|\n",
      "|2010-02-09T17:13:...|0001102578-10-000022| 34| 005-20840|2010-02-09|  10585175|SC 13G/A|           0|     0|              | AAR CORP INC - 12...|   air13g3rd1209.txt|          |  21013|\n",
      "|2010-01-29T14:12:...|0001086364-10-006858| 34| 005-20840|2010-01-29|  10557153|  SC 13G|           0|     0|              |                     |   aarcorp123109.txt|          |  14956|\n",
      "|2010-01-28T14:50:...|0000070858-10-000042| 34| 005-20840|2010-01-28|  10553520|  SC 13G|           0|     0|              |         AAR CORP 13G|         aarcorp.htm|          | 162404|\n",
      "+--------------------+--------------------+---+----------+----------+----------+--------+------------+------+--------------+---------------------+--------------------+----------+-------+\n",
      "only showing top 20 rows"
     ]
    }
   ],
   "source": [
    "df_join.show()"
   ]
  },
  {
   "cell_type": "code",
   "execution_count": 8,
   "id": "8f6b44b6-60c6-4367-b689-bd94e359f9c4",
   "metadata": {
    "execution": {
     "iopub.execute_input": "2023-03-30T06:51:26.300189Z",
     "iopub.status.busy": "2023-03-30T06:51:26.299969Z",
     "iopub.status.idle": "2023-03-30T06:51:26.359047Z",
     "shell.execute_reply": "2023-03-30T06:51:26.358511Z",
     "shell.execute_reply.started": "2023-03-30T06:51:26.300166Z"
    },
    "tags": []
   },
   "outputs": [
    {
     "data": {
      "application/vnd.jupyter.widget-view+json": {
       "model_id": "0358f6b2c4c94d8b87efa3dca15d3087",
       "version_major": 2,
       "version_minor": 0
      },
      "text/plain": [
       "VBox()"
      ]
     },
     "metadata": {},
     "output_type": "display_data"
    },
    {
     "data": {
      "application/vnd.jupyter.widget-view+json": {
       "model_id": "",
       "version_major": 2,
       "version_minor": 0
      },
      "text/plain": [
       "FloatProgress(value=0.0, bar_style='info', description='Progress:', layout=Layout(height='25px', width='50%'),…"
      ]
     },
     "metadata": {},
     "output_type": "display_data"
    },
    {
     "name": "stdout",
     "output_type": "stream",
     "text": [
      "<class 'pyspark.sql.dataframe.DataFrame'>"
     ]
    }
   ],
   "source": [
    "type(df_join)"
   ]
  },
  {
   "cell_type": "code",
   "execution_count": 9,
   "id": "5abefb00-2f00-4902-9e4f-b0027b455183",
   "metadata": {
    "execution": {
     "iopub.execute_input": "2023-03-30T06:51:52.462915Z",
     "iopub.status.busy": "2023-03-30T06:51:52.462690Z",
     "iopub.status.idle": "2023-03-30T06:51:53.763069Z",
     "shell.execute_reply": "2023-03-30T06:51:53.762329Z",
     "shell.execute_reply.started": "2023-03-30T06:51:52.462892Z"
    },
    "tags": []
   },
   "outputs": [
    {
     "data": {
      "application/vnd.jupyter.widget-view+json": {
       "model_id": "b7fef5513f5840b29402abeedd0e9f7c",
       "version_major": 2,
       "version_minor": 0
      },
      "text/plain": [
       "VBox()"
      ]
     },
     "metadata": {},
     "output_type": "display_data"
    },
    {
     "data": {
      "application/vnd.jupyter.widget-view+json": {
       "model_id": "",
       "version_major": 2,
       "version_minor": 0
      },
      "text/plain": [
       "FloatProgress(value=0.0, bar_style='info', description='Progress:', layout=Layout(height='25px', width='50%'),…"
      ]
     },
     "metadata": {},
     "output_type": "display_data"
    },
    {
     "name": "stdout",
     "output_type": "stream",
     "text": [
      "+---------+\n",
      "|namespace|\n",
      "+---------+\n",
      "|  default|\n",
      "+---------+"
     ]
    }
   ],
   "source": [
    "spark.sql(\"SHOW DATABASES\").show()"
   ]
  },
  {
   "cell_type": "code",
   "execution_count": 10,
   "id": "e27c187c-0633-4640-8754-6f311f375107",
   "metadata": {
    "execution": {
     "iopub.execute_input": "2023-03-30T06:52:47.321353Z",
     "iopub.status.busy": "2023-03-30T06:52:47.321043Z",
     "iopub.status.idle": "2023-03-30T06:52:47.615511Z",
     "shell.execute_reply": "2023-03-30T06:52:47.614765Z",
     "shell.execute_reply.started": "2023-03-30T06:52:47.321321Z"
    },
    "tags": []
   },
   "outputs": [
    {
     "data": {
      "application/vnd.jupyter.widget-view+json": {
       "model_id": "0b4e05afdb9344edaf71b12d552fb5a9",
       "version_major": 2,
       "version_minor": 0
      },
      "text/plain": [
       "VBox()"
      ]
     },
     "metadata": {},
     "output_type": "display_data"
    },
    {
     "data": {
      "application/vnd.jupyter.widget-view+json": {
       "model_id": "",
       "version_major": 2,
       "version_minor": 0
      },
      "text/plain": [
       "FloatProgress(value=0.0, bar_style='info', description='Progress:', layout=Layout(height='25px', width='50%'),…"
      ]
     },
     "metadata": {},
     "output_type": "display_data"
    },
    {
     "name": "stdout",
     "output_type": "stream",
     "text": [
      "+--------+---------+-----------+\n",
      "|database|tableName|isTemporary|\n",
      "+--------+---------+-----------+\n",
      "+--------+---------+-----------+"
     ]
    }
   ],
   "source": [
    "spark.sql(\"SHOW tables\").show()"
   ]
  },
  {
   "cell_type": "code",
   "execution_count": 11,
   "id": "9fddd423-c29a-4b1b-80f3-2db9bd4f9a4c",
   "metadata": {
    "execution": {
     "iopub.execute_input": "2023-03-30T06:52:57.408060Z",
     "iopub.status.busy": "2023-03-30T06:52:57.407722Z",
     "iopub.status.idle": "2023-03-30T06:52:57.702032Z",
     "shell.execute_reply": "2023-03-30T06:52:57.701335Z",
     "shell.execute_reply.started": "2023-03-30T06:52:57.408020Z"
    },
    "tags": []
   },
   "outputs": [
    {
     "data": {
      "application/vnd.jupyter.widget-view+json": {
       "model_id": "95c5d5df971a4844911f87c87538e87e",
       "version_major": 2,
       "version_minor": 0
      },
      "text/plain": [
       "VBox()"
      ]
     },
     "metadata": {},
     "output_type": "display_data"
    },
    {
     "data": {
      "application/vnd.jupyter.widget-view+json": {
       "model_id": "",
       "version_major": 2,
       "version_minor": 0
      },
      "text/plain": [
       "FloatProgress(value=0.0, bar_style='info', description='Progress:', layout=Layout(height='25px', width='50%'),…"
      ]
     },
     "metadata": {},
     "output_type": "display_data"
    }
   ],
   "source": [
    "df_join.createOrReplaceTempView(\"temp_table\")"
   ]
  },
  {
   "cell_type": "code",
   "execution_count": 9,
   "id": "7b1ec191-b32f-46ef-b8a4-f5a75898710c",
   "metadata": {
    "execution": {
     "iopub.execute_input": "2023-03-30T13:42:43.146309Z",
     "iopub.status.busy": "2023-03-30T13:42:43.146053Z",
     "iopub.status.idle": "2023-03-30T13:42:43.424222Z",
     "shell.execute_reply": "2023-03-30T13:42:43.423563Z",
     "shell.execute_reply.started": "2023-03-30T13:42:43.146281Z"
    },
    "tags": []
   },
   "outputs": [
    {
     "data": {
      "application/vnd.jupyter.widget-view+json": {
       "model_id": "",
       "version_major": 2,
       "version_minor": 0
      },
      "text/plain": [
       "VBox()"
      ]
     },
     "metadata": {},
     "output_type": "display_data"
    },
    {
     "data": {
      "application/vnd.jupyter.widget-view+json": {
       "model_id": "",
       "version_major": 2,
       "version_minor": 0
      },
      "text/plain": [
       "FloatProgress(value=0.0, bar_style='info', description='Progress:', layout=Layout(height='25px', width='50%'),…"
      ]
     },
     "metadata": {},
     "output_type": "display_data"
    },
    {
     "name": "stdout",
     "output_type": "stream",
     "text": [
      "+--------+----------+-----------+\n",
      "|database| tableName|isTemporary|\n",
      "+--------+----------+-----------+\n",
      "|        |temp_table|       true|\n",
      "+--------+----------+-----------+"
     ]
    }
   ],
   "source": [
    "spark.sql(\"SHOW tables\").show()"
   ]
  },
  {
   "cell_type": "code",
   "execution_count": 12,
   "id": "7afdc7b9-88c2-4c4f-b9fe-d353956f7b28",
   "metadata": {
    "execution": {
     "iopub.execute_input": "2023-03-30T06:53:07.802955Z",
     "iopub.status.busy": "2023-03-30T06:53:07.802719Z",
     "iopub.status.idle": "2023-03-30T06:53:25.195050Z",
     "shell.execute_reply": "2023-03-30T06:53:25.194386Z",
     "shell.execute_reply.started": "2023-03-30T06:53:07.802930Z"
    },
    "tags": []
   },
   "outputs": [
    {
     "data": {
      "application/vnd.jupyter.widget-view+json": {
       "model_id": "cef9e85b18f8442c92ce7d1fcedaf3ba",
       "version_major": 2,
       "version_minor": 0
      },
      "text/plain": [
       "VBox()"
      ]
     },
     "metadata": {},
     "output_type": "display_data"
    },
    {
     "data": {
      "application/vnd.jupyter.widget-view+json": {
       "model_id": "",
       "version_major": 2,
       "version_minor": 0
      },
      "text/plain": [
       "FloatProgress(value=0.0, bar_style='info', description='Progress:', layout=Layout(height='25px', width='50%'),…"
      ]
     },
     "metadata": {},
     "output_type": "display_data"
    },
    {
     "name": "stdout",
     "output_type": "stream",
     "text": [
      "DataFrame[]"
     ]
    }
   ],
   "source": [
    "spark.sql(\"CREATE TABLE sec_table AS SELECT * FROM temp_table\")"
   ]
  },
  {
   "cell_type": "code",
   "execution_count": 13,
   "id": "c918b1b0-c89a-437d-94c1-4476fdc6b8fc",
   "metadata": {
    "execution": {
     "iopub.execute_input": "2023-03-30T06:53:38.332218Z",
     "iopub.status.busy": "2023-03-30T06:53:38.331986Z",
     "iopub.status.idle": "2023-03-30T06:53:38.607347Z",
     "shell.execute_reply": "2023-03-30T06:53:38.606479Z",
     "shell.execute_reply.started": "2023-03-30T06:53:38.332193Z"
    },
    "tags": []
   },
   "outputs": [
    {
     "data": {
      "application/vnd.jupyter.widget-view+json": {
       "model_id": "cd23e707290849b8814e78d18f7ae6a9",
       "version_major": 2,
       "version_minor": 0
      },
      "text/plain": [
       "VBox()"
      ]
     },
     "metadata": {},
     "output_type": "display_data"
    },
    {
     "data": {
      "application/vnd.jupyter.widget-view+json": {
       "model_id": "",
       "version_major": 2,
       "version_minor": 0
      },
      "text/plain": [
       "FloatProgress(value=0.0, bar_style='info', description='Progress:', layout=Layout(height='25px', width='50%'),…"
      ]
     },
     "metadata": {},
     "output_type": "display_data"
    },
    {
     "name": "stdout",
     "output_type": "stream",
     "text": [
      "+--------+----------+-----------+\n",
      "|database| tableName|isTemporary|\n",
      "+--------+----------+-----------+\n",
      "| default| sec_table|      false|\n",
      "|        |temp_table|       true|\n",
      "+--------+----------+-----------+"
     ]
    }
   ],
   "source": [
    "spark.sql(\"SHOW tables\").show()"
   ]
  },
  {
   "cell_type": "code",
   "execution_count": 35,
   "id": "1a0799fa-51eb-4326-9b1a-873fa323f799",
   "metadata": {
    "execution": {
     "iopub.execute_input": "2023-03-29T15:45:40.135192Z",
     "iopub.status.busy": "2023-03-29T15:45:40.134958Z",
     "iopub.status.idle": "2023-03-29T15:45:40.419073Z",
     "shell.execute_reply": "2023-03-29T15:45:40.418285Z",
     "shell.execute_reply.started": "2023-03-29T15:45:40.135167Z"
    }
   },
   "outputs": [
    {
     "data": {
      "application/vnd.jupyter.widget-view+json": {
       "model_id": "3730ef28b2de4c31aca0d94ebd8fdc60",
       "version_major": 2,
       "version_minor": 0
      },
      "text/plain": [
       "VBox()"
      ]
     },
     "metadata": {},
     "output_type": "display_data"
    },
    {
     "data": {
      "application/vnd.jupyter.widget-view+json": {
       "model_id": "",
       "version_major": 2,
       "version_minor": 0
      },
      "text/plain": [
       "FloatProgress(value=0.0, bar_style='info', description='Progress:', layout=Layout(height='25px', width='50%'),…"
      ]
     },
     "metadata": {},
     "output_type": "display_data"
    },
    {
     "name": "stdout",
     "output_type": "stream",
     "text": [
      "+--------------------+---------+-------+\n",
      "|            col_name|data_type|comment|\n",
      "+--------------------+---------+-------+\n",
      "|  acceptanceDateTime|   string|   null|\n",
      "|     accessionNumber|   string|   null|\n",
      "|                 act|   string|   null|\n",
      "|          fileNumber|   string|   null|\n",
      "|          filingDate|   string|   null|\n",
      "|          filmNumber|   string|   null|\n",
      "|                form|   string|   null|\n",
      "|        isInlineXBRL|   bigint|   null|\n",
      "|              isXBRL|   bigint|   null|\n",
      "|               items|   string|   null|\n",
      "|primaryDocDescrip...|   string|   null|\n",
      "|     primaryDocument|   string|   null|\n",
      "|          reportDate|   string|   null|\n",
      "|                size|   bigint|   null|\n",
      "+--------------------+---------+-------+"
     ]
    }
   ],
   "source": [
    "spark.sql(\"DESC sec_table\").show()"
   ]
  },
  {
   "cell_type": "code",
   "execution_count": 14,
   "id": "83737dac-68a6-4cd8-905a-05f8b854f267",
   "metadata": {
    "execution": {
     "iopub.execute_input": "2023-03-30T06:54:20.092963Z",
     "iopub.status.busy": "2023-03-30T06:54:20.092718Z",
     "iopub.status.idle": "2023-03-30T06:54:25.426427Z",
     "shell.execute_reply": "2023-03-30T06:54:25.425660Z",
     "shell.execute_reply.started": "2023-03-30T06:54:20.092939Z"
    },
    "tags": []
   },
   "outputs": [
    {
     "data": {
      "application/vnd.jupyter.widget-view+json": {
       "model_id": "ef62de50b3154f3d80b14ace1fc8e578",
       "version_major": 2,
       "version_minor": 0
      },
      "text/plain": [
       "VBox()"
      ]
     },
     "metadata": {},
     "output_type": "display_data"
    },
    {
     "data": {
      "application/vnd.jupyter.widget-view+json": {
       "model_id": "",
       "version_major": 2,
       "version_minor": 0
      },
      "text/plain": [
       "FloatProgress(value=0.0, bar_style='info', description='Progress:', layout=Layout(height='25px', width='50%'),…"
      ]
     },
     "metadata": {},
     "output_type": "display_data"
    }
   ],
   "source": [
    "df_join.write.mode(\"append\").insertInto(\"sec_table\")"
   ]
  },
  {
   "cell_type": "code",
   "execution_count": 15,
   "id": "40242651-539a-434d-81cd-bcb663bb425a",
   "metadata": {
    "execution": {
     "iopub.execute_input": "2023-03-30T06:54:42.564409Z",
     "iopub.status.busy": "2023-03-30T06:54:42.564174Z",
     "iopub.status.idle": "2023-03-30T06:54:45.951232Z",
     "shell.execute_reply": "2023-03-30T06:54:45.950474Z",
     "shell.execute_reply.started": "2023-03-30T06:54:42.564383Z"
    },
    "tags": []
   },
   "outputs": [
    {
     "data": {
      "application/vnd.jupyter.widget-view+json": {
       "model_id": "d3385e284c4841dc8b4f79e7e5275fd5",
       "version_major": 2,
       "version_minor": 0
      },
      "text/plain": [
       "VBox()"
      ]
     },
     "metadata": {},
     "output_type": "display_data"
    },
    {
     "data": {
      "application/vnd.jupyter.widget-view+json": {
       "model_id": "",
       "version_major": 2,
       "version_minor": 0
      },
      "text/plain": [
       "FloatProgress(value=0.0, bar_style='info', description='Progress:', layout=Layout(height='25px', width='50%'),…"
      ]
     },
     "metadata": {},
     "output_type": "display_data"
    },
    {
     "name": "stdout",
     "output_type": "stream",
     "text": [
      "+--------------------+--------------------+---+----------+----------+----------+--------+------------+------+--------------+---------------------+--------------------+----------+-------+\n",
      "|  acceptanceDateTime|     accessionNumber|act|fileNumber|filingDate|filmNumber|    form|isInlineXBRL|isXBRL|         items|primaryDocDescription|     primaryDocument|reportDate|   size|\n",
      "+--------------------+--------------------+---+----------+----------+----------+--------+------------+------+--------------+---------------------+--------------------+----------+-------+\n",
      "|2010-04-26T11:52:...|0001104659-10-021700|   |          |2010-04-26|          |SC 13D/A|           0|     0|              |             SC 13D/A|a10-8551_1sc13da.htm|          | 128457|\n",
      "|2010-04-12T17:15:...|0001104659-10-019368| 34| 001-06263|2010-04-12|  10745530|     8-K|           0|     0|1.01,2.01,9.01|                  8-K|    a10-8035_18k.htm|2010-04-07|  58759|\n",
      "|2010-04-07T16:42:...|0001127602-10-010769|   |          |2010-04-07|          |       4|           0|     0|              |     PRIMARY DOCUMENT|xslF345X03/form4.xml|2010-04-06|   8078|\n",
      "|2010-04-02T12:13:...|0001127602-10-010179|   |          |2010-04-02|          |       4|           0|     0|              |     PRIMARY DOCUMENT|xslF345X03/form4.xml|2010-04-01|  12176|\n",
      "|2010-03-29T17:24:...|0001104659-10-017022| 34| 001-06263|2010-03-29|  10711495|     8-K|           0|     0|1.01,8.01,9.01|                  8-K|    a10-7157_18k.htm|2010-03-25| 855058|\n",
      "|2010-03-22T10:04:...|0000000000-10-015578|   |          |2010-03-22|          |  UPLOAD|           0|     0|              |                     |       filename1.pdf|          |  44039|\n",
      "|2010-03-19T15:55:...|0001104659-10-015424| 34| 001-06263|2010-03-19|  10694263|    10-Q|           0|     0|              |                 10-Q|   a10-6558_110q.htm|2010-02-28|1045271|\n",
      "|2010-03-18T16:23:...|0001104659-10-015212|   |          |2010-03-18|          | CORRESP|           0|     0|              |                     |       filename1.htm|          |  19627|\n",
      "|2010-03-17T06:01:...|0001104659-10-014676| 34| 001-06263|2010-03-17|  10687398|     8-K|           0|     0|     2.02,9.01|                  8-K|    a10-6483_18k.htm|2010-03-16| 310419|\n",
      "|2010-03-05T20:35:...|0000000000-10-012687|   |          |2010-03-05|          |  UPLOAD|           0|     0|              |                     |       filename1.pdf|          |  62445|\n",
      "+--------------------+--------------------+---+----------+----------+----------+--------+------------+------+--------------+---------------------+--------------------+----------+-------+"
     ]
    }
   ],
   "source": [
    "spark.sql(\"SELECT * FROM sec_table LIMIT 10\").show()"
   ]
  },
  {
   "cell_type": "code",
   "execution_count": 16,
   "id": "1c87eb10-561a-467f-a80f-b8af7b7ad509",
   "metadata": {
    "execution": {
     "iopub.execute_input": "2023-03-30T06:54:51.313335Z",
     "iopub.status.busy": "2023-03-30T06:54:51.313010Z",
     "iopub.status.idle": "2023-03-30T06:54:53.673522Z",
     "shell.execute_reply": "2023-03-30T06:54:53.672808Z",
     "shell.execute_reply.started": "2023-03-30T06:54:51.313311Z"
    },
    "tags": []
   },
   "outputs": [
    {
     "data": {
      "application/vnd.jupyter.widget-view+json": {
       "model_id": "86e14a7c2df74403bd7febaedeb5a6cc",
       "version_major": 2,
       "version_minor": 0
      },
      "text/plain": [
       "VBox()"
      ]
     },
     "metadata": {},
     "output_type": "display_data"
    },
    {
     "data": {
      "application/vnd.jupyter.widget-view+json": {
       "model_id": "",
       "version_major": 2,
       "version_minor": 0
      },
      "text/plain": [
       "FloatProgress(value=0.0, bar_style='info', description='Progress:', layout=Layout(height='25px', width='50%'),…"
      ]
     },
     "metadata": {},
     "output_type": "display_data"
    },
    {
     "name": "stdout",
     "output_type": "stream",
     "text": [
      "+--------+\n",
      "|count(1)|\n",
      "+--------+\n",
      "|    1982|\n",
      "+--------+"
     ]
    }
   ],
   "source": [
    "spark.sql(\"SELECT COUNT(*) FROM sec_table LIMIT 10\").show()"
   ]
  },
  {
   "cell_type": "code",
   "execution_count": 24,
   "id": "a9d377ee-340e-4691-8630-a7ad2ba9387c",
   "metadata": {
    "execution": {
     "iopub.execute_input": "2023-03-30T07:31:10.360462Z",
     "iopub.status.busy": "2023-03-30T07:31:10.360245Z",
     "iopub.status.idle": "2023-03-30T07:31:12.673785Z",
     "shell.execute_reply": "2023-03-30T07:31:12.673098Z",
     "shell.execute_reply.started": "2023-03-30T07:31:10.360439Z"
    }
   },
   "outputs": [
    {
     "data": {
      "application/vnd.jupyter.widget-view+json": {
       "model_id": "b58e29682019492cb41143dc3f962a30",
       "version_major": 2,
       "version_minor": 0
      },
      "text/plain": [
       "VBox()"
      ]
     },
     "metadata": {},
     "output_type": "display_data"
    },
    {
     "data": {
      "application/vnd.jupyter.widget-view+json": {
       "model_id": "",
       "version_major": 2,
       "version_minor": 0
      },
      "text/plain": [
       "FloatProgress(value=0.0, bar_style='info', description='Progress:', layout=Layout(height='25px', width='50%'),…"
      ]
     },
     "metadata": {},
     "output_type": "display_data"
    },
    {
     "name": "stdout",
     "output_type": "stream",
     "text": [
      "['CIK0000001750-submissions-001.json', 'CIK0000001800-submissions-001.json', 'CIK0000001800-submissions-002.json', 'CIK0000002034-submissions-001.json', 'CIK0000002135-submissions-001.json', 'CIK0000002488-submissions-001.json', 'CIK0000002969-submissions-001.json', 'CIK0000003116-submissions-001.json', 'CIK0000003197-submissions-001.json', 'CIK0000003370-submissions-001.json', 'CIK0000003453-submissions-001.json', 'CIK0000003521-submissions-001.json', 'CIK0000003545-submissions-001.json', 'CIK0000003570-submissions-001.json', 'CIK0000003673-submissions-001.json', 'CIK0000003794-submissions-001.json', 'CIK0000003906-submissions-001.json', 'CIK0000004127-submissions-001.json', 'CIK0000004281-submissions-002.json', 'CIK0000004447-submissions-001.json', 'CIK0000004515-submissions-001.json', 'CIK0000004904-submissions-001.json', 'CIK0000004962-submissions-001.json', 'CIK0000004977-submissions-001.json', 'CIK0000005133-submissions-001.json', 'CIK0000005272-submissions-001.json', 'CIK0000005272-submissions-002.json', 'CIK0000005272-submissions-003.json', 'CIK0000005513-submissions-001.json', 'CIK0000005981-submissions-001.json', 'CIK0000006201-submissions-001.json', 'CIK0000006201-submissions-002.json', 'CIK0000006281-submissions-001.json', 'CIK0000006284-submissions-001.json']"
     ]
    }
   ],
   "source": [
    "dir_path = \"hdfs://ec2-65-0-45-11.ap-south-1.compute.amazonaws.com/user/hadoop/sec_data/\"\n",
    "\n",
    "# List file names in HDFS directory\n",
    "proc = subprocess.Popen([\"hadoop\", \"fs\", \"-ls\", dir_path], stdout=subprocess.PIPE)\n",
    "out, err = proc.communicate()\n",
    "\n",
    "# Convert output to list of file names\n",
    "file_names = [line.split()[-1].split('/')[-1] for line in out.decode().strip().split('\\n')[1:]]\n",
    "print(file_names)"
   ]
  },
  {
   "cell_type": "code",
   "execution_count": 25,
   "id": "82928857-b012-405e-9275-711793bb6351",
   "metadata": {
    "execution": {
     "iopub.execute_input": "2023-03-30T07:39:11.635999Z",
     "iopub.status.busy": "2023-03-30T07:39:11.635764Z",
     "iopub.status.idle": "2023-03-30T07:40:25.905349Z",
     "shell.execute_reply": "2023-03-30T07:40:25.904686Z",
     "shell.execute_reply.started": "2023-03-30T07:39:11.635975Z"
    },
    "tags": []
   },
   "outputs": [
    {
     "data": {
      "application/vnd.jupyter.widget-view+json": {
       "model_id": "acf86da31eea4053afe04630179e08eb",
       "version_major": 2,
       "version_minor": 0
      },
      "text/plain": [
       "VBox()"
      ]
     },
     "metadata": {},
     "output_type": "display_data"
    },
    {
     "data": {
      "application/vnd.jupyter.widget-view+json": {
       "model_id": "",
       "version_major": 2,
       "version_minor": 0
      },
      "text/plain": [
       "FloatProgress(value=0.0, bar_style='info', description='Progress:', layout=Layout(height='25px', width='50%'),…"
      ]
     },
     "metadata": {},
     "output_type": "display_data"
    }
   ],
   "source": [
    "for filename in file_names:\n",
    "    \n",
    "    file_path = f\"hdfs://ec2-65-0-45-11.ap-south-1.compute.amazonaws.com/user/hadoop/sec_data/{filename}\"\n",
    "    \n",
    "    df = spark.read.json(file_path)\n",
    "    \n",
    "    df1 = df.select('acceptanceDateTime').withColumn('acceptanceDateTime', explode('acceptanceDateTime')).withColumn(\"id\", monotonically_increasing_id())\n",
    "    df2 = df.select('accessionNumber').withColumn('accessionNumber', explode('accessionNumber')).withColumn(\"id\", monotonically_increasing_id())\n",
    "    df3 = df.select('act').withColumn('act', explode('act')).withColumn(\"id\", monotonically_increasing_id())\n",
    "    df4 = df.select('fileNumber').withColumn('fileNumber', explode('fileNumber')).withColumn(\"id\", monotonically_increasing_id())\n",
    "    df5 = df.select('filingDate').withColumn('filingDate', explode('filingDate')).withColumn(\"id\", monotonically_increasing_id())\n",
    "    df6 = df.select('filmNumber').withColumn('filmNumber', explode('filmNumber')).withColumn(\"id\", monotonically_increasing_id())\n",
    "    df7 = df.select('form').withColumn('form', explode('form')).withColumn(\"id\", monotonically_increasing_id())\n",
    "    df8 = df.select('isInlineXBRL').withColumn('isInlineXBRL', explode('isInlineXBRL')).withColumn(\"id\", monotonically_increasing_id())\n",
    "    df9 = df.select('isXBRL').withColumn('isXBRL', explode('isXBRL')).withColumn(\"id\", monotonically_increasing_id())\n",
    "    df10 = df.select('items').withColumn('items', explode('items')).withColumn(\"id\", monotonically_increasing_id())\n",
    "    df11 = df.select('primaryDocDescription').withColumn('primaryDocDescription', explode('primaryDocDescription')).withColumn(\"id\", monotonically_increasing_id())\n",
    "    df12 = df.select('primaryDocument').withColumn('primaryDocument', explode('primaryDocument')).withColumn(\"id\", monotonically_increasing_id())\n",
    "    df13 = df.select('reportDate').withColumn('reportDate', explode('reportDate')).withColumn(\"id\", monotonically_increasing_id())\n",
    "    df14 = df.select('size').withColumn('size', explode('size')).withColumn(\"id\", monotonically_increasing_id())\n",
    "    \n",
    "    df_join = df1.join(df2, \"id\").join(df3, \"id\").join(df4, \"id\").join(df5, \"id\") \\\n",
    "              .join(df6, \"id\").join(df7, \"id\").join(df8, \"id\").join(df9, \"id\") \\\n",
    "              .join(df10, \"id\").join(df11, \"id\").join(df12, \"id\").join(df13, \"id\") \\\n",
    "              .join(df14, \"id\").drop(\"id\")\n",
    "    \n",
    "    df_join.write.mode(\"append\").insertInto(\"sec_table\")"
   ]
  },
  {
   "cell_type": "code",
   "execution_count": 26,
   "id": "585118ba-31a3-4d5d-bcfa-b4c2e11b6c00",
   "metadata": {
    "execution": {
     "iopub.execute_input": "2023-03-30T07:41:32.195799Z",
     "iopub.status.busy": "2023-03-30T07:41:32.195576Z",
     "iopub.status.idle": "2023-03-30T07:41:45.544870Z",
     "shell.execute_reply": "2023-03-30T07:41:45.544268Z",
     "shell.execute_reply.started": "2023-03-30T07:41:32.195775Z"
    }
   },
   "outputs": [
    {
     "data": {
      "application/vnd.jupyter.widget-view+json": {
       "model_id": "c0584163b9c34572aab09a02ff16be79",
       "version_major": 2,
       "version_minor": 0
      },
      "text/plain": [
       "VBox()"
      ]
     },
     "metadata": {},
     "output_type": "display_data"
    },
    {
     "data": {
      "application/vnd.jupyter.widget-view+json": {
       "model_id": "",
       "version_major": 2,
       "version_minor": 0
      },
      "text/plain": [
       "FloatProgress(value=0.0, bar_style='info', description='Progress:', layout=Layout(height='25px', width='50%'),…"
      ]
     },
     "metadata": {},
     "output_type": "display_data"
    },
    {
     "name": "stdout",
     "output_type": "stream",
     "text": [
      "+--------+\n",
      "|count(1)|\n",
      "+--------+\n",
      "|   33329|\n",
      "+--------+"
     ]
    }
   ],
   "source": [
    "spark.sql(\"SELECT COUNT(*) FROM sec_table LIMIT 10\").show()"
   ]
  },
  {
   "cell_type": "code",
   "execution_count": 27,
   "id": "237e8f80-1b9f-49f2-a8c0-ea634fdef951",
   "metadata": {
    "execution": {
     "iopub.execute_input": "2023-03-30T07:42:35.346022Z",
     "iopub.status.busy": "2023-03-30T07:42:35.345793Z",
     "iopub.status.idle": "2023-03-30T07:42:37.648739Z",
     "shell.execute_reply": "2023-03-30T07:42:37.647957Z",
     "shell.execute_reply.started": "2023-03-30T07:42:35.345997Z"
    }
   },
   "outputs": [
    {
     "data": {
      "application/vnd.jupyter.widget-view+json": {
       "model_id": "b86d044ab2504a868c82173729b32f99",
       "version_major": 2,
       "version_minor": 0
      },
      "text/plain": [
       "VBox()"
      ]
     },
     "metadata": {},
     "output_type": "display_data"
    },
    {
     "data": {
      "application/vnd.jupyter.widget-view+json": {
       "model_id": "",
       "version_major": 2,
       "version_minor": 0
      },
      "text/plain": [
       "FloatProgress(value=0.0, bar_style='info', description='Progress:', layout=Layout(height='25px', width='50%'),…"
      ]
     },
     "metadata": {},
     "output_type": "display_data"
    },
    {
     "name": "stdout",
     "output_type": "stream",
     "text": [
      "+--------------------+--------------------+---+----------+----------+----------+----+------------+------+-----+---------------------+--------------------+----------+------+\n",
      "|  acceptanceDateTime|     accessionNumber|act|fileNumber|filingDate|filmNumber|form|isInlineXBRL|isXBRL|items|primaryDocDescription|     primaryDocument|reportDate|  size|\n",
      "+--------------------+--------------------+---+----------+----------+----------+----+------------+------+-----+---------------------+--------------------+----------+------+\n",
      "|2012-02-28T15:07:...|0001104659-12-013978| 33| 033-04959|2012-02-28|  12646582|497K|           0|     0|     |                 497K|a11-32272_23497k.htm|          |472927|\n",
      "|2012-02-28T15:06:...|0001104659-12-013976| 33| 033-04959|2012-02-28|  12646577|497K|           0|     0|     |                 497K|a11-32272_21497k.htm|          |504520|\n",
      "|2012-02-28T15:06:...|0001104659-12-013975| 33| 033-04959|2012-02-28|  12646575|497K|           0|     0|     |                 497K|a11-32272_20497k.htm|          |511523|\n",
      "|2012-02-28T15:04:...|0001104659-12-013969| 33| 033-04959|2012-02-28|  12646561|497K|           0|     0|     |                 497K|a11-32272_13497k.htm|          |475348|\n",
      "|2012-02-28T15:04:...|0001104659-12-013967| 33| 033-04959|2012-02-28|  12646555|497K|           0|     0|     |                 497K|a11-32272_12497k.htm|          |513631|\n",
      "+--------------------+--------------------+---+----------+----------+----------+----+------------+------+-----+---------------------+--------------------+----------+------+"
     ]
    }
   ],
   "source": [
    "spark.sql(\"SELECT * FROM sec_table LIMIT 5\").show()"
   ]
  },
  {
   "cell_type": "code",
   "execution_count": 23,
   "id": "5accfb28-e7ca-4033-8672-50774f2bad44",
   "metadata": {
    "execution": {
     "iopub.execute_input": "2023-03-30T14:05:21.271453Z",
     "iopub.status.busy": "2023-03-30T14:05:21.271194Z",
     "iopub.status.idle": "2023-03-30T14:05:34.608596Z",
     "shell.execute_reply": "2023-03-30T14:05:34.607856Z",
     "shell.execute_reply.started": "2023-03-30T14:05:21.271426Z"
    },
    "tags": []
   },
   "outputs": [
    {
     "data": {
      "application/vnd.jupyter.widget-view+json": {
       "model_id": "973fbd65e7ec4298ad8a54192a3206b4",
       "version_major": 2,
       "version_minor": 0
      },
      "text/plain": [
       "VBox()"
      ]
     },
     "metadata": {},
     "output_type": "display_data"
    },
    {
     "data": {
      "application/vnd.jupyter.widget-view+json": {
       "model_id": "",
       "version_major": 2,
       "version_minor": 0
      },
      "text/plain": [
       "FloatProgress(value=0.0, bar_style='info', description='Progress:', layout=Layout(height='25px', width='50%'),…"
      ]
     },
     "metadata": {},
     "output_type": "display_data"
    },
    {
     "name": "stdout",
     "output_type": "stream",
     "text": [
      "Databases:\n",
      "default"
     ]
    }
   ],
   "source": [
    "cmd = \"hive -e 'SHOW DATABASES;'\"\n",
    "\n",
    "result = subprocess.run(cmd, shell=True, stdout=subprocess.PIPE, stderr=subprocess.PIPE, text=True)\n",
    "\n",
    "if result.returncode == 0:\n",
    "    print('Databases:')\n",
    "    print(result.stdout)\n",
    "else:\n",
    "    print('Error accessing directory')\n",
    "    print(result.stderr)"
   ]
  },
  {
   "cell_type": "code",
   "execution_count": 24,
   "id": "da6d64a5-7bc2-4197-bfd8-737f40d547d2",
   "metadata": {
    "execution": {
     "iopub.execute_input": "2023-03-30T14:05:49.236460Z",
     "iopub.status.busy": "2023-03-30T14:05:49.236220Z",
     "iopub.status.idle": "2023-03-30T14:06:02.567990Z",
     "shell.execute_reply": "2023-03-30T14:06:02.567141Z",
     "shell.execute_reply.started": "2023-03-30T14:05:49.236434Z"
    },
    "tags": []
   },
   "outputs": [
    {
     "data": {
      "application/vnd.jupyter.widget-view+json": {
       "model_id": "cdfcd43284b24daeb25e7ef840f5403f",
       "version_major": 2,
       "version_minor": 0
      },
      "text/plain": [
       "VBox()"
      ]
     },
     "metadata": {},
     "output_type": "display_data"
    },
    {
     "data": {
      "application/vnd.jupyter.widget-view+json": {
       "model_id": "",
       "version_major": 2,
       "version_minor": 0
      },
      "text/plain": [
       "FloatProgress(value=0.0, bar_style='info', description='Progress:', layout=Layout(height='25px', width='50%'),…"
      ]
     },
     "metadata": {},
     "output_type": "display_data"
    },
    {
     "name": "stdout",
     "output_type": "stream",
     "text": [
      "Directory content:\n",
      "2010-04-26T11:52:29.000Z\t0001104659-10-021700\t\t\t2010-04-26\t\tSC 13D/A\t0\t0\t\tSC 13D/A\ta10-8551_1sc13da.htm\t\t128457\n",
      "2010-04-12T17:15:56.000Z\t0001104659-10-019368\t34\t001-06263\t2010-04-12\t10745530\t8-K\t0\t0\t1.01,2.01,9.01\t8-K\ta10-8035_18k.htm\t2010-04-07\t58759\n",
      "2010-04-07T16:42:24.000Z\t0001127602-10-010769\t\t\t2010-04-07\t\t4\t0\t0\t\tPRIMARY DOCUMENT\txslF345X03/form4.xml\t2010-04-06\t8078\n",
      "2010-04-02T12:13:19.000Z\t0001127602-10-010179\t\t\t2010-04-02\t\t4\t0\t0\t\tPRIMARY DOCUMENT\txslF345X03/form4.xml\t2010-04-01\t12176\n",
      "2010-03-29T17:24:20.000Z\t0001104659-10-017022\t34\t001-06263\t2010-03-29\t10711495\t8-K\t0\t0\t1.01,8.01,9.01\t8-K\ta10-7157_18k.htm\t2010-03-25\t855058"
     ]
    }
   ],
   "source": [
    "cmd = \"hive -e 'SELECT * FROM sec_table LIMIT 5;'\"\n",
    "\n",
    "result = subprocess.run(cmd, shell=True, stdout=subprocess.PIPE, stderr=subprocess.PIPE, text=True)\n",
    "\n",
    "if result.returncode == 0:\n",
    "    print('Directory content:')\n",
    "    print(result.stdout)\n",
    "else:\n",
    "    print('Error accessing directory')\n",
    "    print(result.stderr)"
   ]
  }
 ],
 "metadata": {
  "kernelspec": {
   "display_name": "Sparkmagic (PySpark)",
   "language": "python",
   "name": "pysparkkernel"
  },
  "language_info": {
   "codemirror_mode": {
    "name": "python",
    "version": 3
   },
   "file_extension": ".py",
   "mimetype": "text/x-python",
   "name": "pyspark",
   "pygments_lexer": "python3"
  }
 },
 "nbformat": 4,
 "nbformat_minor": 5
}
